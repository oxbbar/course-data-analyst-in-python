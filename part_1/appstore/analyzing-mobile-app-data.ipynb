{
 "cells": [
  {
   "cell_type": "markdown",
   "id": "b4a75ff1-0f92-4c9a-8baf-b27dc6b06653",
   "metadata": {},
   "source": [
    "# Analysing Mobile App Data "
   ]
  },
  {
   "cell_type": "markdown",
   "id": "1bfd471a-781e-42e7-bcec-6b2c371e59fe",
   "metadata": {
    "tags": []
   },
   "source": [
    "## Description of the Project"
   ]
  },
  {
   "cell_type": "markdown",
   "id": "3e9ee467-f7ac-4e58-b489-ae4e9a2b6d73",
   "metadata": {},
   "source": [
    "We are part of a company that builds Android and iOS mobile apps. We make them available on Google Play and the App Store. \n",
    "\n",
    "We only build apps that are free to download and install, and our main source of revenue consists of in-app ads. This means that the number of users of our apps determines our revenue for any given app — the more users who see and engage with the ads, the better. Our goal for this project is to analyze data to help our developers understand what type of apps are likely to attract more users.\n",
    "\n",
    "As of Q3 2022, there were approximately 1.6 million iOS apps available on the App Store, and 3.5 million Android apps on Google Play."
   ]
  },
  {
   "cell_type": "markdown",
   "id": "c900b911-44c1-48e5-87e4-4d3bfdc12cac",
   "metadata": {},
   "source": [
    "## Project Goal"
   ]
  },
  {
   "cell_type": "markdown",
   "id": "7a6dd57b-9ac3-4f6a-b483-2917c214f7eb",
   "metadata": {},
   "source": [
    "The goal is to collect and analyse data about mobile apps to help developers understand what type of apps are likely to attract more users."
   ]
  },
  {
   "cell_type": "markdown",
   "id": "eb835307-eed9-43a0-9ab1-b14f87ed2600",
   "metadata": {},
   "source": [
    "## Opening and Exploring the Data"
   ]
  },
  {
   "cell_type": "markdown",
   "id": "4608ff91-005a-4551-91c0-f1be085493b0",
   "metadata": {},
   "source": [
    "Collecting data for over 4 million apps requires a significant amount of time and money, so we'll try to analyze a sample of the data instead. To avoid spending resources on collecting new data ourselves, we should first try to see if we can find any relevant existing data at no cost. Luckily, here are two data sets that seem suitable for our goals:\n",
    "\n",
    "- [A dataset](https://www.kaggle.com/lava18/google-play-store-apps) containing data about approximately 10,000 Android apps from Google Play; the data was collected in August 2018.\n",
    "- [A dataset](https://www.kaggle.com/ramamet4/app-store-apple-data-set-10k-apps) containing data about approximately 7,000 iOS apps from the App Store; the data was collected in July 2017."
   ]
  },
  {
   "cell_type": "markdown",
   "id": "43e32ac1-a687-48d0-be42-66bb982d5eb5",
   "metadata": {},
   "source": [
    "Importing the packages needed to do the analysis:"
   ]
  },
  {
   "cell_type": "code",
   "execution_count": 2,
   "id": "b4d178de-e547-4304-a98c-26442ca8b9b1",
   "metadata": {},
   "outputs": [],
   "source": [
    "import pandas as pd\n",
    "import re\n",
    "import matplotlib.pyplot as plt\n",
    "from IPython.display import display, HTML"
   ]
  },
  {
   "cell_type": "markdown",
   "id": "4764ebd3-042b-4e52-8f6a-e16e2f95467a",
   "metadata": {},
   "source": [
    "Importing the csv files to lists:"
   ]
  },
  {
   "cell_type": "code",
   "execution_count": 3,
   "id": "554017f0-cc20-4a6f-8a8b-b3cbc108b1ff",
   "metadata": {},
   "outputs": [],
   "source": [
    "from csv import reader\n",
    "\n",
    "### The Google Play data set ###\n",
    "opened_file = open('googleplaystore.csv', encoding='UTF8')\n",
    "read_file = reader(opened_file)\n",
    "android = list(read_file)\n",
    "android_header = android[0]\n",
    "android = android[1:]\n",
    "\n",
    "### The App Store data set ###\n",
    "opened_file = open('AppleStore.csv', encoding='UTF8')\n",
    "read_file = reader(opened_file)\n",
    "ios = list(read_file)\n",
    "ios_header = ios[0]\n",
    "ios = ios[1:]"
   ]
  },
  {
   "cell_type": "markdown",
   "id": "96a0443d-8208-4203-a1a4-7a500a9ce8ee",
   "metadata": {},
   "source": [
    "Defining a function to explore the data sets:"
   ]
  },
  {
   "cell_type": "code",
   "execution_count": 4,
   "id": "1ebdddbb-e47e-458b-aa21-dfbe1c072e0b",
   "metadata": {},
   "outputs": [],
   "source": [
    "def explore_data(dataset, start, end, rows_and_columns=False):\n",
    "    dataset_slice = dataset[start:end]    \n",
    "    for row in dataset_slice:\n",
    "        print(row)\n",
    "        print('\\n') # adds a new (empty) line after each row\n",
    "\n",
    "    if rows_and_columns:\n",
    "        print('Number of rows:', len(dataset))\n",
    "        print('Number of columns:', len(dataset[0]))"
   ]
  },
  {
   "cell_type": "markdown",
   "id": "79dab6ed-5ae1-40f5-9b46-caddc82387a6",
   "metadata": {},
   "source": [
    "Testing the functionality:"
   ]
  },
  {
   "cell_type": "code",
   "execution_count": 5,
   "id": "67ff987a-2477-4df2-834c-4c9bc83d5ed0",
   "metadata": {},
   "outputs": [
    {
     "name": "stdout",
     "output_type": "stream",
     "text": [
      "['Photo Editor & Candy Camera & Grid & ScrapBook', 'ART_AND_DESIGN', '4.1', '159', '19M', '10,000+', 'Free', '0', 'Everyone', 'Art & Design', 'January 7, 2018', '1.0.0', '4.0.3 and up']\n",
      "\n",
      "\n",
      "['Coloring book moana', 'ART_AND_DESIGN', '3.9', '967', '14M', '500,000+', 'Free', '0', 'Everyone', 'Art & Design;Pretend Play', 'January 15, 2018', '2.0.0', '4.0.3 and up']\n",
      "\n",
      "\n"
     ]
    }
   ],
   "source": [
    "explore_data(android,0,2)"
   ]
  },
  {
   "cell_type": "markdown",
   "id": "429f10b9-2186-4804-a992-901639eda743",
   "metadata": {},
   "source": [
    "Looking at the structure of the headers:"
   ]
  },
  {
   "cell_type": "code",
   "execution_count": 6,
   "id": "cf10e789-51f3-447c-b2d4-a96d71def4de",
   "metadata": {},
   "outputs": [
    {
     "name": "stdout",
     "output_type": "stream",
     "text": [
      "['App', 'Category', 'Rating', 'Reviews', 'Size', 'Installs', 'Type', 'Price', 'Content Rating', 'Genres', 'Last Updated', 'Current Ver', 'Android Ver']\n",
      "\n",
      "\n",
      "['id', 'track_name', 'size_bytes', 'currency', 'price', 'rating_count_tot', 'rating_count_ver', 'user_rating', 'user_rating_ver', 'ver', 'cont_rating', 'prime_genre', 'sup_devices.num', 'ipadSc_urls.num', 'lang.num', 'vpp_lic']\n"
     ]
    }
   ],
   "source": [
    "print(android_header)\n",
    "print('\\n')\n",
    "print(ios_header)"
   ]
  },
  {
   "cell_type": "markdown",
   "id": "dd294f59-0a74-45d8-bdd8-c3efce9d300e",
   "metadata": {},
   "source": [
    "## Cleaning the data to correct/remove inaccurate data, remove duplicates, remove non-English apps and remove apps that aren't free:"
   ]
  },
  {
   "cell_type": "markdown",
   "id": "4bc48f19-a6aa-4831-9c88-924b071248ac",
   "metadata": {},
   "source": [
    "### Correcting and/or Removing Inaccurate Data"
   ]
  },
  {
   "cell_type": "markdown",
   "id": "7da8e65e-ad4f-49df-a222-848850f54a05",
   "metadata": {},
   "source": [
    "To determine if some rows have incomplete data that are resulting in a shorter list of elements:"
   ]
  },
  {
   "cell_type": "markdown",
   "id": "8d7adec3-b42c-4546-bfd1-2b3747ca3ba0",
   "metadata": {},
   "source": [
    "For the android data:"
   ]
  },
  {
   "cell_type": "code",
   "execution_count": 7,
   "id": "a6b7b03b-b365-4ce8-8686-f8bba54378b1",
   "metadata": {},
   "outputs": [
    {
     "name": "stdout",
     "output_type": "stream",
     "text": [
      "13\n",
      "['Life Made WI-Fi Touchscreen Photo Frame', '1.9', '19', '3.0M', '1,000+', 'Free', '0', 'Everyone', '', 'February 11, 2018', '1.0.19', '4.0 and up']\n",
      "\n",
      "\n",
      "Index postion is: 10472\n"
     ]
    }
   ],
   "source": [
    "## For each row in the android data set, if the length of the row is not equal to the length of the header, print the row, print it's index position.\n",
    "\n",
    "android_header_length = len(android_header)\n",
    "print(android_header_length)\n",
    "\n",
    "for row in android[1:]:\n",
    "    if len(row) != len(android_header):\n",
    "        print(row)\n",
    "        print(\"\\n\")\n",
    "        print(\"Index postion is:\", android.index(row))"
   ]
  },
  {
   "cell_type": "markdown",
   "id": "abff54c1-7603-4910-81c9-3fd1df318362",
   "metadata": {},
   "source": [
    "This indicates that the row for the app \"Life Made WI-Fi Touchscreen Photo Frame\" is missing a value (it's Category) and will most likely cause errors in analyses later (e.g. string values mixed with floats)."
   ]
  },
  {
   "cell_type": "markdown",
   "id": "906c37f7-d3ce-42de-b9d8-9d48826a9fcf",
   "metadata": {},
   "source": [
    "For the ios data:"
   ]
  },
  {
   "cell_type": "code",
   "execution_count": 8,
   "id": "815f57f4-e0fa-45d4-9e5e-ff9dc66ed926",
   "metadata": {},
   "outputs": [
    {
     "name": "stdout",
     "output_type": "stream",
     "text": [
      "16\n"
     ]
    }
   ],
   "source": [
    "## For each row in the ios data set, if the length of the row is not equal to the length of the header, print the row, print it's index position.\n",
    "\n",
    "ios_header_length = len(ios_header)\n",
    "print(ios_header_length)\n",
    "\n",
    "for row in ios[1:]:\n",
    "    if len(row) != ios_header_length:\n",
    "        print(row)\n",
    "        print(\"\\n\")\n",
    "        print(\"Index postion is:\", ios.index(row))"
   ]
  },
  {
   "cell_type": "markdown",
   "id": "dc2d06f9-fa47-4e33-b8e4-9894a4756de7",
   "metadata": {},
   "source": [
    "Removing the incorrect row from the android data:"
   ]
  },
  {
   "cell_type": "code",
   "execution_count": 9,
   "id": "44c86a63-ce40-4efe-803d-1d1a7ee9c9b2",
   "metadata": {},
   "outputs": [
    {
     "name": "stdout",
     "output_type": "stream",
     "text": [
      "10841\n",
      "10840\n"
     ]
    }
   ],
   "source": [
    "print(len(android))\n",
    "del(android[10472])\n",
    "print(len(android))"
   ]
  },
  {
   "cell_type": "markdown",
   "id": "4c1cc121-1cee-4a95-ac91-4f6db5ccb203",
   "metadata": {},
   "source": [
    "### Removing duplicate entries:"
   ]
  },
  {
   "cell_type": "markdown",
   "id": "90758593-31ca-4ca9-8706-96446834e0e7",
   "metadata": {},
   "source": [
    "Some apps may appear more than once in each data set. To determine if this is true, we will use the app name as reference and add any duplicates to a separate list."
   ]
  },
  {
   "cell_type": "markdown",
   "id": "45519b5b-84b3-4a10-8536-dbb16da6d136",
   "metadata": {},
   "source": [
    "Determining the number of duplicate entries:"
   ]
  },
  {
   "cell_type": "code",
   "execution_count": 10,
   "id": "e18814f6-ca30-4d55-9d4d-63316abed1e7",
   "metadata": {},
   "outputs": [
    {
     "name": "stdout",
     "output_type": "stream",
     "text": [
      "1181\n",
      "9659\n"
     ]
    }
   ],
   "source": [
    "duplicate_apps = []\n",
    "unique_apps = []\n",
    "\n",
    "for app in android:\n",
    "    \n",
    "    ## the variable \"name\" is whatever is in the first element position\n",
    "    name = app[0]\n",
    "    \n",
    "    ## if the \"name\" is already in the \"unique_apps\" list, then add it to the \"duplicate_apps\" list\n",
    "    if name in unique_apps:\n",
    "        duplicate_apps.append(name)\n",
    "        \n",
    "    ## else put the \"name\" into the \"unique_apps\" list\n",
    "    else:\n",
    "        unique_apps.append(name)\n",
    "\n",
    "# print the length of each list\n",
    "print(len(duplicate_apps))\n",
    "print(len(unique_apps))        "
   ]
  },
  {
   "cell_type": "markdown",
   "id": "2dc5e53c-1dae-4a18-ab66-7d7e1f747fe3",
   "metadata": {},
   "source": [
    "Looking at example duplicates:"
   ]
  },
  {
   "cell_type": "code",
   "execution_count": 11,
   "id": "c6c0f488-f953-48f6-ae04-1619264746ea",
   "metadata": {},
   "outputs": [
    {
     "name": "stdout",
     "output_type": "stream",
     "text": [
      "['Quick PDF Scanner + OCR FREE', 'Box', 'Google My Business', 'ZOOM Cloud Meetings']\n"
     ]
    }
   ],
   "source": [
    "print(duplicate_apps[:4])"
   ]
  },
  {
   "cell_type": "markdown",
   "id": "ff8ee1d3-5624-42d0-b01a-ada5b3c24b15",
   "metadata": {},
   "source": [
    "Querying how many duplicates of one of these exist:"
   ]
  },
  {
   "cell_type": "code",
   "execution_count": 12,
   "id": "f60e0300-d8f2-47d6-a3ca-8d753a522524",
   "metadata": {},
   "outputs": [
    {
     "name": "stdout",
     "output_type": "stream",
     "text": [
      "['Google My Business', 'BUSINESS', '4.4', '70991', 'Varies with device', '5,000,000+', 'Free', '0', 'Everyone', 'Business', 'July 24, 2018', '2.19.0.204537701', '4.4 and up']\n",
      "['Google My Business', 'BUSINESS', '4.4', '70991', 'Varies with device', '5,000,000+', 'Free', '0', 'Everyone', 'Business', 'July 24, 2018', '2.19.0.204537701', '4.4 and up']\n",
      "['Google My Business', 'BUSINESS', '4.4', '70991', 'Varies with device', '5,000,000+', 'Free', '0', 'Everyone', 'Business', 'July 24, 2018', '2.19.0.204537701', '4.4 and up']\n"
     ]
    }
   ],
   "source": [
    "for app in android:\n",
    "    if app[0] == 'Google My Business':\n",
    "        print(app)"
   ]
  },
  {
   "cell_type": "markdown",
   "id": "57722524-ba01-401c-afa2-7d4ca39fc839",
   "metadata": {},
   "source": [
    "For \"Google My Business\", there are three entries."
   ]
  },
  {
   "cell_type": "markdown",
   "id": "01b628b6-62d0-479e-b9c9-d62f87870477",
   "metadata": {},
   "source": [
    "Discussion on Kaggle indicates that Instagram has multiple entires, but the reviews for each differ:"
   ]
  },
  {
   "cell_type": "code",
   "execution_count": 13,
   "id": "e814b868-c97d-4001-8485-1710078059f8",
   "metadata": {},
   "outputs": [
    {
     "name": "stdout",
     "output_type": "stream",
     "text": [
      "['Instagram', 'SOCIAL', '4.5', '66577313', 'Varies with device', '1,000,000,000+', 'Free', '0', 'Teen', 'Social', 'July 31, 2018', 'Varies with device', 'Varies with device']\n",
      "['Instagram', 'SOCIAL', '4.5', '66577446', 'Varies with device', '1,000,000,000+', 'Free', '0', 'Teen', 'Social', 'July 31, 2018', 'Varies with device', 'Varies with device']\n",
      "['Instagram', 'SOCIAL', '4.5', '66577313', 'Varies with device', '1,000,000,000+', 'Free', '0', 'Teen', 'Social', 'July 31, 2018', 'Varies with device', 'Varies with device']\n",
      "['Instagram', 'SOCIAL', '4.5', '66509917', 'Varies with device', '1,000,000,000+', 'Free', '0', 'Teen', 'Social', 'July 31, 2018', 'Varies with device', 'Varies with device']\n"
     ]
    }
   ],
   "source": [
    "for app in android:\n",
    "    if app[0] == 'Instagram':\n",
    "        print(app)"
   ]
  },
  {
   "cell_type": "markdown",
   "id": "a203334e-4a0b-4783-81f3-7338fa69f8a3",
   "metadata": {},
   "source": [
    "These duplicates need to be removed, but the entry with the highest number of reviews should be the duplicate that is kept."
   ]
  },
  {
   "cell_type": "markdown",
   "id": "f0dfcf3a-8ae5-49c3-bdfb-6e7d19df2e20",
   "metadata": {},
   "source": [
    "To make a list of unique apps with its number of reviews being the maximum from the duplicates."
   ]
  },
  {
   "cell_type": "code",
   "execution_count": 101,
   "id": "5d47df08-26ed-40d3-b57b-7c0700b893ec",
   "metadata": {},
   "outputs": [
    {
     "name": "stdout",
     "output_type": "stream",
     "text": [
      "9659\n"
     ]
    }
   ],
   "source": [
    "reviews_max = {}\n",
    "for app in android:\n",
    "    name = app[0]\n",
    "    n_reviews = float(app[3])\n",
    "    if name in reviews_max:\n",
    "        if n_reviews > reviews_max[name]:\n",
    "            reviews_max[name] = n_reviews        \n",
    "    elif name not in reviews_max:\n",
    "        reviews_max[name] = n_reviews\n",
    "        \n",
    "print(len(reviews_max))"
   ]
  },
  {
   "cell_type": "markdown",
   "id": "c863aa12-cdc2-4707-a5bb-59d402e8fd2c",
   "metadata": {},
   "source": [
    "To filter the list of android apps to remove duplicates with the fewest reviews:"
   ]
  },
  {
   "cell_type": "code",
   "execution_count": 102,
   "id": "fa53fd44-ebc0-49ee-baab-0b8498cc1520",
   "metadata": {},
   "outputs": [
    {
     "name": "stdout",
     "output_type": "stream",
     "text": [
      "9659\n",
      "9659\n",
      "1181\n"
     ]
    }
   ],
   "source": [
    "android_clean = []\n",
    "already_added = []\n",
    "android_duplicates = []\n",
    "\n",
    "for app in android:\n",
    "    name = app[0]\n",
    "    n_reviews = float(app[3])\n",
    "    if (reviews_max[name] == n_reviews) and (name not in already_added):\n",
    "        android_clean.append(app)\n",
    "        already_added.append(name)\n",
    "    else:\n",
    "        android_duplicates.append(app)\n",
    "        \n",
    "print(len(android_clean))\n",
    "print(len(already_added))\n",
    "print(len(android_duplicates))"
   ]
  },
  {
   "cell_type": "markdown",
   "id": "34a36ede-87e2-445f-b012-3c69805898a0",
   "metadata": {},
   "source": [
    "Exploring the data set:"
   ]
  },
  {
   "cell_type": "code",
   "execution_count": 103,
   "id": "b96336e4-5842-4993-80fb-bcf3eb3c88f1",
   "metadata": {},
   "outputs": [
    {
     "name": "stdout",
     "output_type": "stream",
     "text": [
      "['Photo Editor & Candy Camera & Grid & ScrapBook', 'ART_AND_DESIGN', '4.1', '159', '19M', '10,000+', 'Free', '0', 'Everyone', 'Art & Design', 'January 7, 2018', '1.0.0', '4.0.3 and up']\n",
      "\n",
      "\n",
      "['U Launcher Lite – FREE Live Cool Themes, Hide Apps', 'ART_AND_DESIGN', '4.7', '87510', '8.7M', '5,000,000+', 'Free', '0', 'Everyone', 'Art & Design', 'August 1, 2018', '1.2.4', '4.0.3 and up']\n",
      "\n",
      "\n",
      "['Sketch - Draw & Paint', 'ART_AND_DESIGN', '4.5', '215644', '25M', '50,000,000+', 'Free', '0', 'Teen', 'Art & Design', 'June 8, 2018', 'Varies with device', '4.2 and up']\n",
      "\n",
      "\n",
      "Number of rows: 9659\n",
      "Number of columns: 13\n"
     ]
    }
   ],
   "source": [
    "explore_data(android_clean, 0, 3, True)"
   ]
  },
  {
   "cell_type": "markdown",
   "id": "1291a0b4-290a-4411-8a44-9a86bc695d66",
   "metadata": {},
   "source": [
    "Determining if the 'Instagram' duplicates are gone and the remaining entry has the most reviews."
   ]
  },
  {
   "cell_type": "code",
   "execution_count": 104,
   "id": "f1579be8-cf86-4a08-baaf-c4e4b5081400",
   "metadata": {},
   "outputs": [
    {
     "name": "stdout",
     "output_type": "stream",
     "text": [
      "['Instagram', 'SOCIAL', '4.5', '66577446', 'Varies with device', '1,000,000,000+', 'Free', '0', 'Teen', 'Social', 'July 31, 2018', 'Varies with device', 'Varies with device']\n"
     ]
    }
   ],
   "source": [
    "for app in android_clean:\n",
    "    if app[0] == 'Instagram':\n",
    "        print(app)"
   ]
  },
  {
   "cell_type": "markdown",
   "id": "685907d5-b374-4cf1-aad1-22865f163020",
   "metadata": {},
   "source": [
    "Determining the number of duplicate entries in the ios data:"
   ]
  },
  {
   "cell_type": "code",
   "execution_count": 105,
   "id": "f20edfe5-810d-4061-bfe8-49af8949b578",
   "metadata": {},
   "outputs": [
    {
     "name": "stdout",
     "output_type": "stream",
     "text": [
      "0\n",
      "7197\n"
     ]
    }
   ],
   "source": [
    "duplicate_ios_apps = []\n",
    "unique_ios_apps = []\n",
    "\n",
    "for app in ios:\n",
    "    \n",
    "    ## the variable \"name\" is whatever is in the first element position\n",
    "    name = app[0]\n",
    "    \n",
    "    ## if the \"name\" is already in the \"unique_apps\" list, then add it to the \"duplicate_apps\" list\n",
    "    if name in unique_ios_apps:\n",
    "        duplicate_ios_apps.append(name)\n",
    "        \n",
    "    ## else put the \"name\" into the \"unique_apps\" list\n",
    "    else:\n",
    "        unique_ios_apps.append(name)\n",
    "\n",
    "# print the length of each list\n",
    "print(len(duplicate_ios_apps))\n",
    "print(len(unique_ios_apps))        "
   ]
  },
  {
   "cell_type": "markdown",
   "id": "7d5c5332-5986-4cfd-b850-c94d05d2dc44",
   "metadata": {},
   "source": [
    "There are no duplicates in the ios apps data."
   ]
  },
  {
   "cell_type": "markdown",
   "id": "8466d5a7-c145-470c-b16c-8bb27000de9d",
   "metadata": {},
   "source": [
    "### Removing Non-English Apps"
   ]
  },
  {
   "cell_type": "markdown",
   "id": "9b2e2cad-f603-4432-8b4b-852473054797",
   "metadata": {},
   "source": [
    "English text usually includes letters from the English alphabet, numbers composed of digits from 0 to 9, punctuation marks (., !, ?, ;), and other symbols (+, *, /)."
   ]
  },
  {
   "cell_type": "markdown",
   "id": "a6f55a9e-44e0-42e0-9aca-a98e8fb5ed58",
   "metadata": {},
   "source": [
    "The numbers corresponding to the characters we commonly use in an English text are all in the range 0 to 127, according to the ASCII (American Standard Code for Information Interchange) system. Detecting characters above this range will generally determine if text is in non-English."
   ]
  },
  {
   "cell_type": "code",
   "execution_count": 19,
   "id": "4dee21d3-fe66-4b89-8c45-910f09d526d5",
   "metadata": {},
   "outputs": [
    {
     "name": "stdout",
     "output_type": "stream",
     "text": [
      "True\n",
      "False\n"
     ]
    }
   ],
   "source": [
    "def is_english(string):\n",
    "    for character in string:\n",
    "        if ord(character) > 127:\n",
    "            return False\n",
    "    return True\n",
    "        \n",
    "print(is_english('hello'))\n",
    "print(is_english('爱奇艺PPS 欢乐颂2》电视剧热播'))"
   ]
  },
  {
   "cell_type": "markdown",
   "id": "e5d9b303-450a-4735-bd71-d55221d37cbf",
   "metadata": {},
   "source": [
    "The problem with this function, is that it will also determine symbols like a trademark or emoji as non-English."
   ]
  },
  {
   "cell_type": "code",
   "execution_count": 20,
   "id": "10697111-8f33-46e5-bb8d-ed94d2982d5a",
   "metadata": {},
   "outputs": [
    {
     "name": "stdout",
     "output_type": "stream",
     "text": [
      "False\n",
      "False\n"
     ]
    }
   ],
   "source": [
    "print(is_english('Docs To Go™ Free Office Suite'))\n",
    "print(is_english('Instachat 😜'))"
   ]
  },
  {
   "cell_type": "markdown",
   "id": "cb233090-b8bd-4bb5-8867-1ee2a42e3994",
   "metadata": {},
   "source": [
    "A method needs to be established to determine how to separate these titles from non-English titles as best we can. We'll use a criteria of three consecutive characters being above the 127 range."
   ]
  },
  {
   "cell_type": "code",
   "execution_count": 21,
   "id": "105bcd56-a532-460e-b6a7-2ee0c4d1d459",
   "metadata": {},
   "outputs": [
    {
     "name": "stdout",
     "output_type": "stream",
     "text": [
      "True\n",
      "False\n"
     ]
    }
   ],
   "source": [
    "def is_english(string):\n",
    "    non_ascii = 0\n",
    "    \n",
    "    for character in string:\n",
    "        if ord(character) > 127:\n",
    "            non_ascii += 1\n",
    "            \n",
    "    if non_ascii > 3:\n",
    "        return False\n",
    "    else:\n",
    "        return True\n",
    "\n",
    "print(is_english('Instachat 😜'))\n",
    "print(is_english('爱奇艺PPS 欢乐颂2》电视剧热播'))"
   ]
  },
  {
   "cell_type": "markdown",
   "id": "ac350496-83ac-4e90-83ed-d5eddd9e57b5",
   "metadata": {},
   "source": [
    "Using this function to filter the app lists down to English apps:"
   ]
  },
  {
   "cell_type": "code",
   "execution_count": 22,
   "id": "40813854-cc58-4721-9746-89a3df462bf4",
   "metadata": {},
   "outputs": [
    {
     "name": "stdout",
     "output_type": "stream",
     "text": [
      "9614\n",
      "6183\n"
     ]
    }
   ],
   "source": [
    "android_english = []\n",
    "ios_english = []\n",
    "\n",
    "for app in android_clean:\n",
    "    name = app[0]\n",
    "    if is_english(name) == True:\n",
    "        android_english.append(app)\n",
    "\n",
    "for app in ios:\n",
    "    name = app[1]\n",
    "    if is_english(name) == True:\n",
    "        ios_english.append(app)  \n",
    "        \n",
    "print(len(android_english))\n",
    "print(len(ios_english))"
   ]
  },
  {
   "cell_type": "markdown",
   "id": "c3f22763-6792-41ac-94a6-581dce71617b",
   "metadata": {},
   "source": [
    "### Isolating Free Apps"
   ]
  },
  {
   "cell_type": "markdown",
   "id": "ea364f05-0b97-41f9-bcee-99e575cd11c1",
   "metadata": {},
   "source": [
    "Filtering the app lists to online include those that are free:"
   ]
  },
  {
   "cell_type": "code",
   "execution_count": 34,
   "id": "61d42042-3b59-47fa-a08f-2d282aedd492",
   "metadata": {},
   "outputs": [
    {
     "name": "stdout",
     "output_type": "stream",
     "text": [
      "8864\n",
      "3222\n"
     ]
    }
   ],
   "source": [
    "android_free = []\n",
    "ios_free = []\n",
    "\n",
    "for app in android_english:\n",
    "    price = app[7]\n",
    "    if price == \"0\":\n",
    "        android_free.append(app)\n",
    "\n",
    "for app in ios_english:\n",
    "    price = app[4]\n",
    "    if price == \"0.0\":\n",
    "        ios_free.append(app)\n",
    "\n",
    "print(len(android_free))\n",
    "print(len(ios_free))"
   ]
  },
  {
   "cell_type": "markdown",
   "id": "e438e265-9eb3-44f5-a3b0-a78e76cd6575",
   "metadata": {},
   "source": [
    "## Most Common Apps by Genre"
   ]
  },
  {
   "cell_type": "markdown",
   "id": "870f10da-9588-4b89-8428-c2d0caeb1ab7",
   "metadata": {},
   "source": [
    "Our aim is to determine the kind of apps that are likely to attact more users. We should find the categories most successful on each market."
   ]
  },
  {
   "cell_type": "markdown",
   "id": "ed4f33c1-020e-483d-bc49-6ddfc14f6633",
   "metadata": {},
   "source": [
    "Defining a function that creates a dictionary (key: category; value = percentage of apps):"
   ]
  },
  {
   "cell_type": "code",
   "execution_count": 111,
   "id": "c4469f8e-654f-4549-9512-0d9d5e17478e",
   "metadata": {},
   "outputs": [],
   "source": [
    "def freq_table(data_set, index):\n",
    "    frequency_table = {}\n",
    "    total = 0\n",
    "    \n",
    "    for row in data_set:\n",
    "        value = row[index]\n",
    "        total += 1\n",
    "        if value in frequency_table:\n",
    "            frequency_table[value] += 1\n",
    "        else:\n",
    "            frequency_table[value] = 1\n",
    "    \n",
    "    table_percentages = {}\n",
    "    for key in frequency_table:\n",
    "        percentage = (frequency_table[key] / total) * 100\n",
    "        table_percentages[key] = percentage\n",
    "            \n",
    "    return table_percentages"
   ]
  },
  {
   "cell_type": "markdown",
   "id": "8cb8bdd1-739d-47f3-afb5-6c7c64935ec1",
   "metadata": {},
   "source": [
    "Defining a function that takes a dictionary of category/percentage and creates a descending list:"
   ]
  },
  {
   "cell_type": "code",
   "execution_count": 69,
   "id": "7b96fbae-bee6-4a8f-bf09-575eef5646fc",
   "metadata": {},
   "outputs": [],
   "source": [
    "def display_table(data_set, index):\n",
    "    table = freq_table(data_set, index)\n",
    "    table_display = []\n",
    "    for key in table:\n",
    "        key_val_as_tuple = (table[key], key)\n",
    "        table_display.append(key_val_as_tuple)\n",
    "    \n",
    "    table_sorted = sorted(table_display, reverse = True)\n",
    "    for entry in table_sorted:\n",
    "        print(entry[1],':',entry[0])"
   ]
  },
  {
   "cell_type": "markdown",
   "id": "ab6398ca-4b21-4b42-a086-585529e03f31",
   "metadata": {},
   "source": [
    "Looking at categories on the Google Play store with largest percentage of apps:"
   ]
  },
  {
   "cell_type": "code",
   "execution_count": 90,
   "id": "a27a0b33-564f-4a67-bc46-df5e403be603",
   "metadata": {},
   "outputs": [
    {
     "name": "stdout",
     "output_type": "stream",
     "text": [
      "FAMILY : 18.907942238267147\n",
      "GAME : 9.724729241877256\n",
      "TOOLS : 8.461191335740072\n",
      "BUSINESS : 4.591606498194946\n",
      "LIFESTYLE : 3.9034296028880866\n",
      "PRODUCTIVITY : 3.892148014440433\n",
      "FINANCE : 3.7003610108303246\n",
      "MEDICAL : 3.531137184115524\n",
      "SPORTS : 3.395758122743682\n",
      "PERSONALIZATION : 3.3167870036101084\n",
      "COMMUNICATION : 3.2378158844765346\n",
      "HEALTH_AND_FITNESS : 3.0798736462093865\n",
      "PHOTOGRAPHY : 2.944494584837545\n",
      "NEWS_AND_MAGAZINES : 2.7978339350180503\n",
      "SOCIAL : 2.6624548736462095\n",
      "TRAVEL_AND_LOCAL : 2.33528880866426\n",
      "SHOPPING : 2.2450361010830324\n",
      "BOOKS_AND_REFERENCE : 2.1435018050541514\n",
      "DATING : 1.861462093862816\n",
      "VIDEO_PLAYERS : 1.7937725631768955\n",
      "MAPS_AND_NAVIGATION : 1.3989169675090252\n",
      "FOOD_AND_DRINK : 1.2409747292418771\n",
      "EDUCATION : 1.1620036101083033\n",
      "ENTERTAINMENT : 0.9589350180505415\n",
      "LIBRARIES_AND_DEMO : 0.9363718411552346\n",
      "AUTO_AND_VEHICLES : 0.9250902527075812\n",
      "HOUSE_AND_HOME : 0.8235559566787004\n",
      "WEATHER : 0.8009927797833934\n",
      "EVENTS : 0.7107400722021661\n",
      "PARENTING : 0.6543321299638989\n",
      "ART_AND_DESIGN : 0.6430505415162455\n",
      "COMICS : 0.6204873646209386\n",
      "BEAUTY : 0.5979241877256317\n"
     ]
    }
   ],
   "source": [
    "display_table(android_free, 1)"
   ]
  },
  {
   "cell_type": "markdown",
   "id": "98f2392f-69d8-4c96-8e47-ae897af91a6c",
   "metadata": {},
   "source": [
    "Looking at categories on the App Store with largest percentage of apps:"
   ]
  },
  {
   "cell_type": "code",
   "execution_count": 89,
   "id": "3e0299a3-966e-416b-9a94-00da3df3b267",
   "metadata": {},
   "outputs": [
    {
     "name": "stdout",
     "output_type": "stream",
     "text": [
      "Games : 58.16263190564867\n",
      "Entertainment : 7.883302296710118\n",
      "Photo & Video : 4.9658597144630665\n",
      "Education : 3.662321539416512\n",
      "Social Networking : 3.2898820608317814\n",
      "Shopping : 2.60707635009311\n",
      "Utilities : 2.5139664804469275\n",
      "Sports : 2.1415270018621975\n",
      "Music : 2.0484171322160147\n",
      "Health & Fitness : 2.0173805090006205\n",
      "Productivity : 1.7380509000620732\n",
      "Lifestyle : 1.5828677839851024\n",
      "News : 1.3345747982619491\n",
      "Travel : 1.2414649286157666\n",
      "Finance : 1.1173184357541899\n",
      "Weather : 0.8690254500310366\n",
      "Food & Drink : 0.8069522036002483\n",
      "Reference : 0.5586592178770949\n",
      "Business : 0.5276225946617008\n",
      "Book : 0.4345127250155183\n",
      "Navigation : 0.186219739292365\n",
      "Medical : 0.186219739292365\n",
      "Catalogs : 0.12414649286157665\n"
     ]
    }
   ],
   "source": [
    "display_table(ios_free, 11)"
   ]
  },
  {
   "cell_type": "markdown",
   "id": "1deeb859-7358-46a6-997a-e5df96f5a7b3",
   "metadata": {},
   "source": [
    "To determine the average number of installs for apps in each category on the Google Play store:"
   ]
  },
  {
   "cell_type": "code",
   "execution_count": 116,
   "id": "fb9d4547-7934-4b94-9b83-8dab030947b3",
   "metadata": {},
   "outputs": [
    {
     "name": "stdout",
     "output_type": "stream",
     "text": [
      "ART_AND_DESIGN : 1986335\n",
      "AUTO_AND_VEHICLES : 647318\n",
      "BEAUTY : 513152\n",
      "BOOKS_AND_REFERENCE : 8767812\n",
      "BUSINESS : 1712290\n",
      "COMICS : 817657\n",
      "COMMUNICATION : 38456119\n",
      "DATING : 854029\n",
      "EDUCATION : 1833495\n",
      "ENTERTAINMENT : 11640706\n",
      "EVENTS : 253542\n",
      "FINANCE : 1387692\n",
      "FOOD_AND_DRINK : 1924898\n",
      "HEALTH_AND_FITNESS : 4188822\n",
      "HOUSE_AND_HOME : 1331541\n",
      "LIBRARIES_AND_DEMO : 638504\n",
      "LIFESTYLE : 1437816\n",
      "GAME : 15588016\n",
      "FAMILY : 3695642\n",
      "MEDICAL : 120551\n",
      "SOCIAL : 23253652\n",
      "SHOPPING : 7036877\n",
      "PHOTOGRAPHY : 17840110\n",
      "SPORTS : 3638640\n",
      "TRAVEL_AND_LOCAL : 13984078\n",
      "TOOLS : 10801391\n",
      "PERSONALIZATION : 5201483\n",
      "PRODUCTIVITY : 16787331\n",
      "PARENTING : 542604\n",
      "WEATHER : 5074486\n",
      "VIDEO_PLAYERS : 24727872\n",
      "NEWS_AND_MAGAZINES : 9549178\n",
      "MAPS_AND_NAVIGATION : 4056942\n"
     ]
    }
   ],
   "source": [
    "categories_android = freq_table(android_free, 1)\n",
    "\n",
    "\n",
    "## for each category in the category list\n",
    "    ## go through the master list\n",
    "        ## if the category of the app in the master list is the same as the category in the categories list\n",
    "            ## grab its number of installs, make it a float, add the number of installs to the total variable, increase the count for the category by one\n",
    "            ## once the end of the list is reached, it calculates the average installs, prints this number, then restarts the process for the next category\n",
    "\n",
    "for category in categories_android:\n",
    "    total = 0 ## total installs\n",
    "    len_category = 0\n",
    "    for app in android_free:\n",
    "        category_app = app[1]\n",
    "        if category_app == category:\n",
    "            n_installs = app[5]\n",
    "            n_installs = n_installs.replace(',', '')\n",
    "            n_installs = n_installs.replace('+', '')\n",
    "            total += float(n_installs)\n",
    "            len_category += 1\n",
    "    avg_n_installs = round(total / len_category)\n",
    "    print(category, ':', avg_n_installs)"
   ]
  },
  {
   "cell_type": "markdown",
   "id": "199a1fec-e92c-4746-96b6-f3be9c7baed5",
   "metadata": {},
   "source": [
    "Categories with the greatest number of average installs (over 5,000,000) are:\n",
    "- BOOKS_AND_REFERENCE : 8,767,812\n",
    "- COMMUNICATION : 38,456,119\n",
    "- ENTERTAINMENT : 11,640,706\n",
    "- GAME : 15,588,016\n",
    "- SOCIAL : 23,253,652\n",
    "- SHOPPING : 7,036,877\n",
    "- PHOTOGRAPHY : 17,840,110\n",
    "- TRAVEL_AND_LOCAL : 13,984,078\n",
    "- TOOLS : 10,801,391\n",
    "- PERSONALIZATION : 5,201,483\n",
    "- PRODUCTIVITY : 16,787,331\n",
    "- WEATHER : 5,074,486\n",
    "- VIDEO_PLAYERS : 24,727,872\n",
    "- NEWS_AND_MAGAZINES : 9,549,178"
   ]
  },
  {
   "cell_type": "code",
   "execution_count": 129,
   "id": "4b647d5b-4a82-4db0-a9fe-8e63c7643fa6",
   "metadata": {},
   "outputs": [
    {
     "name": "stdout",
     "output_type": "stream",
     "text": [
      "['WhatsApp Messenger', 'COMMUNICATION', '4.4', '69119316', 'Varies with device', '1,000,000,000+', 'Free', '0', 'Everyone', 'Communication', 'August 3, 2018', 'Varies with device', 'Varies with device']\n",
      "['Google Duo - High Quality Video Calls', 'COMMUNICATION', '4.6', '2083237', 'Varies with device', '500,000,000+', 'Free', '0', 'Everyone', 'Communication', 'July 31, 2018', '37.1.206017801.DR37_RC14', '4.4 and up']\n",
      "['Messenger – Text and Video Chat for Free', 'COMMUNICATION', '4.0', '56646578', 'Varies with device', '1,000,000,000+', 'Free', '0', 'Everyone', 'Communication', 'August 1, 2018', 'Varies with device', 'Varies with device']\n",
      "['imo free video calls and chat', 'COMMUNICATION', '4.3', '4785988', '11M', '500,000,000+', 'Free', '0', 'Everyone', 'Communication', 'June 8, 2018', '9.8.000000010501', '4.0 and up']\n",
      "['Skype - free IM & video calls', 'COMMUNICATION', '4.1', '10484169', 'Varies with device', '1,000,000,000+', 'Free', '0', 'Everyone', 'Communication', 'August 3, 2018', 'Varies with device', 'Varies with device']\n",
      "['LINE: Free Calls & Messages', 'COMMUNICATION', '4.2', '10790289', 'Varies with device', '500,000,000+', 'Free', '0', 'Everyone', 'Communication', 'July 26, 2018', 'Varies with device', 'Varies with device']\n",
      "['Google Chrome: Fast & Secure', 'COMMUNICATION', '4.3', '9643041', 'Varies with device', '1,000,000,000+', 'Free', '0', 'Everyone', 'Communication', 'August 1, 2018', 'Varies with device', 'Varies with device']\n",
      "['UC Browser - Fast Download Private & Secure', 'COMMUNICATION', '4.5', '17714850', '40M', '500,000,000+', 'Free', '0', 'Teen', 'Communication', 'August 2, 2018', '12.8.5.1121', '4.0 and up']\n",
      "['Gmail', 'COMMUNICATION', '4.3', '4604483', 'Varies with device', '1,000,000,000+', 'Free', '0', 'Everyone', 'Communication', 'August 2, 2018', 'Varies with device', 'Varies with device']\n",
      "['Hangouts', 'COMMUNICATION', '4.0', '3419513', 'Varies with device', '1,000,000,000+', 'Free', '0', 'Everyone', 'Communication', 'July 21, 2018', 'Varies with device', 'Varies with device']\n",
      "['Viber Messenger', 'COMMUNICATION', '4.3', '11335481', 'Varies with device', '500,000,000+', 'Free', '0', 'Everyone', 'Communication', 'July 18, 2018', 'Varies with device', 'Varies with device']\n"
     ]
    }
   ],
   "source": [
    "for app in android_free:\n",
    "    category = app[1]\n",
    "    if category == 'COMMUNICATION':\n",
    "        n_installs = app[5]\n",
    "        n_installs = n_installs.replace(',', '')\n",
    "        n_installs = n_installs.replace('+', '')\n",
    "        if float(n_installs) > 100000000:\n",
    "            print(app)"
   ]
  },
  {
   "cell_type": "markdown",
   "id": "cc7347fb-6fcb-446a-bb6d-6617676ebbc3",
   "metadata": {},
   "source": [
    "To determine the average number of ratings for apps in each category on the App Store:"
   ]
  },
  {
   "cell_type": "code",
   "execution_count": 117,
   "id": "a581a72b-629f-4acb-be49-07587d6b9b90",
   "metadata": {},
   "outputs": [
    {
     "name": "stdout",
     "output_type": "stream",
     "text": [
      "Social Networking : 71548\n",
      "Photo & Video : 28442\n",
      "Games : 22789\n",
      "Music : 57327\n",
      "Reference : 74942\n",
      "Health & Fitness : 23298\n",
      "Weather : 52280\n",
      "Utilities : 18684\n",
      "Travel : 28244\n",
      "Shopping : 26920\n",
      "News : 21248\n",
      "Navigation : 86090\n",
      "Lifestyle : 16486\n",
      "Entertainment : 14030\n",
      "Food & Drink : 33334\n",
      "Sports : 23009\n",
      "Book : 39758\n",
      "Finance : 31468\n",
      "Education : 7004\n",
      "Productivity : 21028\n",
      "Business : 7491\n",
      "Catalogs : 4004\n",
      "Medical : 612\n"
     ]
    }
   ],
   "source": [
    "categories_ios = freq_table(ios_free, 11)\n",
    "\n",
    "\n",
    "## for each category in the category list\n",
    "    ## go through the master list\n",
    "        ## if the category of the app in the master list is the same as the category in the categories list\n",
    "            ## grab its number of installs, make it a float, add the number of installs to the total variable, increase the count for the category by one\n",
    "            ## once the end of the list is reached, it calculates the average installs, prints this number, then restarts the process for the next category\n",
    "\n",
    "for category in categories_ios:\n",
    "    total = 0 ## total installs\n",
    "    len_category = 0\n",
    "    for app in ios_free:\n",
    "        category_app = app[11]\n",
    "        if category_app == category:\n",
    "            n_installs = app[5]\n",
    "            n_installs = n_installs.replace(',', '')\n",
    "            n_installs = n_installs.replace('+', '')\n",
    "            total += float(n_installs)\n",
    "            len_category += 1\n",
    "    avg_n_installs = round(total / len_category)\n",
    "    print(category, ':', avg_n_installs)"
   ]
  },
  {
   "cell_type": "markdown",
   "id": "3c95f12f-703d-4955-bef2-d9936c314931",
   "metadata": {},
   "source": [
    "Categories with the greatest number of average reviews (over 30,000) are:\n",
    "- Social Networking : 71,548\n",
    "- Music : 57,327\n",
    "- Reference : 74,942\n",
    "- Weather : 52,280\n",
    "- Navigation : 86,090\n",
    "- Food & Drink : 33,334\n",
    "- Book : 39,758\n",
    "- Finance : 31,468"
   ]
  },
  {
   "cell_type": "markdown",
   "id": "fccae197-ab1c-4920-87fe-3100e005fd4d",
   "metadata": {},
   "source": [
    "Looking at these two lists in greater detail:\n",
    "\n",
    "A few apps appear to skew the numbers in some categories, like YouTube, Facebook, WhatsApp and Skype.\n",
    "\n",
    "Google Play / Average Installs\n",
    "- BOOKS_AND_REFERENCE : 8,767,812\n",
    "    - Skewed due to the Bible, Google Play Books and Amazon Kindle.\n",
    "- COMMUNICATION : 38,456,119\n",
    "    - Dominated by social media apps.\n",
    "- ENTERTAINMENT : 11,640,706\n",
    "    - A few major players, like Twitch and Netflix.\n",
    "- GAME : 15,588,016\n",
    "    - A highly saturated market.\n",
    "- SOCIAL : 23,253,652\n",
    "    - Dominated by social media apps.\n",
    "- SHOPPING : 7,036,877\n",
    "    - A few major players, like Ebay and Amazon.\n",
    "- PHOTOGRAPHY : 17,840,110\n",
    "    - Google Photos has over 100,000,000 installs.\n",
    "- TRAVEL_AND_LOCAL : 13,984,078\n",
    "    - Google Maps skews average.\n",
    "- TOOLS : 10,801,391\n",
    "    - Google and Google Translate skew average.\n",
    "- PERSONALIZATION : 5,201,483\n",
    "    - There are no major players in this category, and may be suitable for exploration.\n",
    "- PRODUCTIVITY : 16,787,331\n",
    "    - Skewed due to Microsoft Suite, Google Calendar, Dropbox and Google Drive.\n",
    "- WEATHER : 5,074,486\n",
    "    - There are no major players in this category, and may be suitable for exploration.\n",
    "- VIDEO_PLAYERS : 24,727,872\n",
    "    - Skewed due to YouTube, Google Play Movies & TV, and MX Player.\n",
    "- NEWS_AND_MAGAZINES : 9,549,178\n",
    "    - Skewed due to Twitter, Google News and Flipboard.\n",
    "    \n",
    "App Store / Average Reviews\n",
    "- Social Networking : 71,548\n",
    "    - Skewed due to Facebook, Pinterest, Skype, Messenger and WhatsApp.\n",
    "- Music : 57,327\n",
    "    - Skewed due to Pandora, Spotify, Shazam and iHeartRadio.\n",
    "- Reference : 74,942\n",
    "    - Skewed due to the Bible.\n",
    "- Weather : 52,280\n",
    "    - No major players.\n",
    "- Navigation : 86,090\n",
    "    - Skewed due to Waze and Google Maps.\n",
    "- Food & Drink : 33,334\n",
    "    - The biggest apps based on reviews are Starbucks, Domino's Pizza, Opentable and Allrecipes.\n",
    "- Book : 39,758\n",
    "    - Skewed due to Kindle and Audible.\n",
    "- Finance : 31,468 \n",
    "    - The biggest apps based on reviews are Mint, Paypal, Bank of America and Chase Mobile"
   ]
  },
  {
   "cell_type": "code",
   "execution_count": 159,
   "id": "047f9bee-fd81-47a6-8ee5-7ea5e594c36f",
   "metadata": {},
   "outputs": [
    {
     "name": "stdout",
     "output_type": "stream",
     "text": [
      "['Twitter', 'NEWS_AND_MAGAZINES', '4.3', '11667403', 'Varies with device', '500,000,000+', 'Free', '0', 'Mature 17+', 'News & Magazines', 'August 6, 2018', 'Varies with device', 'Varies with device']\n",
      "['Flipboard: News For Our Time', 'NEWS_AND_MAGAZINES', '4.4', '1284018', 'Varies with device', '500,000,000+', 'Free', '0', 'Everyone 10+', 'News & Magazines', 'August 3, 2018', 'Varies with device', 'Varies with device']\n",
      "['Google News', 'NEWS_AND_MAGAZINES', '3.9', '878065', '13M', '1,000,000,000+', 'Free', '0', 'Teen', 'News & Magazines', 'August 1, 2018', '5.2.0', '4.4 and up']\n"
     ]
    }
   ],
   "source": [
    "for app in android_free:\n",
    "    if app[1] == \"NEWS_AND_MAGAZINES\":\n",
    "        n_installs = app[5]\n",
    "        n_installs = n_installs.replace(',', '')\n",
    "        n_installs = n_installs.replace('+', '')\n",
    "        if float(n_installs) > 100000000:\n",
    "            print(app)"
   ]
  },
  {
   "cell_type": "code",
   "execution_count": 211,
   "id": "f940cfb5-cce3-4a96-b3cc-87ed371193f2",
   "metadata": {},
   "outputs": [
    {
     "name": "stdout",
     "output_type": "stream",
     "text": [
      "['955286870', 'CPlus for Craigslist app - mobile classifieds', '120219648', 'USD', '0.0', '13345', '2788', '5.0', '5.0', '3.0.0', '17+', 'Catalogs', '37', '5', '1', '1']\n",
      "['1132217067', 'DRAGONS MODS FREE for Minecraft PC Game Edition', '86984704', 'USD', '0.0', '2027', '160', '4.0', '3.0', '1.1', '4+', 'Catalogs', '37', '4', '1', '1']\n"
     ]
    }
   ],
   "source": [
    "for app in ios_free:\n",
    "    if app[11] == \"Catalogs\":\n",
    "        n_reviews = app[5]\n",
    "        n_reviews = n_reviews.replace(',', '')\n",
    "        n_reviews = n_reviews.replace('+', '')\n",
    "        if float(n_reviews) > 1000:\n",
    "            print(app)"
   ]
  },
  {
   "cell_type": "markdown",
   "id": "e9dce1b0-d6d4-4d5b-a78a-907f4935faab",
   "metadata": {},
   "source": [
    "The following Personalisation apps have the greatest number of installs:"
   ]
  },
  {
   "cell_type": "code",
   "execution_count": 201,
   "id": "9a672372-9ae3-494d-badf-606f5087a6a1",
   "metadata": {},
   "outputs": [
    {
     "name": "stdout",
     "output_type": "stream",
     "text": [
      "['ZEDGE™ Ringtones & Wallpapers', 'PERSONALIZATION', '4.6', '6466641', 'Varies with device', '100,000,000+', 'Free', '0', 'Teen', 'Personalization', 'July 19, 2018', 'Varies with device', 'Varies with device']\n",
      "['CM Launcher 3D - Theme, Wallpapers, Efficient', 'PERSONALIZATION', '4.6', '6702776', '17M', '100,000,000+', 'Free', '0', 'Teen', 'Personalization', 'August 3, 2018', '5.41.0', '4.0.3 and up']\n",
      "['APUS Launcher - Theme, Wallpaper, Hide Apps', 'PERSONALIZATION', '4.5', '5783441', '14M', '100,000,000+', 'Free', '0', 'Everyone', 'Personalization', 'August 6, 2018', '3.9.7', '4.0.3 and up']\n",
      "['Hola Launcher- Theme,Wallpaper', 'PERSONALIZATION', '4.5', '3277209', '7.6M', '100,000,000+', 'Free', '0', 'Everyone', 'Personalization', 'May 9, 2018', '3.2.5', '4.0 and up']\n",
      "['Backgrounds HD (Wallpapers)', 'PERSONALIZATION', '4.6', '2390185', 'Varies with device', '100,000,000+', 'Free', '0', 'Teen', 'Personalization', 'August 4, 2018', 'Varies with device', 'Varies with device']\n",
      "['GO Keyboard - Emoticon keyboard, Free Theme, GIF', 'PERSONALIZATION', '4.4', '2591941', 'Varies with device', '100,000,000+', 'Free', '0', 'Everyone', 'Personalization', 'July 20, 2018', 'Varies with device', 'Varies with device']\n",
      "['Parallel Space - Multiple accounts & Two face', 'PERSONALIZATION', '4.6', '3062845', '7.4M', '100,000,000+', 'Free', '0', 'Everyone', 'Personalization', 'August 3, 2018', '4.0.8552', '4.0.3 and up']\n",
      "['GO Launcher - 3D parallax Themes & HD Wallpapers', 'PERSONALIZATION', '4.5', '7464996', 'Varies with device', '100,000,000+', 'Free', '0', 'Everyone', 'Personalization', 'August 3, 2018', 'Varies with device', 'Varies with device']\n"
     ]
    }
   ],
   "source": [
    "for app in android_free:\n",
    "    if app[1] == \"PERSONALIZATION\":\n",
    "        n_installs = app[5]\n",
    "        n_installs = n_installs.replace(',', '')\n",
    "        n_installs = n_installs.replace('+', '')\n",
    "        if float(n_installs) > 90000000:\n",
    "            print(app)"
   ]
  },
  {
   "cell_type": "markdown",
   "id": "dff92f17-fd8d-44ff-bc37-06f2483e1f45",
   "metadata": {},
   "source": [
    "There are no major brands in this list, and interestingly, the App Store doesn't have a large presence of personalisation apps. While they have only shown to be popular on Google Play, there may be a market on the App Store for those wanting more personalisation over their phone."
   ]
  }
 ],
 "metadata": {
  "kernelspec": {
   "display_name": "Python 3 (ipykernel)",
   "language": "python",
   "name": "python3"
  },
  "language_info": {
   "codemirror_mode": {
    "name": "ipython",
    "version": 3
   },
   "file_extension": ".py",
   "mimetype": "text/x-python",
   "name": "python",
   "nbconvert_exporter": "python",
   "pygments_lexer": "ipython3",
   "version": "3.10.8"
  }
 },
 "nbformat": 4,
 "nbformat_minor": 5
}
