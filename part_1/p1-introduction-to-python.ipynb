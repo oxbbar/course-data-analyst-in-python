{
 "cells": [
  {
   "cell_type": "markdown",
   "id": "a543264c-5fcb-4fbf-997a-212a9db5d1cd",
   "metadata": {},
   "source": [
    "To instruct a basic print."
   ]
  },
  {
   "cell_type": "code",
   "execution_count": 1,
   "id": "445ccaff-aad9-4b8e-b2a0-41d9e203aa3d",
   "metadata": {},
   "outputs": [
    {
     "name": "stdout",
     "output_type": "stream",
     "text": [
      "30\n"
     ]
    }
   ],
   "source": [
    "print(23 + 7)"
   ]
  },
  {
   "cell_type": "markdown",
   "id": "144a4d80-da5e-40fe-98f5-a034fd482137",
   "metadata": {},
   "source": [
    "Using the print() function with more than one calculation."
   ]
  },
  {
   "cell_type": "code",
   "execution_count": 2,
   "id": "5379a4f1-78c2-4d36-a009-fc0540964a00",
   "metadata": {},
   "outputs": [
    {
     "name": "stdout",
     "output_type": "stream",
     "text": [
      "6.99\n",
      "1.0\n"
     ]
    }
   ],
   "source": [
    "print (0.00 + 6.99)\n",
    "print(4.5 - 3.5)"
   ]
  },
  {
   "cell_type": "markdown",
   "id": "30b11057-bc29-44a8-a8ff-278476f479da",
   "metadata": {},
   "source": [
    "Basic arithmetical operations:"
   ]
  },
  {
   "cell_type": "code",
   "execution_count": 3,
   "id": "1fe9a256-bf66-4d13-af48-ba95051ae221",
   "metadata": {},
   "outputs": [
    {
     "name": "stdout",
     "output_type": "stream",
     "text": [
      "160\n",
      "9.6\n",
      "125\n"
     ]
    }
   ],
   "source": [
    "print(16*10)\n",
    "print(48/5)\n",
    "print(5**3)"
   ]
  },
  {
   "cell_type": "markdown",
   "id": "e29ea08e-e7fc-4d87-92c4-7965a52fcafb",
   "metadata": {},
   "source": [
    "Save the result of an operation, then print it:"
   ]
  },
  {
   "cell_type": "code",
   "execution_count": 4,
   "id": "153665a1-df30-4bc7-8820-d317a04de3b2",
   "metadata": {},
   "outputs": [
    {
     "name": "stdout",
     "output_type": "stream",
     "text": [
      "13.98\n"
     ]
    }
   ],
   "source": [
    "result = 6.99 * 2\n",
    "print(result)"
   ]
  },
  {
   "cell_type": "markdown",
   "id": "b44a47af-36de-4ec3-8ff8-b8f43d013948",
   "metadata": {},
   "source": [
    "Multiple operations:"
   ]
  },
  {
   "cell_type": "code",
   "execution_count": 5,
   "id": "51e1ee56-55e8-4dd7-ba3e-a2d295d52110",
   "metadata": {},
   "outputs": [
    {
     "name": "stdout",
     "output_type": "stream",
     "text": [
      "6.99\n",
      "3.98\n",
      "8.98\n"
     ]
    }
   ],
   "source": [
    "minecraft_cost = 6.99\n",
    "fruit_ninja_cost = 1.99 * 1\n",
    "print(minecraft_cost)\n",
    "print(fruit_ninja_cost + 1.99)\n",
    "print(minecraft_cost + fruit_ninja_cost)"
   ]
  },
  {
   "cell_type": "markdown",
   "id": "c5355c0a-0c86-4a21-ac3f-d55a5f630392",
   "metadata": {},
   "source": [
    "Updating a saved variable:"
   ]
  },
  {
   "cell_type": "code",
   "execution_count": 6,
   "id": "7c994963-5c8f-4197-8558-a8f165f1eef3",
   "metadata": {},
   "outputs": [
    {
     "name": "stdout",
     "output_type": "stream",
     "text": [
      "1220528\n"
     ]
    }
   ],
   "source": [
    "rating_count_totals = 698516\n",
    "# Update rating_count_totals below:\n",
    "rating_count_totals = rating_count_totals + 522012\n",
    "print(rating_count_totals)"
   ]
  },
  {
   "cell_type": "markdown",
   "id": "8d409937-857b-4070-873a-fe2e6ffd58ab",
   "metadata": {},
   "source": [
    "Determining and changing data types:"
   ]
  },
  {
   "cell_type": "code",
   "execution_count": 10,
   "id": "b734f090-71f9-4c50-a435-9256d1b2baf1",
   "metadata": {},
   "outputs": [
    {
     "name": "stdout",
     "output_type": "stream",
     "text": [
      "<class 'int'>\n",
      "<class 'float'>\n",
      "0.0\n",
      "1\n",
      "6\n",
      "7\n",
      "2\n"
     ]
    }
   ],
   "source": [
    "print(type(0))\n",
    "print(type(0.0))\n",
    "print(float(0))\n",
    "print(int(1.99))\n",
    "print(int(6.99))\n",
    "print(round(6.99))\n",
    "print(round(1.99))\n"
   ]
  },
  {
   "cell_type": "markdown",
   "id": "730907c1-51e5-4b2c-a12d-c45a98854a32",
   "metadata": {},
   "source": [
    "Displaying the result of concatenates and using \\ to cancel special character."
   ]
  },
  {
   "cell_type": "code",
   "execution_count": 11,
   "id": "7e5ff61c-6ae4-437b-9000-bdee6a664631",
   "metadata": {},
   "outputs": [
    {
     "name": "stdout",
     "output_type": "stream",
     "text": [
      "Facebook's rating is 3.5\n"
     ]
    }
   ],
   "source": [
    "facebook = \"Facebook\\'s rating is\"\n",
    "fb_rating_str = \"3.5\"\n",
    "fb = (facebook + \" \" + fb_rating_str)\n",
    "print(fb)"
   ]
  },
  {
   "cell_type": "markdown",
   "id": "c8c79f22-b8fd-4a07-b159-7ced96e65e5a",
   "metadata": {},
   "source": [
    "Converting to strings and concatenating:"
   ]
  },
  {
   "cell_type": "code",
   "execution_count": 12,
   "id": "01fe9538-8b5e-4ce0-8138-2cfaf72ea774",
   "metadata": {},
   "outputs": [
    {
     "name": "stdout",
     "output_type": "stream",
     "text": [
      "Facebook's rating is 3.5\n"
     ]
    }
   ],
   "source": [
    "facebook = \"Facebook\\'s rating is\"\n",
    "fb_rating = 3.5\n",
    "fb_rating_str = str(fb_rating)\n",
    "fb = facebook + \" \" + fb_rating_str\n",
    "print(fb)"
   ]
  },
  {
   "cell_type": "markdown",
   "id": "6740548e-d787-49cd-a92f-fe3c82bd9e05",
   "metadata": {},
   "source": [
    "Storing data in lists, then querying them and their length:"
   ]
  },
  {
   "cell_type": "code",
   "execution_count": 15,
   "id": "1b091a84-d608-40c5-b64f-15fe312dd7b0",
   "metadata": {},
   "outputs": [
    {
     "name": "stdout",
     "output_type": "stream",
     "text": [
      "['Instagram', 0.0, 'USD', 2161558, 4.5]\n"
     ]
    },
    {
     "data": {
      "text/plain": [
       "5"
      ]
     },
     "execution_count": 15,
     "metadata": {},
     "output_type": "execute_result"
    }
   ],
   "source": [
    "row_2 = ['Instagram', 0.0, 'USD', 2161558, 4.5]\n",
    "row_3 = ['Clash of Clans', 0.0, 'USD', 2130805, 4.5]\n",
    "print(row_2)\n",
    "len(row_3)"
   ]
  },
  {
   "cell_type": "markdown",
   "id": "40dcb9c1-43b1-42c0-9f43-6f5384f35238",
   "metadata": {},
   "source": [
    "Retrieving individual elements from lists, then using arithmetical operations:"
   ]
  },
  {
   "cell_type": "code",
   "execution_count": 18,
   "id": "a1a3257b-1fc0-4eb9-be88-414a3c491503",
   "metadata": {},
   "outputs": [
    {
     "name": "stdout",
     "output_type": "stream",
     "text": [
      "2422346.3333333335\n"
     ]
    }
   ],
   "source": [
    "row_1 = ['Facebook', 0.0, 'USD', 2974676, 3.5]\n",
    "row_2 = ['Instagram', 0.0, 'USD', 2161558, 4.5]\n",
    "row_3 = ['Clash of Clans', 0.0, 'USD', 2130805, 4.5]\n",
    "\n",
    "ratings_1 = row_1[3]\n",
    "ratings_2 = row_2[3]\n",
    "ratings_3 = row_3[3]\n",
    "total = ratings_1 + ratings_2 + ratings_3\n",
    "average = total /3\n",
    "print(average)"
   ]
  },
  {
   "cell_type": "markdown",
   "id": "9969f9cf-ce5b-4c26-b00a-eba0559a4bd5",
   "metadata": {},
   "source": [
    "Retrieving multiple elements of a list in one line:"
   ]
  },
  {
   "cell_type": "code",
   "execution_count": 20,
   "id": "901c91aa-e923-4473-8b2d-f6b9c49c007f",
   "metadata": {},
   "outputs": [
    {
     "name": "stdout",
     "output_type": "stream",
     "text": [
      "4.166666666666667\n"
     ]
    }
   ],
   "source": [
    "row_1 = ['Facebook', 0.0, 'USD', 2974676, 3.5]\n",
    "row_2 = ['Instagram', 0.0, 'USD', 2161558, 4.5]\n",
    "row_3 = ['Clash of Clans', 0.0, 'USD', 2130805, 4.5]\n",
    "row_4 = ['Fruit Ninja Classic', 1.99, 'USD', 698516, 4.5]\n",
    "row_5 = ['Minecraft: Pocket Edition', 6.99, 'USD', 522012, 4.5]\n",
    "fb_rating_data = [row_1[0], row_1[3], row_1[4]]\n",
    "insta_rating_data = [row_2[0], row_2[3], row_2[4]]\n",
    "minecraft_rating_data = [row_5[0], row_5[3], row_5[4]]\n",
    "total_rating = fb_rating_data[2] + insta_rating_data[2] + minecraft_rating_data[2]\n",
    "average_rating = total_rating / 3\n",
    "print(average_rating)"
   ]
  },
  {
   "cell_type": "markdown",
   "id": "0d8607b8-34d1-486c-bf9d-39efbc570f15",
   "metadata": {},
   "source": [
    "List slicing:"
   ]
  },
  {
   "cell_type": "code",
   "execution_count": 21,
   "id": "75d89262-2194-4251-9be6-31a114746aa0",
   "metadata": {},
   "outputs": [
    {
     "name": "stdout",
     "output_type": "stream",
     "text": [
      "['USD', 2974676, 3.5]\n",
      "['USD', 522012]\n"
     ]
    }
   ],
   "source": [
    "row_1 = ['Facebook', 0.0, 'USD', 2974676, 3.5]\n",
    "row_2 = ['Instagram', 0.0, 'USD', 2161558, 4.5]\n",
    "row_3 = ['Clash of Clans', 0.0, 'USD', 2130805, 4.5]\n",
    "row_4 = ['Fruit Ninja Classic', 1.99, 'USD', 698516, 4.5]\n",
    "row_5 = ['Minecraft: Pocket Edition', 6.99, 'USD', 522012, 4.5]\n",
    "last_3_fb = row_1[2:5]\n",
    "minecraft_3_4 = row_5[2:4]\n",
    "print(last_3_fb)\n",
    "print(minecraft_3_4)"
   ]
  },
  {
   "cell_type": "markdown",
   "id": "b2742b94-939b-4ffd-8357-21ee917591bc",
   "metadata": {},
   "source": [
    "Lists in lists:"
   ]
  },
  {
   "cell_type": "code",
   "execution_count": 22,
   "id": "39412144-48b6-4df3-81fd-90d419d80093",
   "metadata": {},
   "outputs": [
    {
     "name": "stdout",
     "output_type": "stream",
     "text": [
      "[['Clash of Clans', 0.0, 'USD', 2130805, 4.5], ['Fruit Ninja Classic', 1.99, 'USD', 698516, 4.5], ['Minecraft: Pocket Edition', 6.99, 'USD', 522012, 4.5]]\n"
     ]
    }
   ],
   "source": [
    "row_1 = ['Facebook', 0.0, 'USD', 2974676, 3.5]\n",
    "row_2 = ['Instagram', 0.0, 'USD', 2161558, 4.5]\n",
    "row_3 = ['Clash of Clans', 0.0, 'USD', 2130805, 4.5]\n",
    "row_4 = ['Fruit Ninja Classic', 1.99, 'USD', 698516, 4.5]\n",
    "row_5 = ['Minecraft: Pocket Edition', 6.99, 'USD', 522012, 4.5]\n",
    "games_apps = [row_3, row_4, row_5]\n",
    "print(games_apps)"
   ]
  },
  {
   "cell_type": "markdown",
   "id": "e05a3664-c6f7-4f72-9da6-b5b925c1d7be",
   "metadata": {},
   "source": [
    "Retrieving from lists of lists in shorter code:"
   ]
  },
  {
   "cell_type": "code",
   "execution_count": 24,
   "id": "e3412bf9-d402-4742-a8a8-5ed484e46902",
   "metadata": {},
   "outputs": [
    {
     "name": "stdout",
     "output_type": "stream",
     "text": [
      "[['Facebook', 0.0, 'USD', 2974676, 3.5], ['Instagram', 0.0, 'USD', 2161558, 4.5], ['Clash of Clans', 0.0, 'USD', 2130805, 4.5], ['Fruit Ninja Classic', 1.99, 'USD', 698516, 4.5], ['Minecraft: Pocket Edition', 6.99, 'USD', 522012, 4.5]]\n",
      "4.3\n"
     ]
    }
   ],
   "source": [
    "row_1 = ['Facebook', 0.0, 'USD', 2974676, 3.5]\n",
    "row_2 = ['Instagram', 0.0, 'USD', 2161558, 4.5]\n",
    "row_3 = ['Clash of Clans', 0.0, 'USD', 2130805, 4.5]\n",
    "row_4 = ['Fruit Ninja Classic', 1.99, 'USD', 698516, 4.5]\n",
    "row_5 = ['Minecraft: Pocket Edition', 6.99, 'USD', 522012, 4.5]\n",
    "app_data_set = [row_1, row_2, row_3, row_4, row_5]\n",
    "print(app_data_set)\n",
    "avg_rating = (app_data_set[0][4] + app_data_set[1][4] + app_data_set[2][4] + app_data_set[3][4] + app_data_set[4][4]) /5\n",
    "print(avg_rating)"
   ]
  },
  {
   "cell_type": "markdown",
   "id": "f05507ae-a6cf-4fbf-b566-b804cc414a3c",
   "metadata": {},
   "source": [
    "Using a basic for loop:"
   ]
  },
  {
   "cell_type": "code",
   "execution_count": 26,
   "id": "3f999604-5bbc-4113-bc83-b646bae28529",
   "metadata": {},
   "outputs": [
    {
     "name": "stdout",
     "output_type": "stream",
     "text": [
      "Facebook\n",
      "Instagram\n",
      "Clash of Clans\n",
      "Fruit Ninja Classic\n",
      "Minecraft: Pocket Edition\n"
     ]
    }
   ],
   "source": [
    "app_names = ['Facebook', 'Instagram', 'Clash of Clans', 'Fruit Ninja Classic', 'Minecraft: Pocket Edition']\n",
    "\n",
    "for element in app_names:\n",
    "    print(element)"
   ]
  },
  {
   "cell_type": "code",
   "execution_count": 27,
   "id": "fa5ee336-19b8-446a-b220-99605f9e0c68",
   "metadata": {},
   "outputs": [
    {
     "name": "stdout",
     "output_type": "stream",
     "text": [
      "2974676\n",
      "2161558\n",
      "2130805\n",
      "698516\n",
      "522012\n"
     ]
    }
   ],
   "source": [
    "row_1 = ['Facebook', 0.0, 'USD', 2974676, 3.5]\n",
    "row_2 = ['Instagram', 0.0, 'USD', 2161558, 4.5]\n",
    "row_3 = ['Clash of Clans', 0.0, 'USD', 2130805, 4.5]\n",
    "row_4 = ['Fruit Ninja Classic', 1.99, 'USD', 698516, 4.5]\n",
    "row_5 = ['Minecraft: Pocket Edition', 6.99, 'USD', 522012, 4.5]\n",
    "\n",
    "app_data_set = [row_1, row_2, row_3, row_4, row_5]\n",
    "for row in app_data_set:\n",
    "    rating_count = row[3]\n",
    "    print(rating_count)"
   ]
  },
  {
   "cell_type": "code",
   "execution_count": 28,
   "id": "b76d36c2-8edd-4108-bddd-615ee60c0c98",
   "metadata": {},
   "outputs": [
    {
     "name": "stdout",
     "output_type": "stream",
     "text": [
      "2974676\n",
      "5136234\n",
      "7267039\n",
      "7965555\n",
      "8487567\n"
     ]
    }
   ],
   "source": [
    "row_1 = ['Facebook', 0.0, 'USD', 2974676, 3.5]\n",
    "row_2 = ['Instagram', 0.0, 'USD', 2161558, 4.5]\n",
    "row_3 = ['Clash of Clans', 0.0, 'USD', 2130805, 4.5]\n",
    "row_4 = ['Fruit Ninja Classic', 1.99, 'USD', 698516, 4.5]\n",
    "row_5 = ['Minecraft: Pocket Edition', 6.99, 'USD', 522012, 4.5]\n",
    "\n",
    "app_data_set = [row_1, row_2, row_3, row_4, row_5]\n",
    "rating_sum = 0\n",
    "for row in app_data_set:\n",
    "    rating_count = row[3]\n",
    "    rating_sum = rating_sum + rating_count\n",
    "    print(rating_sum)"
   ]
  },
  {
   "cell_type": "code",
   "execution_count": 30,
   "id": "ecc915b6-350a-46d2-ba66-1b332a10d518",
   "metadata": {},
   "outputs": [
    {
     "name": "stdout",
     "output_type": "stream",
     "text": [
      "4.3\n"
     ]
    }
   ],
   "source": [
    "row_1 = ['Facebook', 0.0, 'USD', 2974676, 3.5]\n",
    "row_2 = ['Instagram', 0.0, 'USD', 2161558, 4.5]\n",
    "row_3 = ['Clash of Clans', 0.0, 'USD', 2130805, 4.5]\n",
    "row_4 = ['Fruit Ninja Classic', 1.99, 'USD', 698516, 4.5]\n",
    "row_5 = ['Minecraft: Pocket Edition', 6.99, 'USD', 522012, 4.5]\n",
    "\n",
    "app_data_set = [row_1, row_2, row_3, row_4, row_5]\n",
    "rating_sum = 0\n",
    "for row in app_data_set:\n",
    "    rating = row[4]\n",
    "    rating_sum = rating_sum + rating\n",
    "    \n",
    "avg_rating = rating_sum / len(app_data_set)\n",
    "print(avg_rating)"
   ]
  },
  {
   "cell_type": "markdown",
   "id": "59864953-f284-428f-be41-569ba1bd564a",
   "metadata": {},
   "source": []
  },
  {
   "cell_type": "code",
   "execution_count": null,
   "id": "0ed98c49-7be0-4473-83d6-76919a24ed95",
   "metadata": {},
   "outputs": [],
   "source": []
  },
  {
   "cell_type": "markdown",
   "id": "d03c9f7c-f68b-428c-8268-6863f53d361b",
   "metadata": {},
   "source": []
  },
  {
   "cell_type": "code",
   "execution_count": null,
   "id": "bbc19a06-c1e7-4f35-8820-bc8fd85fc92b",
   "metadata": {},
   "outputs": [],
   "source": []
  },
  {
   "cell_type": "markdown",
   "id": "7643b079-1e2d-481d-8c96-ee1db3816efd",
   "metadata": {},
   "source": []
  },
  {
   "cell_type": "code",
   "execution_count": null,
   "id": "ba55eb54-fdb6-4072-ac60-cc46e729f492",
   "metadata": {},
   "outputs": [],
   "source": []
  },
  {
   "cell_type": "markdown",
   "id": "64976dad-2f45-487c-9eaf-b637a9d85aac",
   "metadata": {},
   "source": []
  },
  {
   "cell_type": "code",
   "execution_count": null,
   "id": "59593434-802d-4083-b59c-798aba19b7e3",
   "metadata": {},
   "outputs": [],
   "source": []
  },
  {
   "cell_type": "markdown",
   "id": "994c6a3c-c7dd-46b7-ad39-30c216eeec11",
   "metadata": {},
   "source": []
  },
  {
   "cell_type": "code",
   "execution_count": null,
   "id": "0666e54f-0cb2-48d5-89f0-5ba86e159a53",
   "metadata": {},
   "outputs": [],
   "source": []
  }
 ],
 "metadata": {
  "kernelspec": {
   "display_name": "Python 3 (ipykernel)",
   "language": "python",
   "name": "python3"
  },
  "language_info": {
   "codemirror_mode": {
    "name": "ipython",
    "version": 3
   },
   "file_extension": ".py",
   "mimetype": "text/x-python",
   "name": "python",
   "nbconvert_exporter": "python",
   "pygments_lexer": "ipython3",
   "version": "3.10.13"
  }
 },
 "nbformat": 4,
 "nbformat_minor": 5
}
