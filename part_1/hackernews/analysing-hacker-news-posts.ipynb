{
 "cells": [
  {
   "cell_type": "markdown",
   "id": "e8faacab-d55f-4f1d-aaa2-beaacc7b8e2a",
   "metadata": {},
   "source": [
    "# Analysing Hacker News Posts"
   ]
  },
  {
   "cell_type": "markdown",
   "id": "15a1a5e9-88bc-4883-8c32-de297573eb06",
   "metadata": {},
   "source": [
    "## Description of the Project"
   ]
  },
  {
   "cell_type": "markdown",
   "id": "3333f9cb-c640-4570-94fb-e3c2790d1f31",
   "metadata": {},
   "source": [
    "Hacker News is a site started by the startup incubator Y Combinator, where user-submitted stories (known as \"posts\") receive votes and comments, similar to reddit. Hacker News is extremely popular in technology and startup circles, and posts that make it to the top of the Hacker News listings can get hundreds of thousands of visitors as a result.\n",
    "\n",
    "This project is designed to compare two types of common Hacker News listings. Users submit `Ask HN` posts to ask the Hacker News community a specific question. Likewise, users submit `Show HN` posts to show the Hacker News community a project, product, or just something interesting.\n",
    "\n",
    "`Ask HN` examples:\n",
    "- Ask HN: How to improve my personal website?\n",
    "- Ask HN: Am I the only one outraged by Twitter shutting down share counts?\n",
    "- Ask HN: Aby recent changes to CSS that broke mobile?\n",
    "\n",
    "`Show HN` examples:\n",
    "- Show HN: Wio Link  ESP8266 Based Web of Things Hardware Development Platform'\n",
    "- Show HN: Something pointless I made\n",
    "- Show HN: Shanhu.io, a programming playground powered by e8vm\n",
    "\n",
    "The dataset to be used for this analysis is available on Kaggle [here](https://www.kaggle.com/datasets/hacker-news/hacker-news-posts)."
   ]
  },
  {
   "cell_type": "markdown",
   "id": "3830c5e8-c3ca-4516-bfcc-e6af1dce27e2",
   "metadata": {},
   "source": [
    "## Project Goal"
   ]
  },
  {
   "cell_type": "markdown",
   "id": "95352967-a173-466a-a743-fd7bfae76d6a",
   "metadata": {},
   "source": [
    "Our aim is to compare \"Ask HN\" and \"Show HN\" posts to answer the following questions:\n",
    "1) Which type of post receives more comments, on average\n",
    "2) Does the time a post is created affect the average number of comments\n",
    "\n",
    "By answering these questions users will be able to create posts that generate more comments."
   ]
  },
  {
   "cell_type": "markdown",
   "id": "9b560f42-d052-42cd-9cd5-32416dfda472",
   "metadata": {},
   "source": [
    "### Process and Analysis"
   ]
  },
  {
   "cell_type": "markdown",
   "id": "a28e3b94-7803-482f-9da7-813853f12370",
   "metadata": {},
   "source": [
    "Importing the CSV:"
   ]
  },
  {
   "cell_type": "code",
   "execution_count": 131,
   "id": "b1d314e5-d0b7-4057-8708-3cd86836071b",
   "metadata": {},
   "outputs": [],
   "source": [
    "from csv import reader\n",
    "opened_file = open('HN_posts_year_to_Sep_26_2016.csv', encoding='UTF8')\n",
    "read_file = reader(opened_file)\n",
    "allposts = list(read_file)"
   ]
  },
  {
   "cell_type": "markdown",
   "id": "b4cd80e7-5351-42b3-955c-da556774bb67",
   "metadata": {},
   "source": [
    "Viewing the first five entries of the dataset, and determing the length of the datset:"
   ]
  },
  {
   "cell_type": "code",
   "execution_count": 132,
   "id": "c3ce9c61-add5-49ac-82c5-8038c843f502",
   "metadata": {},
   "outputs": [
    {
     "name": "stdout",
     "output_type": "stream",
     "text": [
      "[['id', 'title', 'url', 'num_points', 'num_comments', 'author', 'created_at'], ['12579008', 'You have two days to comment if you want stem cells to be classified as your own', 'http://www.regulations.gov/document?D=FDA-2015-D-3719-0018', '1', '0', 'altstar', '9/26/2016 3:26'], ['12579005', 'SQLAR  the SQLite Archiver', 'https://www.sqlite.org/sqlar/doc/trunk/README.md', '1', '0', 'blacksqr', '9/26/2016 3:24'], ['12578997', 'What if we just printed a flatscreen television on the side of our boxes?', 'https://medium.com/vanmoof/our-secrets-out-f21c1f03fdc8#.ietxmez43', '1', '0', 'pavel_lishin', '9/26/2016 3:19'], ['12578989', 'algorithmic music', 'http://cacm.acm.org/magazines/2011/7/109891-algorithmic-composition/fulltext', '1', '0', 'poindontcare', '9/26/2016 3:16']]\n",
      "293120\n"
     ]
    }
   ],
   "source": [
    "print(allposts[:5])\n",
    "print(len(allposts))"
   ]
  },
  {
   "cell_type": "markdown",
   "id": "a427a22a-7dc4-48b0-b9fc-44923adf3f49",
   "metadata": {},
   "source": [
    "Removing the header row:"
   ]
  },
  {
   "cell_type": "code",
   "execution_count": 133,
   "id": "d59d7301-12b1-428b-a2f3-ed0edfdf3077",
   "metadata": {},
   "outputs": [
    {
     "name": "stdout",
     "output_type": "stream",
     "text": [
      "The headers:\n",
      "['id', 'title', 'url', 'num_points', 'num_comments', 'author', 'created_at']\n",
      "\n",
      "\n",
      "The first five rows of data:\n",
      "['12579008', 'You have two days to comment if you want stem cells to be classified as your own', 'http://www.regulations.gov/document?D=FDA-2015-D-3719-0018', '1', '0', 'altstar', '9/26/2016 3:26']\n",
      "['12579005', 'SQLAR  the SQLite Archiver', 'https://www.sqlite.org/sqlar/doc/trunk/README.md', '1', '0', 'blacksqr', '9/26/2016 3:24']\n",
      "['12578997', 'What if we just printed a flatscreen television on the side of our boxes?', 'https://medium.com/vanmoof/our-secrets-out-f21c1f03fdc8#.ietxmez43', '1', '0', 'pavel_lishin', '9/26/2016 3:19']\n",
      "['12578989', 'algorithmic music', 'http://cacm.acm.org/magazines/2011/7/109891-algorithmic-composition/fulltext', '1', '0', 'poindontcare', '9/26/2016 3:16']\n",
      "['12578979', 'How the Data Vault Enables the Next-Gen Data Warehouse and Data Lake', 'https://www.talend.com/blog/2016/05/12/talend-and-Â\\x93the-data-vaultÂ\\x94', '1', '0', 'markgainor1', '9/26/2016 3:14']\n",
      "\n",
      "\n",
      "There are 293119 rows of data.\n"
     ]
    }
   ],
   "source": [
    "header = allposts[0]\n",
    "allposts = allposts[1:]\n",
    "\n",
    "print(\"The headers:\")\n",
    "print(header)\n",
    "print('\\n')\n",
    "print(\"The first five rows of data:\")  \n",
    "\n",
    "for row in allposts[0:5]:    \n",
    "    print(row)\n",
    "    \n",
    "print('\\n')\n",
    "print(\"There are\",len(allposts), \"rows of data.\")"
   ]
  },
  {
   "cell_type": "markdown",
   "id": "f44eee47-672b-47fb-9f90-81793293ac32",
   "metadata": {},
   "source": [
    "Separating \"Ask HN\", \"Show HN\" and \"Other\" posts into lists:"
   ]
  },
  {
   "cell_type": "code",
   "execution_count": 134,
   "id": "e62a40c1-cf5a-458a-abaa-039334c2b526",
   "metadata": {},
   "outputs": [
    {
     "name": "stdout",
     "output_type": "stream",
     "text": [
      "Total posts: 293119\n",
      "Ask posts: 9139\n",
      "Show posts: 10158\n",
      "Other posts: 273822\n"
     ]
    }
   ],
   "source": [
    "ask_posts = []\n",
    "show_posts = []\n",
    "other_posts = []\n",
    "\n",
    "for row in allposts:\n",
    "    title = row[1]\n",
    "    title = title.lower()\n",
    "    if title.startswith(\"ask hn\"):\n",
    "        ask_posts.append(row)\n",
    "    elif title.startswith(\"show hn\"):\n",
    "        show_posts.append(row)\n",
    "    else:\n",
    "        other_posts.append(row)\n",
    "                                 \n",
    "print(\"Total posts:\",len(allposts))\n",
    "print(\"Ask posts:\",len(ask_posts))\n",
    "print(\"Show posts:\",len(show_posts))\n",
    "print(\"Other posts:\",len(other_posts))"
   ]
  },
  {
   "cell_type": "markdown",
   "id": "53ecc574-f23b-49b9-8dd9-b48ac86f7596",
   "metadata": {},
   "source": [
    "Finding total number of comments in ask posts to determine the average number of comments per ask post:"
   ]
  },
  {
   "cell_type": "code",
   "execution_count": 136,
   "id": "70349399-b6f5-44f2-917b-ad0ba94ca39f",
   "metadata": {},
   "outputs": [
    {
     "name": "stdout",
     "output_type": "stream",
     "text": [
      "10.39\n"
     ]
    }
   ],
   "source": [
    "total_ask_comments = 0\n",
    "\n",
    "for row in ask_posts:\n",
    "    comments = int(row[4])\n",
    "    total_ask_comments = total_ask_comments + comments\n",
    "    \n",
    "avg_ask_comments = total_ask_comments / len(ask_posts)\n",
    "print(round(avg_ask_comments,2))"
   ]
  },
  {
   "cell_type": "markdown",
   "id": "ea715cef-2ded-44e6-9d16-a42f98a51dba",
   "metadata": {},
   "source": [
    "Finding total number of comments in ask posts to determine the average number of comments per ask post:"
   ]
  },
  {
   "cell_type": "code",
   "execution_count": 137,
   "id": "c84e2d10-21c7-4cde-937d-b5a1889882a5",
   "metadata": {},
   "outputs": [
    {
     "name": "stdout",
     "output_type": "stream",
     "text": [
      "5.43\n"
     ]
    }
   ],
   "source": [
    "total_show_comments = 0\n",
    "\n",
    "for row in show_posts:\n",
    "    comments = int(row[4])\n",
    "    total_show_comments = total_show_comments + comments\n",
    "    \n",
    "avg_show_comments = total_show_comments / len(ask_posts)\n",
    "print(round(avg_show_comments,2))"
   ]
  },
  {
   "cell_type": "markdown",
   "id": "0e4eb460-228b-4e3b-b1bf-1f3304402fb0",
   "metadata": {},
   "source": [
    "Posts that start with \"Ask HN\" receive, on average, 10.39 comments.\n",
    "Posts that start with \"Show HN\" receive, on average, 5.43 comments."
   ]
  },
  {
   "cell_type": "markdown",
   "id": "2015cc69-a23d-4d80-a6cb-5cfa0988952f",
   "metadata": {},
   "source": [
    "Importing the datetime module as dt:"
   ]
  },
  {
   "cell_type": "code",
   "execution_count": 138,
   "id": "85c9e03f-2040-4f77-9b9a-5ae2803e9e63",
   "metadata": {},
   "outputs": [],
   "source": [
    "import datetime as dt"
   ]
  },
  {
   "cell_type": "markdown",
   "id": "6515c36f-488f-476f-b41c-1a120aca0f66",
   "metadata": {},
   "source": [
    "Making sure datetime is working and we are able to extract the hour in double digit format:"
   ]
  },
  {
   "cell_type": "code",
   "execution_count": 141,
   "id": "3a1fef39-a425-4b06-b1c0-c06854801b58",
   "metadata": {},
   "outputs": [
    {
     "name": "stdout",
     "output_type": "stream",
     "text": [
      "['12578908', 'Ask HN: What TLD do you use for local development?', '', '4', '7', 'Sevrene', '9/26/2016 2:53']\n",
      "2016-09-26 02:53:00\n",
      "02\n",
      "2016-09-26 01:17:00\n",
      "01\n",
      "2016-09-25 22:57:00\n",
      "22\n",
      "2016-09-25 22:48:00\n",
      "22\n",
      "2016-09-25 21:50:00\n",
      "21\n"
     ]
    }
   ],
   "source": [
    "print(ask_posts[0])\n",
    "for row in ask_posts[:5]:\n",
    "    time = dt.datetime.strptime(row[6], \"%m/%d/%Y %H:%M\")\n",
    "    hour = dt.datetime.strftime(time, \"%H\")\n",
    "    print(time)\n",
    "    print(hour)"
   ]
  },
  {
   "cell_type": "markdown",
   "id": "a16100bf-8de7-4511-bf30-98318652d6f9",
   "metadata": {},
   "source": [
    "Creating dictionaries of hour : posts per hour and hour : total comments, then filling out:"
   ]
  },
  {
   "cell_type": "code",
   "execution_count": 142,
   "id": "9950e888-b3c1-45a6-97b8-aafbb7b79ab9",
   "metadata": {},
   "outputs": [
    {
     "name": "stdout",
     "output_type": "stream",
     "text": [
      "{'02': 269, '01': 282, '22': 383, '21': 518, '19': 552, '17': 587, '15': 646, '14': 513, '13': 444, '11': 312, '10': 282, '09': 222, '07': 226, '03': 271, '23': 343, '20': 510, '16': 579, '08': 257, '00': 301, '18': 614, '12': 342, '04': 243, '06': 234, '05': 209}\n",
      "{'02': 2996, '01': 2089, '22': 3372, '21': 4500, '19': 3954, '17': 5547, '15': 18525, '14': 4972, '13': 7245, '11': 2797, '10': 3013, '09': 1477, '07': 1585, '03': 2154, '23': 2297, '20': 4462, '16': 4466, '08': 2362, '00': 2277, '18': 4877, '12': 4234, '04': 2360, '06': 1587, '05': 1838}\n"
     ]
    }
   ],
   "source": [
    "counts_by_hour = {}\n",
    "comments_by_hour = {}\n",
    "\n",
    "for row in ask_posts:\n",
    "    comments = int(row[4])\n",
    "    time = dt.datetime.strptime(row[6], \"%m/%d/%Y %H:%M\")\n",
    "    hour = dt.datetime.strftime(time, \"%H\")\n",
    "    if hour in counts_by_hour:\n",
    "        counts_by_hour[hour] += 1\n",
    "    else:\n",
    "        counts_by_hour[hour] = 1\n",
    "        \n",
    "    if hour in comments_by_hour:\n",
    "        comments_by_hour[hour] += comments\n",
    "    else:\n",
    "        comments_by_hour[hour] = comments\n",
    "        \n",
    "print(counts_by_hour)\n",
    "print(comments_by_hour)"
   ]
  },
  {
   "cell_type": "markdown",
   "id": "2cd3f24e-0ffb-483b-8c54-66ea22dd896c",
   "metadata": {},
   "source": [
    "Creating a list of hour and average comments for the hour:"
   ]
  },
  {
   "cell_type": "code",
   "execution_count": 143,
   "id": "410c7619-7452-4016-a0ec-7e258e7e9453",
   "metadata": {},
   "outputs": [],
   "source": [
    "avg_comments_by_hour = []\n",
    "\n",
    "## for each row in the counts_by_hour dictionary\n",
    "for hour in counts_by_hour:\n",
    "    \n",
    "    ## append the avg_comments_by_hour_list\n",
    "    avg_comments_by_hour.append(\n",
    "        \n",
    "        ## the key in the dictionary becomes the first element in a list item\n",
    "        [hour,\n",
    "         \n",
    "         ## the \n",
    "             ## value for the corresponding key in the comments_by_hour dictionary \n",
    "         ## divided by \n",
    "             ## the value for the corresponding key in the counts_by_hour dictionary \n",
    "         ## becomes the second element in a list item\n",
    "         comments_by_hour[hour]/counts_by_hour[hour]\n",
    "        ]\n",
    "    )"
   ]
  },
  {
   "cell_type": "code",
   "execution_count": 144,
   "id": "48984e61-87fb-4a70-897b-7c44f5133729",
   "metadata": {},
   "outputs": [
    {
     "name": "stdout",
     "output_type": "stream",
     "text": [
      "[['02', 11.137546468401487], ['01', 7.407801418439717], ['22', 8.804177545691905], ['21', 8.687258687258687], ['19', 7.163043478260869], ['17', 9.449744463373083], ['15', 28.676470588235293], ['14', 9.692007797270955], ['13', 16.31756756756757], ['11', 8.96474358974359], ['10', 10.684397163120567], ['09', 6.653153153153153], ['07', 7.013274336283186], ['03', 7.948339483394834], ['23', 6.696793002915452], ['20', 8.749019607843136], ['16', 7.713298791018998], ['08', 9.190661478599221], ['00', 7.5647840531561465], ['18', 7.94299674267101], ['12', 12.380116959064328], ['04', 9.7119341563786], ['06', 6.782051282051282], ['05', 8.794258373205741]]\n"
     ]
    }
   ],
   "source": [
    "print(avg_comments_by_hour)"
   ]
  },
  {
   "cell_type": "markdown",
   "id": "ac442f0f-d91b-4a59-96f8-f75b5788175f",
   "metadata": {},
   "source": [
    "Rounding these averages down to 2 dp:"
   ]
  },
  {
   "cell_type": "code",
   "execution_count": 145,
   "id": "75fbf10d-e51e-4357-94c0-390f322ccbd0",
   "metadata": {},
   "outputs": [
    {
     "name": "stdout",
     "output_type": "stream",
     "text": [
      "[['02', 11.14], ['01', 7.41], ['22', 8.8], ['21', 8.69], ['19', 7.16], ['17', 9.45], ['15', 28.68], ['14', 9.69], ['13', 16.32], ['11', 8.96], ['10', 10.68], ['09', 6.65], ['07', 7.01], ['03', 7.95], ['23', 6.7], ['20', 8.75], ['16', 7.71], ['08', 9.19], ['00', 7.56], ['18', 7.94], ['12', 12.38], ['04', 9.71], ['06', 6.78], ['05', 8.79]]\n"
     ]
    }
   ],
   "source": [
    "for row in avg_comments_by_hour:\n",
    "    avg_comments = row[1]\n",
    "    avg_comments = round(avg_comments,2)\n",
    "    row[1] = avg_comments\n",
    "\n",
    "print(avg_comments_by_hour)"
   ]
  },
  {
   "cell_type": "markdown",
   "id": "c7163e8b-2dab-455e-8834-064beabadec6",
   "metadata": {},
   "source": [
    "Sorting these value to be in order of highest average posts to lowest average posts:"
   ]
  },
  {
   "cell_type": "markdown",
   "id": "fa249630-7c97-4cd8-a452-b8074cbfacbf",
   "metadata": {},
   "source": [
    "Swapping hour and avg_comments:"
   ]
  },
  {
   "cell_type": "code",
   "execution_count": 146,
   "id": "9c6f3f43-4571-4d6e-9f6e-0fb8e1128c45",
   "metadata": {},
   "outputs": [
    {
     "name": "stdout",
     "output_type": "stream",
     "text": [
      "[[11.14, '02'], [7.41, '01'], [8.8, '22'], [8.69, '21'], [7.16, '19'], [9.45, '17'], [28.68, '15'], [9.69, '14'], [16.32, '13'], [8.96, '11'], [10.68, '10'], [6.65, '09'], [7.01, '07'], [7.95, '03'], [6.7, '23'], [8.75, '20'], [7.71, '16'], [9.19, '08'], [7.56, '00'], [7.94, '18'], [12.38, '12'], [9.71, '04'], [6.78, '06'], [8.79, '05']]\n"
     ]
    }
   ],
   "source": [
    "swapped_avg_comments_by_hour = []\n",
    "for hour in avg_comments_by_hour:\n",
    "    hr = hour[0]\n",
    "    comments = hour[1]\n",
    "    swapped_avg_comments_by_hour.append([comments, hr])\n",
    "print(swapped_avg_comments_by_hour)"
   ]
  },
  {
   "cell_type": "markdown",
   "id": "9c336da9-1ab5-4c6c-8f17-88f6cad07401",
   "metadata": {},
   "source": [
    "Sorting the new list in descending order:"
   ]
  },
  {
   "cell_type": "code",
   "execution_count": 147,
   "id": "23aa3cfe-abea-4095-ae18-bcf15b949813",
   "metadata": {},
   "outputs": [
    {
     "name": "stdout",
     "output_type": "stream",
     "text": [
      "[[28.68, '15'], [16.32, '13'], [12.38, '12'], [11.14, '02'], [10.68, '10'], [9.71, '04'], [9.69, '14'], [9.45, '17'], [9.19, '08'], [8.96, '11'], [8.8, '22'], [8.79, '05'], [8.75, '20'], [8.69, '21'], [7.95, '03'], [7.94, '18'], [7.71, '16'], [7.56, '00'], [7.41, '01'], [7.16, '19'], [7.01, '07'], [6.78, '06'], [6.7, '23'], [6.65, '09']]\n"
     ]
    }
   ],
   "source": [
    "ordered_avg_comments_by_hour = sorted(swapped_avg_comments_by_hour,reverse=True)\n",
    "print(ordered_avg_comments_by_hour)"
   ]
  },
  {
   "cell_type": "markdown",
   "id": "ad8fcc69-a45e-45b8-a753-1603c9a4788d",
   "metadata": {},
   "source": [
    "Printing the top five hours for average comments per post in the \"Ask Post\" category of posts:"
   ]
  },
  {
   "cell_type": "code",
   "execution_count": 148,
   "id": "5f9f4414-cbca-49f2-b8ba-56ef4acd10b8",
   "metadata": {},
   "outputs": [
    {
     "name": "stdout",
     "output_type": "stream",
     "text": [
      "Top 5 Hours for Ask Posts Comments\n",
      "28.68 posts at 15\n",
      "16.32 posts at 13\n",
      "12.38 posts at 12\n",
      "11.14 posts at 02\n",
      "10.68 posts at 10\n"
     ]
    }
   ],
   "source": [
    "print(\"Top 5 Hours for Ask Posts Comments\")\n",
    "for row in ordered_avg_comments_by_hour[:5]:\n",
    "    print(row[0],\"posts at\",row[1])"
   ]
  },
  {
   "cell_type": "markdown",
   "id": "99284984-0af8-47b2-99be-9134384e4e9f",
   "metadata": {},
   "source": [
    "Based on the above, you are likely to receive the greatest number of comments on an \"Ask HN\" post if it is posted between 3:00pm and 4:00pm. If you are unable to post at this time, posting between 10:00 am and 4:00 pm will likely receive a large number of comments."
   ]
  },
  {
   "cell_type": "markdown",
   "id": "fa43c695-06a4-4202-9c95-49ed712a4e29",
   "metadata": {},
   "source": [
    "Repeating the process for \"Show HN\" posts:"
   ]
  },
  {
   "cell_type": "markdown",
   "id": "3aed0a15-4698-4a04-9002-ba835e69b8bd",
   "metadata": {},
   "source": [
    "Creating dictionaries of hour : posts per hour and hour : total comments, then filling out:"
   ]
  },
  {
   "cell_type": "code",
   "execution_count": 151,
   "id": "6bf35a7e-919c-40aa-896f-2649a33419b7",
   "metadata": {},
   "outputs": [
    {
     "name": "stdout",
     "output_type": "stream",
     "text": [
      "{'00': 276, '23': 319, '20': 525, '19': 556, '18': 656, '16': 801, '14': 696, '10': 323, '09': 302, '08': 316, '06': 192, '03': 206, '21': 430, '17': 761, '15': 836, '11': 402, '07': 236, '04': 194, '13': 610, '12': 516, '01': 247, '22': 377, '02': 209, '05': 172}\n",
      "{'00': 1283, '23': 1444, '20': 2183, '19': 2791, '18': 3242, '16': 3769, '14': 3839, '10': 1228, '09': 1411, '08': 1771, '06': 904, '03': 934, '21': 1759, '17': 3236, '15': 3824, '11': 2413, '07': 1577, '04': 978, '13': 3314, '12': 3609, '01': 1006, '22': 1450, '02': 1076, '05': 592}\n"
     ]
    }
   ],
   "source": [
    "counts_by_hour_2 = {}\n",
    "comments_by_hour_2 = {}\n",
    "\n",
    "for row in show_posts:\n",
    "    comments = int(row[4])\n",
    "    time = dt.datetime.strptime(row[6], \"%m/%d/%Y %H:%M\")\n",
    "    hour = dt.datetime.strftime(time, \"%H\")\n",
    "    if hour in counts_by_hour_2:\n",
    "        counts_by_hour_2[hour] += 1\n",
    "    else:\n",
    "        counts_by_hour_2[hour] = 1\n",
    "        \n",
    "    if hour in comments_by_hour_2:\n",
    "        comments_by_hour_2[hour] += comments\n",
    "    else:\n",
    "        comments_by_hour_2[hour] = comments\n",
    "        \n",
    "print(counts_by_hour_2)\n",
    "print(comments_by_hour_2)"
   ]
  },
  {
   "cell_type": "markdown",
   "id": "c6e7edca-1fbf-475f-ad7a-6c97d24bc3b0",
   "metadata": {},
   "source": [
    "Creating a list of hour and average comments for the hour:"
   ]
  },
  {
   "cell_type": "code",
   "execution_count": 158,
   "id": "b94fef10-2ecd-43e9-8ab4-fb31054fc381",
   "metadata": {},
   "outputs": [
    {
     "name": "stdout",
     "output_type": "stream",
     "text": [
      "[['00', 4.648550724637682], ['23', 4.5266457680250785], ['20', 4.158095238095238], ['19', 5.01978417266187], ['18', 4.942073170731708], ['16', 4.705368289637953], ['14', 5.515804597701149], ['10', 3.801857585139319], ['09', 4.672185430463577], ['08', 5.6044303797468356], ['06', 4.708333333333333], ['03', 4.533980582524272], ['21', 4.090697674418605], ['17', 4.252299605781866], ['15', 4.574162679425838], ['11', 6.002487562189055], ['07', 6.682203389830509], ['04', 5.041237113402062], ['13', 5.432786885245902], ['12', 6.994186046511628], ['01', 4.0728744939271255], ['22', 3.8461538461538463], ['02', 5.148325358851674], ['05', 3.441860465116279]]\n"
     ]
    }
   ],
   "source": [
    "avg_comments_by_hour_2 = []\n",
    "\n",
    "## for each row in the counts_by_hour dictionary\n",
    "for hour in counts_by_hour_2:\n",
    "    \n",
    "    ## append the avg_comments_by_hour_list\n",
    "    avg_comments_by_hour_2.append(\n",
    "        \n",
    "        ## the key in the dictionary becomes the first element in a list item\n",
    "        [hour,\n",
    "         \n",
    "         ## the \n",
    "             ## value for the corresponding key in the comments_by_hour dictionary \n",
    "         ## divided by \n",
    "             ## the value for the corresponding key in the counts_by_hour dictionary \n",
    "         ## becomes the second element in a list item\n",
    "         comments_by_hour_2[hour]/counts_by_hour_2[hour]\n",
    "        ]\n",
    "    )\n",
    "print(avg_comments_by_hour_2)"
   ]
  },
  {
   "cell_type": "markdown",
   "id": "f8695116-f659-4a1d-9577-bb0e6ecc412a",
   "metadata": {},
   "source": [
    "Rounding these averages down to 2 dp:"
   ]
  },
  {
   "cell_type": "code",
   "execution_count": 159,
   "id": "416bb588-051b-4328-957c-f889ab8732e2",
   "metadata": {},
   "outputs": [
    {
     "name": "stdout",
     "output_type": "stream",
     "text": [
      "[['00', 4.65], ['23', 4.53], ['20', 4.16], ['19', 5.02], ['18', 4.94], ['16', 4.71], ['14', 5.52], ['10', 3.8], ['09', 4.67], ['08', 5.6], ['06', 4.71], ['03', 4.53], ['21', 4.09], ['17', 4.25], ['15', 4.57], ['11', 6.0], ['07', 6.68], ['04', 5.04], ['13', 5.43], ['12', 6.99], ['01', 4.07], ['22', 3.85], ['02', 5.15], ['05', 3.44]]\n"
     ]
    }
   ],
   "source": [
    "for row in avg_comments_by_hour_2:\n",
    "    avg_comments = row[1]\n",
    "    avg_comments = round(avg_comments,2)\n",
    "    row[1] = avg_comments\n",
    "\n",
    "print(avg_comments_by_hour_2)"
   ]
  },
  {
   "cell_type": "markdown",
   "id": "8c4b3163-16df-4022-a4ba-46d942d3cd11",
   "metadata": {},
   "source": [
    "Sorting these value to be in order of highest average posts to lowest average posts:"
   ]
  },
  {
   "cell_type": "markdown",
   "id": "8e98f348-f1fe-454d-80ef-a5bede76c5d6",
   "metadata": {},
   "source": [
    "Swapping hour and avg_comments:"
   ]
  },
  {
   "cell_type": "code",
   "execution_count": 160,
   "id": "6bf6c45e-74b1-45b9-8743-2f7963a28579",
   "metadata": {},
   "outputs": [
    {
     "name": "stdout",
     "output_type": "stream",
     "text": [
      "[[4.65, '00'], [4.53, '23'], [4.16, '20'], [5.02, '19'], [4.94, '18'], [4.71, '16'], [5.52, '14'], [3.8, '10'], [4.67, '09'], [5.6, '08'], [4.71, '06'], [4.53, '03'], [4.09, '21'], [4.25, '17'], [4.57, '15'], [6.0, '11'], [6.68, '07'], [5.04, '04'], [5.43, '13'], [6.99, '12'], [4.07, '01'], [3.85, '22'], [5.15, '02'], [3.44, '05']]\n"
     ]
    }
   ],
   "source": [
    "swapped_avg_comments_by_hour_2 = []\n",
    "for hour in avg_comments_by_hour_2:\n",
    "    hr = hour[0]\n",
    "    comments = hour[1]\n",
    "    swapped_avg_comments_by_hour_2.append([comments, hr])\n",
    "print(swapped_avg_comments_by_hour_2)"
   ]
  },
  {
   "cell_type": "markdown",
   "id": "3cece89c-f18e-48e2-85eb-e8d4d2073811",
   "metadata": {},
   "source": [
    "Sorting the new list in descending order:"
   ]
  },
  {
   "cell_type": "code",
   "execution_count": 161,
   "id": "34e052bb-8e80-4d4f-9c23-3706d1f01e80",
   "metadata": {},
   "outputs": [
    {
     "name": "stdout",
     "output_type": "stream",
     "text": [
      "[[6.99, '12'], [6.68, '07'], [6.0, '11'], [5.6, '08'], [5.52, '14'], [5.43, '13'], [5.15, '02'], [5.04, '04'], [5.02, '19'], [4.94, '18'], [4.71, '16'], [4.71, '06'], [4.67, '09'], [4.65, '00'], [4.57, '15'], [4.53, '23'], [4.53, '03'], [4.25, '17'], [4.16, '20'], [4.09, '21'], [4.07, '01'], [3.85, '22'], [3.8, '10'], [3.44, '05']]\n"
     ]
    }
   ],
   "source": [
    "ordered_avg_comments_by_hour_2 = sorted(swapped_avg_comments_by_hour_2,reverse=True)\n",
    "print(ordered_avg_comments_by_hour_2)"
   ]
  },
  {
   "cell_type": "markdown",
   "id": "0374914c-c4fa-40cc-a50b-e724d9d5fbc2",
   "metadata": {},
   "source": [
    "Printing the top five hours for average comments per post in the \"Ask Post\" category of posts:"
   ]
  },
  {
   "cell_type": "code",
   "execution_count": 162,
   "id": "46c9d9fc-6426-4605-adeb-db0706c6c89c",
   "metadata": {},
   "outputs": [
    {
     "name": "stdout",
     "output_type": "stream",
     "text": [
      "Top 5 Hours for Show Posts Comments\n",
      "6.99 posts at 12\n",
      "6.68 posts at 07\n",
      "6.0 posts at 11\n",
      "5.6 posts at 08\n",
      "5.52 posts at 14\n"
     ]
    }
   ],
   "source": [
    "print(\"Top 5 Hours for Show Posts Comments\")\n",
    "for row in ordered_avg_comments_by_hour_2[:5]:\n",
    "    print(row[0],\"posts at\",row[1])"
   ]
  },
  {
   "cell_type": "markdown",
   "id": "b5803897-ad7c-42de-973f-c57e7db2cfa2",
   "metadata": {},
   "source": [
    "Based on the above, you are likely to receive the greatest number of comments on a \"Show HN\" post if it is posted between 12:00pm and 1:00pm. If you are unable to post at this time, posting between 7:00 am and 1:00 pm will likely receive a large number of comments.\n",
    "\n",
    "This may be due to users reading and commenting on articles earlier in the day, but unable to take the time to answer questions until later in the day."
   ]
  },
  {
   "cell_type": "markdown",
   "id": "654cd278-ac8c-4871-9799-412a54b00e3b",
   "metadata": {},
   "source": [
    "## Conclusion"
   ]
  },
  {
   "cell_type": "markdown",
   "id": "65792c52-f8be-491f-84bd-49267f4912fc",
   "metadata": {},
   "source": [
    "Our aim was to compare \"Ask HN\" and \"Show HN\" posts to answer the following questions:\n",
    "\n",
    "1) Which type of post receives more comments, on average?\n",
    "\n",
    "`Ask HN` posts receive more comments, on average. \n",
    "\n",
    "Posts that start with `Ask HN` receive, on average, 10.39 comments.\n",
    "\n",
    "Posts that start with `Show HN` receive, on average, 5.43 comments.\n",
    "\n",
    "2) Does the time a post is created affect the average number of comments?\n",
    "\n",
    "The time a post is created does affect the average number of comments, and the ideal times are different for each type of post.\n",
    "\n",
    "Top 5 Hours for `Ask HN` Comments\n",
    "28.68 posts at 15\n",
    "16.32 posts at 13\n",
    "12.38 posts at 12\n",
    "11.14 posts at 02\n",
    "10.68 posts at 10\n",
    "\n",
    "Top 5 Hours for `Show HN` Comments\n",
    "6.99 posts at 12\n",
    "6.68 posts at 07\n",
    "6.0 posts at 11\n",
    "5.6 posts at 08\n",
    "5.52 posts at 14"
   ]
  },
  {
   "cell_type": "markdown",
   "id": "35aef0c9-9322-4d26-a6bc-c11c69aa24cd",
   "metadata": {},
   "source": [
    "### Average Comments per `Ask HN` Post at Different Times of the Day"
   ]
  },
  {
   "cell_type": "code",
   "execution_count": 198,
   "id": "1d4af314-4644-4a6a-9fcf-e86095e10d17",
   "metadata": {},
   "outputs": [],
   "source": [
    "import pandas as pd\n",
    "from IPython.display import display, HTML"
   ]
  },
  {
   "cell_type": "code",
   "execution_count": 199,
   "id": "ce032a23-8009-4203-acc2-09a3cce1fda3",
   "metadata": {},
   "outputs": [
    {
     "data": {
      "text/html": [
       "<table border=\"1\" class=\"dataframe\">\n",
       "  <thead>\n",
       "    <tr style=\"text-align: right;\">\n",
       "      <th>Average Comments</th>\n",
       "      <th>Hour</th>\n",
       "    </tr>\n",
       "  </thead>\n",
       "  <tbody>\n",
       "    <tr>\n",
       "      <td>28.68</td>\n",
       "      <td>15</td>\n",
       "    </tr>\n",
       "    <tr>\n",
       "      <td>16.32</td>\n",
       "      <td>13</td>\n",
       "    </tr>\n",
       "    <tr>\n",
       "      <td>12.38</td>\n",
       "      <td>12</td>\n",
       "    </tr>\n",
       "    <tr>\n",
       "      <td>11.14</td>\n",
       "      <td>02</td>\n",
       "    </tr>\n",
       "    <tr>\n",
       "      <td>10.68</td>\n",
       "      <td>10</td>\n",
       "    </tr>\n",
       "  </tbody>\n",
       "</table>"
      ],
      "text/plain": [
       "<IPython.core.display.HTML object>"
      ]
     },
     "metadata": {},
     "output_type": "display_data"
    }
   ],
   "source": [
    "df = pd.DataFrame(data=ordered_avg_comments_by_hour[:5],columns=['Average Comments','Hour'])\n",
    "display(HTML(df.to_html(index=False)))"
   ]
  },
  {
   "cell_type": "markdown",
   "id": "fcd98d9d-a5e5-4c44-a2e4-642b71d4f655",
   "metadata": {},
   "source": [
    "### Average Comments per `Show HN` Post at Different Times of the Day"
   ]
  },
  {
   "cell_type": "code",
   "execution_count": 201,
   "id": "d48483c1-681a-41c9-9c71-8ca31e08995b",
   "metadata": {},
   "outputs": [
    {
     "data": {
      "text/html": [
       "<table border=\"1\" class=\"dataframe\">\n",
       "  <thead>\n",
       "    <tr style=\"text-align: right;\">\n",
       "      <th>Average Comments</th>\n",
       "      <th>Hour</th>\n",
       "    </tr>\n",
       "  </thead>\n",
       "  <tbody>\n",
       "    <tr>\n",
       "      <td>6.99</td>\n",
       "      <td>12</td>\n",
       "    </tr>\n",
       "    <tr>\n",
       "      <td>6.68</td>\n",
       "      <td>07</td>\n",
       "    </tr>\n",
       "    <tr>\n",
       "      <td>6.00</td>\n",
       "      <td>11</td>\n",
       "    </tr>\n",
       "    <tr>\n",
       "      <td>5.60</td>\n",
       "      <td>08</td>\n",
       "    </tr>\n",
       "    <tr>\n",
       "      <td>5.52</td>\n",
       "      <td>14</td>\n",
       "    </tr>\n",
       "  </tbody>\n",
       "</table>"
      ],
      "text/plain": [
       "<IPython.core.display.HTML object>"
      ]
     },
     "metadata": {},
     "output_type": "display_data"
    }
   ],
   "source": [
    "df = pd.DataFrame(data=ordered_avg_comments_by_hour_2[:5],columns=['Average Comments','Hour'])\n",
    "display(HTML(df.to_html(index=False)))"
   ]
  },
  {
   "cell_type": "code",
   "execution_count": null,
   "id": "f307496d-6c1e-40a8-aeb1-db94576ca292",
   "metadata": {},
   "outputs": [],
   "source": []
  }
 ],
 "metadata": {
  "kernelspec": {
   "display_name": "Python 3 (ipykernel)",
   "language": "python",
   "name": "python3"
  },
  "language_info": {
   "codemirror_mode": {
    "name": "ipython",
    "version": 3
   },
   "file_extension": ".py",
   "mimetype": "text/x-python",
   "name": "python",
   "nbconvert_exporter": "python",
   "pygments_lexer": "ipython3",
   "version": "3.10.8"
  }
 },
 "nbformat": 4,
 "nbformat_minor": 5
}
