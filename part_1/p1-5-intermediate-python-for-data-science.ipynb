{
 "cells": [
  {
   "cell_type": "markdown",
   "id": "2a39f5ef-9f86-4170-9054-c8b679a2ffd9",
   "metadata": {},
   "source": [
    "# Part 1.5: Intermediate Python for Data Science"
   ]
  },
  {
   "cell_type": "markdown",
   "id": "db10622c-c7e8-4f16-a3e6-ae6c4e69b241",
   "metadata": {},
   "source": [
    "Unfortunately I am unable to include the datasets from Dataquest as they are a subscriber-only feature."
   ]
  },
  {
   "cell_type": "markdown",
   "id": "fae14bdb-8e0b-4a10-be35-593b4077aeaf",
   "metadata": {},
   "source": [
    "## Cleaning and Preparing Data in Python"
   ]
  },
  {
   "cell_type": "markdown",
   "id": "323486b2-1228-4ea3-bc89-2a0180ba8179",
   "metadata": {},
   "source": [
    "Counting rows in a dataset:"
   ]
  },
  {
   "cell_type": "code",
   "execution_count": null,
   "id": "c760f906-0988-4747-a31d-49fd75a8f23d",
   "metadata": {},
   "outputs": [],
   "source": [
    "num_rows = len(moma)\n",
    "print(num_rows)"
   ]
  },
  {
   "cell_type": "markdown",
   "id": "dd703f54-7011-405a-8a71-f292ffb96948",
   "metadata": {},
   "source": [
    "Opening a dataset and removing the header row:"
   ]
  },
  {
   "cell_type": "code",
   "execution_count": null,
   "id": "c7a2a8d8-53e8-4948-affa-06581c62be0e",
   "metadata": {},
   "outputs": [],
   "source": [
    "opened_file = open('artworks.csv')\n",
    "read_file = reader(opened_file)\n",
    "moma = list(read_file)\n",
    "moma = moma[1:]"
   ]
  },
  {
   "cell_type": "markdown",
   "id": "4269f7af-fba1-483e-928f-9082d0c58bf6",
   "metadata": {},
   "source": [
    "Simple substring replacement:"
   ]
  },
  {
   "cell_type": "code",
   "execution_count": 2,
   "id": "16458b18-8f1b-43da-a396-63d58e0a6532",
   "metadata": {},
   "outputs": [
    {
     "name": "stdout",
     "output_type": "stream",
     "text": [
      "I am thirty-two years old\n"
     ]
    }
   ],
   "source": [
    "age1 = \"I am thirty-one years old\"\n",
    "age2 = age1.replace(\"thirty-one\",\"thirty-two\")\n",
    "print(age2)"
   ]
  },
  {
   "cell_type": "markdown",
   "id": "6f80376b-acd9-4462-9337-0c65d45c342e",
   "metadata": {},
   "source": [
    "Transforming titles before replacing blank elements:"
   ]
  },
  {
   "cell_type": "code",
   "execution_count": null,
   "id": "ce7459e5-b0a5-4f74-ae57-5d8fe7c693ad",
   "metadata": {},
   "outputs": [],
   "source": [
    "for row in moma:\n",
    "    gender = row[5]\n",
    "    gender = gender.title()\n",
    "    if not gender:\n",
    "        gender = \"Gender Unknown/Other\"\n",
    "    row[5] = gender\n",
    "\n",
    "for row in moma:\n",
    "    nationality = row[2]\n",
    "    nationality = nationality.title()\n",
    "    if not nationality:\n",
    "        nationality = \"Nationality Unknown\"\n",
    "    row[2] = nationality\n",
    "    \n",
    "print(moma[200])"
   ]
  },
  {
   "cell_type": "markdown",
   "id": "fa14e1c7-7a06-45b7-ad85-104a13026e41",
   "metadata": {},
   "source": [
    "Cleaning and converting birth/death years to ints:"
   ]
  },
  {
   "cell_type": "code",
   "execution_count": null,
   "id": "9078461c-62e7-43f9-a397-931696459afe",
   "metadata": {},
   "outputs": [],
   "source": [
    "def clean_and_convert(date):\n",
    "    # check that we don't have an empty string\n",
    "    if date != \"\":\n",
    "        # move the rest of the function inside\n",
    "        # the if statement\n",
    "        date = date.replace(\"(\", \"\")\n",
    "        date = date.replace(\")\", \"\")\n",
    "        date = int(date)\n",
    "    return date\n",
    "\n",
    "for row in moma:\n",
    "    birth_date = row[3]\n",
    "    death_date = row[4]\n",
    "    birth_date = clean_and_convert(birth_date)\n",
    "    death_date = clean_and_convert(death_date)\n",
    "    row[3] = birth_date\n",
    "    row[4] = death_date\n",
    "    \n",
    "print(moma[200])"
   ]
  },
  {
   "cell_type": "markdown",
   "id": "f1bbfd93-3f37-45d5-852d-a19b4d714226",
   "metadata": {},
   "source": [
    "Parsing numbers from complex string:"
   ]
  },
  {
   "cell_type": "code",
   "execution_count": 1,
   "id": "51ef68e3-5a53-4a85-b539-d44b8f8e32c5",
   "metadata": {},
   "outputs": [
    {
     "name": "stdout",
     "output_type": "stream",
     "text": [
      "['1912', '1929', '1913-1923', '1951', '1994', '1934', '1915', '1995', '1912', '1988', '2002', '1957-1959', '1955', '1970', '1990-1999']\n"
     ]
    }
   ],
   "source": [
    "test_data = [\"1912\", \"1929\", \"1913-1923\",\n",
    "             \"(1951)\", \"1994\", \"1934\",\n",
    "             \"c. 1915\", \"1995\", \"c. 1912\",\n",
    "             \"(1988)\", \"2002\", \"1957-1959\",\n",
    "             \"c. 1955.\", \"c. 1970's\", \n",
    "             \"C. 1990-1999\"]\n",
    "\n",
    "bad_chars = [\"(\",\")\",\"c\",\"C\",\".\",\"s\",\"'\", \" \"]\n",
    "\n",
    "def strip_characters(string):\n",
    "    for char in bad_chars:\n",
    "        string = string.replace(char, \"\")\n",
    "    return string\n",
    "\n",
    "stripped_test_data = []\n",
    "\n",
    "for date in test_data:\n",
    "    date = strip_characters(date)\n",
    "    stripped_test_data.append(date)\n",
    "\n",
    "print(stripped_test_data)"
   ]
  },
  {
   "cell_type": "code",
   "execution_count": null,
   "id": "c6d8ebcd-88fb-4810-99a1-4ae42f97892b",
   "metadata": {},
   "outputs": [
    {
     "name": "stdout",
     "output_type": "stream",
     "text": [
      "[1912, 1929, 1918, 1951, 1994, 1934, 1915, 1995, 1912, 1988, 2002, 1958, 1955, 1970, 1994]\n"
     ]
    }
   ],
   "source": [
    "\n",
    "test_data = [\"1912\", \"1929\", \"1913-1923\",\n",
    "             \"(1951)\", \"1994\", \"1934\",\n",
    "             \"c. 1915\", \"1995\", \"c. 1912\",\n",
    "             \"(1988)\", \"2002\", \"1957-1959\",\n",
    "             \"c. 1955.\", \"c. 1970's\", \n",
    "             \"C. 1990-1999\"]\n",
    "\n",
    "bad_chars = [\"(\",\")\",\"c\",\"C\",\".\",\"s\",\"'\", \" \"]\n",
    "\n",
    "def strip_characters(string):\n",
    "    for char in bad_chars:\n",
    "        string = string.replace(char,\"\")\n",
    "    return string\n",
    "\n",
    "stripped_test_data = ['1912', '1929', '1913-1923',\n",
    "                      '1951', '1994', '1934',\n",
    "                      '1915', '1995', '1912',\n",
    "                      '1988', '2002', '1957-1959',\n",
    "                      '1955', '1970', '1990-1999']\n",
    "\n",
    "def process_date(string):\n",
    "    if \"-\" in string:\n",
    "        split_date = string.split(\"-\")\n",
    "        date_1 = split_date[0]\n",
    "        date_2 = split_date[1]\n",
    "        date = (int(date_1) + int(date_2)) / 2\n",
    "        string = round(date)\n",
    "    else:\n",
    "        string = int(string)\n",
    "    return string\n",
    "\n",
    "processed_test_data = []\n",
    "\n",
    "for date in stripped_test_data:\n",
    "    newdate = process_date(date)\n",
    "    processed_test_data.append(newdate)\n",
    "    \n",
    "print(processed_test_data)\n",
    "\n",
    "for row in moma:\n",
    "    date = row[6]\n",
    "    date = strip_characters(date)\n",
    "    date = process_date(date)\n",
    "    row[6] = date"
   ]
  },
  {
   "cell_type": "markdown",
   "id": "e56ca2f2-4104-4983-8473-28155a93eeef",
   "metadata": {},
   "source": [
    "## Python Data Analysis Basics"
   ]
  },
  {
   "cell_type": "markdown",
   "id": "1bb299c4-eb36-4537-8c7f-facdab5d3c14",
   "metadata": {},
   "source": [
    "Converting dates as strings to ints:"
   ]
  },
  {
   "cell_type": "code",
   "execution_count": null,
   "id": "5292fae9-fee6-4f9e-aa90-50536c74d559",
   "metadata": {},
   "outputs": [],
   "source": [
    "from csv import reader\n",
    "\n",
    "# Read the `artworks_clean.csv` file\n",
    "opened_file = open('artworks_clean.csv')\n",
    "read_file = reader(opened_file)\n",
    "moma = list(read_file)\n",
    "moma = moma[1:]\n",
    "\n",
    "# Convert the birthdate values\n",
    "for row in moma:\n",
    "    birth_date = row[3]\n",
    "    if birth_date != \"\":\n",
    "        birth_date = int(birth_date)\n",
    "    row[3] = birth_date\n",
    "    \n",
    "# Convert the death date values\n",
    "for row in moma:\n",
    "    death_date = row[4]\n",
    "    if death_date != \"\":\n",
    "        death_date = int(death_date)\n",
    "    row[4] = death_date\n",
    "\n",
    "# Write your code below\n",
    "\n",
    "for row in moma:\n",
    "    date = row[6]\n",
    "    if date != \"\":\n",
    "        date = int(date)\n",
    "    row[6] = date"
   ]
  },
  {
   "cell_type": "markdown",
   "id": "330f0804-177c-4adc-b677-24082539834d",
   "metadata": {},
   "source": [
    "Calculating ages:"
   ]
  },
  {
   "cell_type": "code",
   "execution_count": null,
   "id": "53a855c2-5153-4a18-a8b6-d85293273329",
   "metadata": {},
   "outputs": [],
   "source": [
    "ages = []\n",
    "\n",
    "for row in moma:\n",
    "    date = row[6]\n",
    "    birth = row[3]\n",
    "    if type(birth) == int:\n",
    "        age = date - birth\n",
    "    else:\n",
    "        age = 0\n",
    "    ages.append(age)\n",
    "\n",
    "final_ages = []\n",
    "\n",
    "for age in ages:\n",
    "    if age > 20:\n",
    "        final_age = age\n",
    "    else:\n",
    "        final_age = \"Unknown\"\n",
    "    final_ages.append(final_age)"
   ]
  },
  {
   "cell_type": "markdown",
   "id": "8f675ec3-1232-462d-b6d0-a6825b6fdfb6",
   "metadata": {},
   "source": [
    "Converting ages to decades:"
   ]
  },
  {
   "cell_type": "code",
   "execution_count": null,
   "id": "f10353ea-bd14-483d-836c-59d227a8a884",
   "metadata": {},
   "outputs": [],
   "source": [
    "decades = []\n",
    "\n",
    "for age in final_ages:\n",
    "    if age == \"Unknown\":\n",
    "        decade = age\n",
    "    else:\n",
    "        decade = str(age)\n",
    "        decade = decade[:-1]\n",
    "        decade = decade + \"0s\"\n",
    "    decades.append(decade)"
   ]
  },
  {
   "cell_type": "markdown",
   "id": "f4ec1cd8-dee1-4d1a-b3fb-2fb353f20329",
   "metadata": {},
   "source": [
    "Creating frequency table:"
   ]
  },
  {
   "cell_type": "code",
   "execution_count": null,
   "id": "10ed27a7-5cb2-4f49-87c3-d99a0d7c21f8",
   "metadata": {},
   "outputs": [],
   "source": [
    "decade_frequency = {}\n",
    "\n",
    "for decade in decades:\n",
    "    if decade in decade_frequency:\n",
    "        decade_frequency[decade] += 1\n",
    "    else:\n",
    "        decade_frequency[decade] = 1\n",
    "    \n",
    "print(decade_frequency)"
   ]
  },
  {
   "cell_type": "markdown",
   "id": "ce830393-f4b5-495f-a27d-22025ceeaeed",
   "metadata": {},
   "source": [
    "Inserting variables into strings:"
   ]
  },
  {
   "cell_type": "code",
   "execution_count": 5,
   "id": "fc23d34f-25b4-4af1-b3f5-991d9156b658",
   "metadata": {},
   "outputs": [
    {
     "name": "stdout",
     "output_type": "stream",
     "text": [
      "Pablo Picasso's birth year is 1881\n"
     ]
    }
   ],
   "source": [
    "artist = \"Pablo Picasso\"\n",
    "birth_year = 1881\n",
    "\n",
    "template = \"{name}'s birth year is {year}\"\n",
    "output = template.format(name=artist, year = birth_year)\n",
    "print(output)"
   ]
  },
  {
   "cell_type": "markdown",
   "id": "d99a9f9a-0ca8-4245-9cc0-3ea5cc2c6967",
   "metadata": {},
   "source": [
    "Creating an artist frequency table:"
   ]
  },
  {
   "cell_type": "code",
   "execution_count": null,
   "id": "abbfabc9-4f23-45ac-b938-ce8b599acd91",
   "metadata": {},
   "outputs": [],
   "source": [
    "gender_freq = {}\n",
    "\n",
    "for row in moma:\n",
    "    gender = row[5]\n",
    "    if gender in gender_freq:\n",
    "        gender_freq[gender] += 1\n",
    "    else:\n",
    "        gender_freq[gender] = 1\n",
    "        \n",
    "print(gender_freq)\n",
    "\n",
    "artist_freq = {}\n",
    "\n",
    "for row in moma:\n",
    "    artist = row[1]\n",
    "    if artist in artist_freq:\n",
    "        artist_freq[artist] += 1\n",
    "    else:\n",
    "        artist_freq[artist] = 1\n",
    "        \n",
    "print(artist_freq)"
   ]
  },
  {
   "cell_type": "markdown",
   "id": "641619b1-316b-46f9-9e55-d260d314288f",
   "metadata": {},
   "source": [
    "Creating an artist summary function:"
   ]
  },
  {
   "cell_type": "code",
   "execution_count": null,
   "id": "e760da15-cc5c-4e59-94c3-6bf413916f8e",
   "metadata": {},
   "outputs": [],
   "source": [
    "def artist_summary(name):\n",
    "    num_works = artist_freq[name]\n",
    "    template = \"There are {number} artworks by {artist_name} in the dataset\"\n",
    "    output = template.format(number = num_works, artist_name = name)\n",
    "    print(output)\n",
    "    \n",
    "artist_summary(\"Henri Matisse\")"
   ]
  },
  {
   "cell_type": "markdown",
   "id": "73b074da-f93a-478a-896b-48a0bae101fc",
   "metadata": {},
   "source": [
    "Formatting numbers inside strings:"
   ]
  },
  {
   "cell_type": "code",
   "execution_count": 6,
   "id": "275bbe24-3210-40dd-bf62-291f707b799b",
   "metadata": {},
   "outputs": [
    {
     "name": "stdout",
     "output_type": "stream",
     "text": [
      "The population of China is 1,379.30 million\n",
      "The population of India is 1,281.94 million\n",
      "The population of USA is 326.63 million\n",
      "The population of Indonesia is 260.58 million\n",
      "The population of Brazil is 207.35 million\n"
     ]
    }
   ],
   "source": [
    "pop_millions = [\n",
    "    [\"China\", 1379.302771],\n",
    "    [\"India\", 1281.935991],\n",
    "    [\"USA\",  326.625791],\n",
    "    [\"Indonesia\",  260.580739],\n",
    "    [\"Brazil\",  207.353391],\n",
    "]\n",
    "\n",
    "template = \"The population of {country} is {number:,.2f} million\"\n",
    "\n",
    "for row in pop_millions:\n",
    "    country = row[0]\n",
    "    number = row[1]\n",
    "    output = template.format(country=country, number=number)\n",
    "    print(output)"
   ]
  },
  {
   "cell_type": "markdown",
   "id": "db015532-d79f-4491-b9cc-2e9d420dc1cf",
   "metadata": {},
   "source": [
    "Summarizing Artwork Gender Data"
   ]
  },
  {
   "cell_type": "code",
   "execution_count": null,
   "id": "6d1b07d7-0b48-44c0-8290-5630661b5d8c",
   "metadata": {},
   "outputs": [],
   "source": [
    "gender_freq = {}\n",
    "\n",
    "for row in moma:\n",
    "    gender = row[5]\n",
    "    if gender in gender_freq:\n",
    "        gender_freq[gender] += 1\n",
    "    else:\n",
    "        gender_freq[gender] = 1\n",
    "\n",
    "for gender, num in gender_freq.items():\n",
    "    template = \"There are {n:,} artworks by {g} artists\"\n",
    "    print(template.format(g=gender, n=num))"
   ]
  },
  {
   "cell_type": "markdown",
   "id": "dc01d3e1-71ee-45bf-bcfc-c4efb3beb749",
   "metadata": {},
   "source": [
    "## Object-Oriented Python"
   ]
  },
  {
   "cell_type": "markdown",
   "id": "3e5d5803-60ac-44fc-a276-1537f7ee63f3",
   "metadata": {},
   "source": [
    "Querying the class an object is:"
   ]
  },
  {
   "cell_type": "code",
   "execution_count": 8,
   "id": "a80245b0-b61c-4cb9-9708-cec79b43fe81",
   "metadata": {},
   "outputs": [
    {
     "name": "stdout",
     "output_type": "stream",
     "text": [
      "<class 'list'>\n",
      "<class 'str'>\n",
      "<class 'dict'>\n"
     ]
    }
   ],
   "source": [
    "l = [1, 2, 3]\n",
    "s = \"string\"\n",
    "d = {\"a\": 1, \"b\": 2}\n",
    "\n",
    "print(type(l))\n",
    "print(type(s))\n",
    "print(type(d))"
   ]
  },
  {
   "cell_type": "markdown",
   "id": "6e07eb31-42e5-4a0a-ae31-05c36b258749",
   "metadata": {},
   "source": [
    "Creating a placeholder class:"
   ]
  },
  {
   "cell_type": "code",
   "execution_count": null,
   "id": "92fc95de-46ed-4dd9-8e61-356d124f2abe",
   "metadata": {},
   "outputs": [],
   "source": [
    "class MyClass:\n",
    "    pass"
   ]
  },
  {
   "cell_type": "markdown",
   "id": "ecc6186c-c5b0-42c1-b03d-46b4879cfe9d",
   "metadata": {},
   "source": [
    "Instantiating a custom class:"
   ]
  },
  {
   "cell_type": "code",
   "execution_count": 10,
   "id": "1889c6d5-2f70-4b7a-9e11-25fcfe24db10",
   "metadata": {},
   "outputs": [
    {
     "name": "stdout",
     "output_type": "stream",
     "text": [
      "<class '__main__.MyClass'>\n"
     ]
    }
   ],
   "source": [
    "class MyClass:\n",
    "    pass\n",
    "\n",
    "my_instance = MyClass()\n",
    "print(type(my_instance))"
   ]
  },
  {
   "cell_type": "markdown",
   "id": "3e72e95d-195a-4908-92cc-60a7fd92c4d2",
   "metadata": {},
   "source": [
    "Class with basic method:"
   ]
  },
  {
   "cell_type": "code",
   "execution_count": 13,
   "id": "5c5228ee-d4d0-459e-a5dc-339f43522262",
   "metadata": {},
   "outputs": [],
   "source": [
    "class MyClass:\n",
    "    def first_method():\n",
    "        return \"This is my first method\"\n",
    "        \n",
    "my_instance = MyClass()"
   ]
  },
  {
   "cell_type": "code",
   "execution_count": 12,
   "id": "a1b75bd4-34db-44af-83c2-ca38f5b18288",
   "metadata": {},
   "outputs": [],
   "source": [
    "class MyClass:\n",
    "    def first_method(self):\n",
    "        return \"This is my first method\"\n",
    "    \n",
    "my_instance = MyClass()\n",
    "result = my_instance.first_method()"
   ]
  },
  {
   "cell_type": "code",
   "execution_count": 11,
   "id": "bbc24f30-ea01-4af6-9b20-879693c4fb96",
   "metadata": {},
   "outputs": [
    {
     "name": "stdout",
     "output_type": "stream",
     "text": [
      "[1, 2, 3]\n"
     ]
    }
   ],
   "source": [
    "class MyClass:\n",
    "    \n",
    "    def first_method(self):\n",
    "        return \"This is my first method\"\n",
    "    \n",
    "    # Add method here\n",
    "    \n",
    "    def return_list(self, input_list):\n",
    "        return input_list\n",
    "    \n",
    "my_instance = MyClass()\n",
    "result = my_instance.return_list([1,2,3])\n",
    "print(result)"
   ]
  },
  {
   "cell_type": "markdown",
   "id": "8c34e3a3-0604-4525-97df-82439b547911",
   "metadata": {},
   "source": [
    "Create an instance of a class with an attribute."
   ]
  },
  {
   "cell_type": "code",
   "execution_count": 16,
   "id": "9744d553-d617-4a61-afbb-c97c73266b30",
   "metadata": {},
   "outputs": [
    {
     "name": "stdout",
     "output_type": "stream",
     "text": [
      "[1, 2, 3, 4, 5]\n"
     ]
    }
   ],
   "source": [
    "## Create a new class called MyList\n",
    "class MyList:\n",
    "\n",
    "    ## When an instance of this class is created, this \"initial_data\" argument is stored in the attribute \"self.data\"\n",
    "    def __init__(self, initial_data):\n",
    "        self.data = initial_data\n",
    "\n",
    "## Create an instance of the class MyList called my_list with the argument [1,2,3,4,5], which will be stored in the self.data attribute.\n",
    "my_list = MyList([1,2,3,4,5])\n",
    "    \n",
    "## Print the .data attribute of the my_list object (instance of the MyList class).\n",
    "print(my_list.data)"
   ]
  },
  {
   "cell_type": "markdown",
   "id": "20d07ca7-b093-4cba-a8d5-ef76afdc5de1",
   "metadata": {},
   "source": [
    "Create a method to append data in an instance of a class:"
   ]
  },
  {
   "cell_type": "code",
   "execution_count": 14,
   "id": "02b5bbd3-b463-4bd3-886b-eec93ffd41b2",
   "metadata": {},
   "outputs": [
    {
     "name": "stdout",
     "output_type": "stream",
     "text": [
      "[1, 2, 3, 4, 5]\n",
      "[1, 2, 3, 4, 5, 6]\n"
     ]
    }
   ],
   "source": [
    "class MyList:\n",
    "\n",
    "    def __init__(self, initial_data):\n",
    "        self.data = initial_data\n",
    "        \n",
    "    # Add method here\n",
    "    \n",
    "    def append(self, new_item):\n",
    "        self.data = self.data + [new_item]\n",
    "        \n",
    "my_list = MyList([1,2,3,4,5])\n",
    "print(my_list.data)\n",
    "my_list.append(6)\n",
    "print(my_list.data)"
   ]
  },
  {
   "cell_type": "markdown",
   "id": "e76e9bc4-2a25-4606-bf50-d0ee2e7ead02",
   "metadata": {},
   "source": [
    "Adding to the my_list object also increases its length attribute:"
   ]
  },
  {
   "cell_type": "code",
   "execution_count": 15,
   "id": "9d5afa62-6b5e-46fe-9dde-4dcfbb28836d",
   "metadata": {},
   "outputs": [
    {
     "name": "stdout",
     "output_type": "stream",
     "text": [
      "5\n",
      "6\n"
     ]
    }
   ],
   "source": [
    "class MyList:\n",
    "\n",
    "    def __init__(self, initial_data):\n",
    "        self.data = initial_data\n",
    "        # Calculate the initial length\n",
    "        self.length = 0\n",
    "        for item in self.data:\n",
    "            self.length += 1\n",
    "\n",
    "    def append(self, new_item):\n",
    "        self.data = self.data + [new_item]\n",
    "        # Update the length here\n",
    "        self.length += 1\n",
    "\n",
    "my_list = MyList([1,1,2,3,5])\n",
    "print(my_list.length)\n",
    "my_list.append(8)\n",
    "print(my_list.length)"
   ]
  },
  {
   "cell_type": "markdown",
   "id": "f501e72c-aafe-48ab-a96b-61c548f3bf05",
   "metadata": {},
   "source": [
    "## Working with Dates and Times in Python"
   ]
  },
  {
   "cell_type": "markdown",
   "id": "cd96e362-541f-4e54-adac-f38761aeccdb",
   "metadata": {},
   "source": [
    "Opening csv and removing first row:"
   ]
  },
  {
   "cell_type": "code",
   "execution_count": null,
   "id": "fe7b6485-aa2c-4495-ac27-1d7c9db2045a",
   "metadata": {},
   "outputs": [],
   "source": [
    "from csv import reader\n",
    "opened_file = open('potus_visitors_2015.csv')\n",
    "read_file = reader(opened_file)\n",
    "potus = list(read_file)\n",
    "\n",
    "potus = potus[1:]"
   ]
  },
  {
   "cell_type": "markdown",
   "id": "19f2f203-9991-4484-9368-18b56f8cb871",
   "metadata": {},
   "source": [
    "Importing a module as alias:"
   ]
  },
  {
   "cell_type": "code",
   "execution_count": null,
   "id": "b49e3ea1-3f87-4105-815b-1f60c2ddd354",
   "metadata": {},
   "outputs": [],
   "source": [
    "import datetime as dt"
   ]
  },
  {
   "cell_type": "markdown",
   "id": "49f88b33-ba00-4767-8cb8-ca86d5a5f244",
   "metadata": {},
   "source": [
    "Importing datetime as alias, then instantiating objects with datetime class:"
   ]
  },
  {
   "cell_type": "code",
   "execution_count": 1,
   "id": "dc92b5f3-23a5-491e-90c1-1a20fd8ead8b",
   "metadata": {},
   "outputs": [
    {
     "name": "stdout",
     "output_type": "stream",
     "text": [
      "2000-01-01 00:00:00\n",
      "<class 'datetime.datetime'>\n",
      "1985-03-13 21:26:02\n",
      "1998-07-07 08:39:00\n"
     ]
    }
   ],
   "source": [
    "## Import module with alias\n",
    "import datetime as dt\n",
    "\n",
    "# Create an object using the datetime function\n",
    "eg_1 = dt.datetime(2000, 1, 1)\n",
    "\n",
    "## Print the object to see it's value and type\n",
    "print(eg_1)\n",
    "print(type(eg_1))\n",
    "\n",
    "eg_2 = dt.datetime(1985,3,13,21,26,2)\n",
    "print(eg_2)\n",
    "\n",
    "eg_3 = dt.datetime(1998,7,7,8,39)\n",
    "print(eg_3)\n",
    "\n",
    "ibm_founded = dt.datetime(1911,6,16)\n",
    "man_on_moon = dt.datetime(1969,7,20,20,17)"
   ]
  },
  {
   "cell_type": "markdown",
   "id": "10e812a8-896f-4cb8-b9a8-a1c1e6958f08",
   "metadata": {},
   "source": [
    "Using strptime to parse date + time, then converting string to datetime class:"
   ]
  },
  {
   "cell_type": "code",
   "execution_count": null,
   "id": "cf5aff83-a530-49b2-8206-760519cee971",
   "metadata": {},
   "outputs": [],
   "source": [
    "date_format = \"%m/%d/%y %H:%M\"\n",
    "\n",
    "for row in potus:\n",
    "    start_date = row[2]\n",
    "    new_date = dt.datetime.strptime(start_date, date_format)\n",
    "    row[2] = new_date"
   ]
  },
  {
   "cell_type": "markdown",
   "id": "9af9c281-6a3e-4597-9fdf-1317a4c9b9a6",
   "metadata": {},
   "source": [
    "Creating a frequency table of dates from dataset:"
   ]
  },
  {
   "cell_type": "code",
   "execution_count": null,
   "id": "1124e3e7-7f88-4c9a-8a44-999f44447c94",
   "metadata": {},
   "outputs": [],
   "source": [
    "visitors_per_month = {}\n",
    "\n",
    "for row in potus:\n",
    "    start_date = row[2]\n",
    "    sdstring = dt.datetime.strftime(start_date, \"%B, %Y\")\n",
    "    if sdstring in visitors_per_month:\n",
    "        visitors_per_month[sdstring] += 1\n",
    "    else:\n",
    "        visitors_per_month[sdstring] = 1"
   ]
  },
  {
   "cell_type": "markdown",
   "id": "4a854351-a5f2-4716-90ed-099c88a8f576",
   "metadata": {},
   "source": [
    "Create a list of appointment times:"
   ]
  },
  {
   "cell_type": "code",
   "execution_count": null,
   "id": "bc81a8b1-135a-4328-a669-09b460ff908a",
   "metadata": {},
   "outputs": [],
   "source": [
    "appt_times = []\n",
    "\n",
    "for row in potus:\n",
    "    datetime = row[2]\n",
    "    time = datetime.time()\n",
    "    appt_times.append(time)"
   ]
  },
  {
   "cell_type": "markdown",
   "id": "cd13043d-2e36-408e-9aca-e811f8a6b258",
   "metadata": {},
   "source": [
    "Using datetime.timedelta:"
   ]
  },
  {
   "cell_type": "code",
   "execution_count": 2,
   "id": "07c5ecee-5bb1-45b7-8cf4-a22937885160",
   "metadata": {},
   "outputs": [
    {
     "name": "stdout",
     "output_type": "stream",
     "text": [
      "1244 days, 0:00:00\n",
      "2016-07-19 00:00:00\n",
      "2001-01-01 07:24:13\n"
     ]
    }
   ],
   "source": [
    "dt_1 = dt.datetime(1981, 1, 31)\n",
    "dt_2 = dt.datetime(1984, 6, 28)\n",
    "dt_3 = dt.datetime(2016, 5, 24)\n",
    "dt_4 = dt.datetime(2001, 1, 1, 8, 24, 13)\n",
    "\n",
    "answer_1 = dt_2 - dt_1\n",
    "print(answer_1)\n",
    "answer_2 = dt_3 + dt.timedelta(days=56)\n",
    "print(answer_2)\n",
    "answer_3 = dt_4 - dt.timedelta(seconds=3600)\n",
    "print(answer_3)"
   ]
  },
  {
   "cell_type": "markdown",
   "id": "341805b0-9141-4bf2-a8d8-09b53321634c",
   "metadata": {},
   "source": [
    "Find min and max appointment lengths:"
   ]
  },
  {
   "cell_type": "code",
   "execution_count": null,
   "id": "b328022e-8a20-4576-b7eb-2d155ba206c1",
   "metadata": {},
   "outputs": [],
   "source": [
    "appt_lengths = {}\n",
    "\n",
    "for row in potus:\n",
    "    end_date = row[3]\n",
    "    end_date = dt.datetime.strptime(end_date, \"%m/%d/%y %H:%M\")\n",
    "    row[3] = end_date\n",
    "\n",
    "for row in potus:\n",
    "    start_date = row[2]\n",
    "    end_date = row[3]\n",
    "    length = end_date - start_date\n",
    "    if length in appt_lengths:\n",
    "        appt_lengths[length] += 1\n",
    "    else:\n",
    "        appt_lengths[length] = 1\n",
    "\n",
    "min_length = min(appt_lengths)\n",
    "max_length = max(appt_lengths)\n",
    "\n",
    "print(min_length)\n",
    "print(max_length)"
   ]
  },
  {
   "cell_type": "markdown",
   "id": "a6313f40-eb8c-44ac-830c-2a8fa2139b96",
   "metadata": {},
   "source": [
    "## Guided Project: Exploring Hacker News Posts"
   ]
  },
  {
   "cell_type": "markdown",
   "id": "b928a34c-0d71-4844-a19a-fcfbd3ae5ac7",
   "metadata": {},
   "source": [
    "Please see separate notebook."
   ]
  }
 ],
 "metadata": {
  "kernelspec": {
   "display_name": "Python 3 (ipykernel)",
   "language": "python",
   "name": "python3"
  },
  "language_info": {
   "codemirror_mode": {
    "name": "ipython",
    "version": 3
   },
   "file_extension": ".py",
   "mimetype": "text/x-python",
   "name": "python",
   "nbconvert_exporter": "python",
   "pygments_lexer": "ipython3",
   "version": "3.10.8"
  }
 },
 "nbformat": 4,
 "nbformat_minor": 5
}
