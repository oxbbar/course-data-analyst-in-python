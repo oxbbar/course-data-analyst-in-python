{
 "cells": [
  {
   "cell_type": "markdown",
   "id": "9ac8b18b-0c6b-4c4f-b770-fb9674075554",
   "metadata": {},
   "source": [
    "## Data Cleaning Basics"
   ]
  },
  {
   "cell_type": "markdown",
   "id": "a7683ee6-d098-45e7-b2b0-8caa758a310a",
   "metadata": {},
   "source": [
    "Importing a csv using encoding:"
   ]
  },
  {
   "cell_type": "code",
   "execution_count": 51,
   "id": "5eada12d-5b85-4385-8167-c1242dcbe386",
   "metadata": {},
   "outputs": [
    {
     "name": "stdout",
     "output_type": "stream",
     "text": [
      "<class 'pandas.core.frame.DataFrame'>\n",
      "RangeIndex: 1303 entries, 0 to 1302\n",
      "Data columns (total 13 columns):\n",
      " #   Column                    Non-Null Count  Dtype \n",
      "---  ------                    --------------  ----- \n",
      " 0   Manufacturer              1303 non-null   object\n",
      " 1   Model Name                1303 non-null   object\n",
      " 2   Category                  1303 non-null   object\n",
      " 3   Screen Size               1303 non-null   object\n",
      " 4   Screen                    1303 non-null   object\n",
      " 5   CPU                       1303 non-null   object\n",
      " 6   RAM                       1303 non-null   object\n",
      " 7    Storage                  1303 non-null   object\n",
      " 8   GPU                       1303 non-null   object\n",
      " 9   Operating System          1303 non-null   object\n",
      " 10  Operating System Version  1133 non-null   object\n",
      " 11  Weight                    1303 non-null   object\n",
      " 12  Price (Euros)             1303 non-null   object\n",
      "dtypes: object(13)\n",
      "memory usage: 132.5+ KB\n"
     ]
    }
   ],
   "source": [
    "import pandas as pd\n",
    "laptops = pd.read_csv(\"laptops.csv\", encoding=\"Latin-1\")\n",
    "laptops.info()"
   ]
  },
  {
   "cell_type": "markdown",
   "id": "bc4d1f0c-6d81-4920-b017-5b127317d484",
   "metadata": {},
   "source": [
    "Cleaning whitespace from column names:"
   ]
  },
  {
   "cell_type": "code",
   "execution_count": 52,
   "id": "c9ba7368-68d0-40df-bc2e-5c5216dc1edc",
   "metadata": {},
   "outputs": [
    {
     "name": "stdout",
     "output_type": "stream",
     "text": [
      "Index(['Manufacturer', 'Model Name', 'Category', 'Screen Size', 'Screen',\n",
      "       'CPU', 'RAM', ' Storage', 'GPU', 'Operating System',\n",
      "       'Operating System Version', 'Weight', 'Price (Euros)'],\n",
      "      dtype='object')\n",
      "\n",
      "\n",
      "['Manufacturer', 'Model Name', 'Category', 'Screen Size', 'Screen', 'CPU', 'RAM', 'Storage', 'GPU', 'Operating System', 'Operating System Version', 'Weight', 'Price (Euros)']\n",
      "\n",
      "\n",
      "Index(['Manufacturer', 'Model Name', 'Category', 'Screen Size', 'Screen',\n",
      "       'CPU', 'RAM', 'Storage', 'GPU', 'Operating System',\n",
      "       'Operating System Version', 'Weight', 'Price (Euros)'],\n",
      "      dtype='object')\n"
     ]
    }
   ],
   "source": [
    "print(laptops.columns)\n",
    "\n",
    "new_columns = []\n",
    "\n",
    "for c in laptops.columns:\n",
    "    new_c = c.strip()\n",
    "    new_columns.append(new_c)\n",
    "    \n",
    "print(\"\\n\")\n",
    "print(new_columns)  \n",
    "\n",
    "laptops.columns = new_columns\n",
    "print(\"\\n\")\n",
    "print(laptops.columns)"
   ]
  },
  {
   "cell_type": "markdown",
   "id": "50c47a0f-e3e2-4b45-b6e3-1c9d3a1975a3",
   "metadata": {},
   "source": [
    "Defining a function to clean column names:"
   ]
  },
  {
   "cell_type": "code",
   "execution_count": 53,
   "id": "fe287eae-e6e6-4be9-903c-92e70b230903",
   "metadata": {},
   "outputs": [
    {
     "name": "stdout",
     "output_type": "stream",
     "text": [
      "Index(['manufacturer', 'model_name', 'category', 'screen_size', 'screen',\n",
      "       'cpu', 'ram', 'storage', 'gpu', 'os', 'os_version', 'weight',\n",
      "       'price_euros'],\n",
      "      dtype='object')\n"
     ]
    }
   ],
   "source": [
    "## define a function that cleans column names\n",
    "def columncleaner(col):\n",
    "    ## strips whitespace\n",
    "    col = col.strip()\n",
    "    ## replaces Operting System with os\n",
    "    col = col.replace(\"Operating System\",\"os\")\n",
    "    ## replaces whitespace with underscores\n",
    "    col = col.replace(\" \",\"_\")\n",
    "    ## remove parentheses\n",
    "    col = col.replace(\"(\",\"\")\n",
    "    col = col.replace(\")\",\"\")\n",
    "    ## makes the string lowercase\n",
    "    col = col.lower()\n",
    "    ## returns the modified string\n",
    "    return col\n",
    "\n",
    "cleaned_column_list = []\n",
    "\n",
    "## for each column name in the columns\n",
    "for c in laptops.columns:\n",
    "    ## apply the function to each column and return it as a new variable\n",
    "    cleaned_column = columncleaner(c)\n",
    "    ## assign this variable to the new columns list\n",
    "    cleaned_column_list.append(cleaned_column)\n",
    "    \n",
    "## update the laptops.columns with the new columns list values\n",
    "laptops.columns = cleaned_column_list\n",
    "print(laptops.columns)"
   ]
  },
  {
   "cell_type": "markdown",
   "id": "b1950ec3-e20a-4c44-8be1-74073c788c3c",
   "metadata": {},
   "source": [
    "Exploring data types in the headers:"
   ]
  },
  {
   "cell_type": "code",
   "execution_count": 54,
   "id": "61304ee2-579d-495f-ab99-b0c98adde76e",
   "metadata": {},
   "outputs": [
    {
     "name": "stdout",
     "output_type": "stream",
     "text": [
      "object\n",
      "['13.3\"' '15.6\"' '15.4\"' '14.0\"' '12.0\"' '11.6\"' '17.3\"' '10.1\"' '13.5\"'\n",
      " '12.5\"' '13.0\"' '18.4\"' '13.9\"' '12.3\"' '17.0\"' '15.0\"' '14.1\"' '11.3\"']\n",
      "['8GB' '16GB' '4GB' '2GB' '12GB' '6GB' '32GB' '24GB' '64GB']\n"
     ]
    }
   ],
   "source": [
    "print(laptops[\"screen_size\"].dtype)\n",
    "print(laptops[\"screen_size\"].unique())\n",
    "\n",
    "unique_ram = laptops[\"ram\"].unique()\n",
    "print(unique_ram)"
   ]
  },
  {
   "cell_type": "markdown",
   "id": "40ad0872-c03e-429a-850a-6fba17eb20de",
   "metadata": {},
   "source": [
    "Removing Non-Digit Characters:"
   ]
  },
  {
   "cell_type": "code",
   "execution_count": 55,
   "id": "bb922263-fb0a-4b7e-a153-3ccc9a601db1",
   "metadata": {},
   "outputs": [
    {
     "name": "stdout",
     "output_type": "stream",
     "text": [
      "['8' '16' '4' '2' '12' '6' '32' '24' '64']\n"
     ]
    }
   ],
   "source": [
    "laptops[\"ram\"] = laptops[\"ram\"].str.replace('GB','')\n",
    "unique_ram = laptops[\"ram\"].unique()\n",
    "print(unique_ram)"
   ]
  },
  {
   "cell_type": "markdown",
   "id": "afa1a0e1-53bc-42e3-bfdc-880c650fe15a",
   "metadata": {},
   "source": [
    "Converting Columns to Numeric Dtypes:"
   ]
  },
  {
   "cell_type": "code",
   "execution_count": 56,
   "id": "da43b127-94a1-459e-8267-b59a6a1acd26",
   "metadata": {},
   "outputs": [
    {
     "name": "stdout",
     "output_type": "stream",
     "text": [
      "manufacturer    object\n",
      "model_name      object\n",
      "category        object\n",
      "screen_size     object\n",
      "screen          object\n",
      "cpu             object\n",
      "ram              int32\n",
      "storage         object\n",
      "gpu             object\n",
      "os              object\n",
      "os_version      object\n",
      "weight          object\n",
      "price_euros     object\n",
      "dtype: object\n"
     ]
    }
   ],
   "source": [
    "laptops[\"ram\"] = laptops[\"ram\"].astype(int)\n",
    "dtypes = laptops.dtypes\n",
    "print(dtypes)"
   ]
  },
  {
   "cell_type": "markdown",
   "id": "32418c15-d1bf-4980-a78d-cfea90f9799b",
   "metadata": {},
   "source": [
    "Renaming Columns:"
   ]
  },
  {
   "cell_type": "code",
   "execution_count": 57,
   "id": "2bb937d5-c71d-48d5-bd28-a6885e9df8b3",
   "metadata": {},
   "outputs": [
    {
     "name": "stdout",
     "output_type": "stream",
     "text": [
      "count    1303.000000\n",
      "mean        8.382195\n",
      "std         5.084665\n",
      "min         2.000000\n",
      "25%         4.000000\n",
      "50%         8.000000\n",
      "75%         8.000000\n",
      "max        64.000000\n",
      "Name: ram_gb, dtype: float64\n"
     ]
    }
   ],
   "source": [
    "laptops.rename({\"ram\":\"ram_gb\"},axis=1,inplace=True)\n",
    "ram_gb_desc = laptops[\"ram_gb\"].describe()\n",
    "print(ram_gb_desc)"
   ]
  },
  {
   "cell_type": "markdown",
   "id": "e80c5345-2c90-4149-a433-2b8121b05b66",
   "metadata": {},
   "source": [
    "Extracting Values from Strings:"
   ]
  },
  {
   "cell_type": "code",
   "execution_count": 58,
   "id": "922034f9-0d42-4b71-8aa6-e28ff361ab59",
   "metadata": {},
   "outputs": [
    {
     "name": "stdout",
     "output_type": "stream",
     "text": [
      "Intel     722\n",
      "Nvidia    400\n",
      "AMD       180\n",
      "ARM         1\n",
      "Name: gpu_manufacturer, dtype: int64\n",
      "Intel      1240\n",
      "AMD          62\n",
      "Samsung       1\n",
      "Name: cpu_manufacturer, dtype: int64\n"
     ]
    }
   ],
   "source": [
    "laptops[\"gpu_manufacturer\"] = (laptops[\"gpu\"]\n",
    "                                       .str.split()\n",
    "                                       .str[0]\n",
    "                              )\n",
    "gpu_manufacturer_counts = laptops[\"gpu_manufacturer\"].value_counts()\n",
    "print(gpu_manufacturer_counts)\n",
    "\n",
    "laptops[\"cpu_manufacturer\"] = (laptops[\"cpu\"]\n",
    "                               .str.split()\n",
    "                               .str[0]\n",
    "                              )\n",
    "cpu_manufacturer_counts = laptops[\"cpu_manufacturer\"].value_counts()\n",
    "print(cpu_manufacturer_counts)"
   ]
  },
  {
   "cell_type": "markdown",
   "id": "dc0367db-ff51-435d-b339-afdf193659e7",
   "metadata": {},
   "source": [
    "Correcting Bad Values:"
   ]
  },
  {
   "cell_type": "code",
   "execution_count": 59,
   "id": "336dfca3-2f5d-4d55-89b7-4c1111dcecf0",
   "metadata": {},
   "outputs": [
    {
     "name": "stdout",
     "output_type": "stream",
     "text": [
      "Windows      1125\n",
      "No OS          66\n",
      "Linux          62\n",
      "Chrome OS      27\n",
      "macOS          13\n",
      "Mac OS          8\n",
      "Android         2\n",
      "Name: os, dtype: int64\n",
      "Windows      1125\n",
      "No OS          66\n",
      "Linux          62\n",
      "Chrome OS      27\n",
      "macOS          21\n",
      "Android         2\n",
      "Name: os, dtype: int64\n"
     ]
    }
   ],
   "source": [
    "print(laptops[\"os\"].value_counts())\n",
    "\n",
    "mapping_dict = {\n",
    "    'Android': 'Android',\n",
    "    'Chrome OS': 'Chrome OS',\n",
    "    'Linux': 'Linux',\n",
    "    'Mac OS': 'macOS',\n",
    "    'No OS': 'No OS',\n",
    "    'Windows': 'Windows',\n",
    "    'macOS': 'macOS'\n",
    "}\n",
    "\n",
    "laptops[\"os\"] = laptops[\"os\"].map(mapping_dict)\n",
    "print(laptops[\"os\"].value_counts())"
   ]
  },
  {
   "cell_type": "markdown",
   "id": "db6041eb-bdde-4fe3-b0f0-15d52341af13",
   "metadata": {},
   "source": [
    "Dropping Missing Values:"
   ]
  },
  {
   "cell_type": "code",
   "execution_count": 61,
   "id": "66ecd88b-d5dd-462b-89c1-7cd3ec839cd1",
   "metadata": {},
   "outputs": [
    {
     "name": "stdout",
     "output_type": "stream",
     "text": [
      "manufacturer          0\n",
      "model_name            0\n",
      "category              0\n",
      "screen_size           0\n",
      "screen                0\n",
      "cpu                   0\n",
      "ram_gb                0\n",
      "storage               0\n",
      "gpu                   0\n",
      "os                    0\n",
      "os_version          170\n",
      "weight                0\n",
      "price_euros           0\n",
      "gpu_manufacturer      0\n",
      "cpu_manufacturer      0\n",
      "dtype: int64\n",
      "\n",
      "\n",
      "manufacturer        0\n",
      "model_name          0\n",
      "category            0\n",
      "screen_size         0\n",
      "screen              0\n",
      "cpu                 0\n",
      "ram_gb              0\n",
      "storage             0\n",
      "gpu                 0\n",
      "os                  0\n",
      "os_version          0\n",
      "weight              0\n",
      "price_euros         0\n",
      "gpu_manufacturer    0\n",
      "cpu_manufacturer    0\n",
      "dtype: int64\n",
      "\n",
      "\n",
      "manufacturer        0\n",
      "model_name          0\n",
      "category            0\n",
      "screen_size         0\n",
      "screen              0\n",
      "cpu                 0\n",
      "ram_gb              0\n",
      "storage             0\n",
      "gpu                 0\n",
      "os                  0\n",
      "weight              0\n",
      "price_euros         0\n",
      "gpu_manufacturer    0\n",
      "cpu_manufacturer    0\n",
      "dtype: int64\n"
     ]
    }
   ],
   "source": [
    "print(laptops.isnull().sum())\n",
    "print('\\n')\n",
    "\n",
    "## removing rows with null values\n",
    "laptops_no_null_rows = laptops.dropna()\n",
    "print(laptops_no_null_rows.isnull().sum())\n",
    "print('\\n')\n",
    "\n",
    "## removing cols with null values\n",
    "laptops_no_null_cols = laptops.dropna(axis=1)\n",
    "print(laptops_no_null_cols.isnull().sum())"
   ]
  },
  {
   "cell_type": "markdown",
   "id": "35804295-7dab-4794-bc4d-0781878a8afd",
   "metadata": {},
   "source": [
    "Filling Missing Values:"
   ]
  },
  {
   "cell_type": "code",
   "execution_count": 62,
   "id": "fc3c1d72-8e04-4110-940c-6829c0be8a7b",
   "metadata": {},
   "outputs": [
    {
     "name": "stdout",
     "output_type": "stream",
     "text": [
      "No OS        66\n",
      "Linux        62\n",
      "Chrome OS    27\n",
      "macOS        13\n",
      "Android       2\n",
      "Name: os, dtype: int64\n",
      "\n",
      "\n",
      "Linux        62\n",
      "Chrome OS    27\n",
      "Android       2\n",
      "Name: os, dtype: int64\n"
     ]
    }
   ],
   "source": [
    "value_counts_before = laptops.loc[laptops[\"os_version\"].isnull(), \"os\"].value_counts()\n",
    "laptops.loc[laptops[\"os\"] == \"macOS\", \"os_version\"] = \"X\"\n",
    "\n",
    "## in the laptops df, where the row for os is \"No OS\", the \"os version\" changes to:\n",
    "laptops.loc[laptops[\"os\"] == \"No OS\",\"os_version\"] = \"Version Unknown\"\n",
    "\n",
    "## where the laptops \"os version\" is null, get a value count from the \"os\" column\n",
    "value_counts_after = laptops.loc[laptops[\"os_version\"].isnull(), \"os\"].value_counts()\n",
    "\n",
    "print(value_counts_before)\n",
    "print('\\n')\n",
    "print(value_counts_after)"
   ]
  },
  {
   "cell_type": "markdown",
   "id": "0ba39b85-e464-440c-abbe-f3d7e01634ef",
   "metadata": {},
   "source": [
    "Challenge: Clean a String Column:\n",
    "converting weight to a float and renaming the column:"
   ]
  },
  {
   "cell_type": "code",
   "execution_count": 63,
   "id": "154dc75a-8d80-4c66-9a04-af4855490b80",
   "metadata": {},
   "outputs": [
    {
     "name": "stdout",
     "output_type": "stream",
     "text": [
      "0       1.37\n",
      "1       1.34\n",
      "2       1.86\n",
      "3       1.83\n",
      "4       1.37\n",
      "        ... \n",
      "1298    1.80\n",
      "1299    1.30\n",
      "1300    1.50\n",
      "1301    2.19\n",
      "1302    2.20\n",
      "Name: weight_kg, Length: 1303, dtype: float64\n"
     ]
    }
   ],
   "source": [
    "def columncleaner(col):\n",
    "    col = col.replace(\"kgs\",\"\")\n",
    "    col = col.replace(\"kg\",\"\")\n",
    "    return col\n",
    "\n",
    "## rename the column\n",
    "laptops.rename({\"weight\":\"weight_kg\"},axis=1,inplace=True)\n",
    "\n",
    "## remove letters\n",
    "new_weights = []\n",
    "for w in laptops[\"weight_kg\"]:\n",
    "    w = columncleaner(w)\n",
    "    new_weights.append(w)\n",
    "laptops[\"weight_kg\"] = new_weights\n",
    "\n",
    "## change dtype\n",
    "laptops[\"weight_kg\"] = laptops[\"weight_kg\"].astype(float)\n",
    "\n",
    "print(laptops[\"weight_kg\"])\n",
    "\n",
    "laptops.to_csv(\"laptops_cleaned.csv\")"
   ]
  },
  {
   "cell_type": "markdown",
   "id": "2594e0dc-d5ac-4248-abf5-a26b512b2a60",
   "metadata": {},
   "source": [
    "## Guided Project: Exploring eBay Car Sales Data"
   ]
  },
  {
   "cell_type": "markdown",
   "id": "dbbd8180-e4b8-4f8e-9ec7-1068cd1e7053",
   "metadata": {},
   "source": [
    "Please see separate notebook."
   ]
  }
 ],
 "metadata": {
  "kernelspec": {
   "display_name": "Python 3 (ipykernel)",
   "language": "python",
   "name": "python3"
  },
  "language_info": {
   "codemirror_mode": {
    "name": "ipython",
    "version": 3
   },
   "file_extension": ".py",
   "mimetype": "text/x-python",
   "name": "python",
   "nbconvert_exporter": "python",
   "pygments_lexer": "ipython3",
   "version": "3.10.13"
  }
 },
 "nbformat": 4,
 "nbformat_minor": 5
}
