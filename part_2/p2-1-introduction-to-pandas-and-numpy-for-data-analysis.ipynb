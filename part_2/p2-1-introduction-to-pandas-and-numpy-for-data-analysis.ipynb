{
 "cells": [
  {
   "cell_type": "markdown",
   "id": "2a39f5ef-9f86-4170-9054-c8b679a2ffd9",
   "metadata": {
    "tags": []
   },
   "source": [
    "# Part 2.1: Introduction to Pandas and NumPy for Data Analysis"
   ]
  },
  {
   "cell_type": "markdown",
   "id": "db10622c-c7e8-4f16-a3e6-ae6c4e69b241",
   "metadata": {},
   "source": [
    "Unfortunately I am unable to include the datasets from Dataquest as they are a subscriber-only feature."
   ]
  },
  {
   "cell_type": "markdown",
   "id": "fae14bdb-8e0b-4a10-be35-593b4077aeaf",
   "metadata": {
    "tags": []
   },
   "source": [
    "## Introduction to NumPy"
   ]
  },
  {
   "cell_type": "markdown",
   "id": "c8f71abe-4b94-4402-9f0f-09e420d107c2",
   "metadata": {},
   "source": [
    "Importing the NumPy library and creating a NumPy ndarray:"
   ]
  },
  {
   "cell_type": "code",
   "execution_count": 2,
   "id": "cab91355-d597-4966-bc1f-e226a5fbf8dc",
   "metadata": {},
   "outputs": [],
   "source": [
    "import numpy as np\n",
    "data_ndarray = np.array([10, 20, 30])"
   ]
  },
  {
   "cell_type": "markdown",
   "id": "69a5d08b-6c89-41e4-b978-e6c236674989",
   "metadata": {},
   "source": [
    "Importing the nyc_taxis csv and converting to a NumPy array:"
   ]
  },
  {
   "cell_type": "code",
   "execution_count": 3,
   "id": "b689ae75-bb95-4b58-ad44-ea84672f0ef0",
   "metadata": {},
   "outputs": [],
   "source": [
    "from csv import reader\n",
    "opened_file = open(\"nyc_taxis.csv\", \"r\", encoding='UTF8')\n",
    "read_file = reader(opened_file)\n",
    "taxi_list = list(read_file)\n",
    "\n",
    "# remove the header row\n",
    "taxi_list = taxi_list[1:]\n",
    "\n",
    "# convert all values to floats\n",
    "converted_taxi_list = []\n",
    "for row in taxi_list:\n",
    "    converted_row = []\n",
    "    for item in row:\n",
    "        converted_row.append(float(item))\n",
    "    converted_taxi_list.append(converted_row)\n",
    "\n",
    "# start writing your code below this comment\n",
    "\n",
    "taxi = np.array(converted_taxi_list)"
   ]
  },
  {
   "cell_type": "markdown",
   "id": "8f65b7b3-3089-4219-b4c2-b235f39f7574",
   "metadata": {},
   "source": [
    "Querying the shape of arrays:"
   ]
  },
  {
   "cell_type": "code",
   "execution_count": 4,
   "id": "9215c122-1970-4e9e-8134-46ff214bc3a8",
   "metadata": {},
   "outputs": [
    {
     "name": "stdout",
     "output_type": "stream",
     "text": [
      "[[2.016e+03 1.000e+00 1.000e+00 ... 1.165e+01 6.999e+01 1.000e+00]\n",
      " [2.016e+03 1.000e+00 1.000e+00 ... 8.000e+00 5.430e+01 1.000e+00]\n",
      " [2.016e+03 1.000e+00 1.000e+00 ... 0.000e+00 3.780e+01 2.000e+00]\n",
      " ...\n",
      " [2.016e+03 6.000e+00 3.000e+01 ... 5.000e+00 6.334e+01 1.000e+00]\n",
      " [2.016e+03 6.000e+00 3.000e+01 ... 8.950e+00 4.475e+01 1.000e+00]\n",
      " [2.016e+03 6.000e+00 3.000e+01 ... 0.000e+00 5.484e+01 2.000e+00]]\n",
      "(2, 3)\n",
      "(2013, 15)\n"
     ]
    }
   ],
   "source": [
    "print(taxi)\n",
    "\n",
    "data_ndarray = np.array([[5, 10, 15],[20, 25, 30]])\n",
    "print(data_ndarray.shape)\n",
    "\n",
    "taxi_shape = taxi.shape\n",
    "print(taxi_shape)"
   ]
  },
  {
   "cell_type": "markdown",
   "id": "3b6bef66-f8d8-459f-a717-ddd4710a6cee",
   "metadata": {},
   "source": [
    "Selecting rows/items using NumPy ndarrays:"
   ]
  },
  {
   "cell_type": "code",
   "execution_count": 5,
   "id": "da0741aa-59a6-4d81-bb48-a8f806847fdb",
   "metadata": {},
   "outputs": [],
   "source": [
    "row_0 = taxi[0]\n",
    "\n",
    "rows_391_to_500 = taxi[391:501]\n",
    "\n",
    "row_21_column_5 = taxi[21,5]"
   ]
  },
  {
   "cell_type": "markdown",
   "id": "f2d806d2-92f5-40db-9a3c-f1c806036460",
   "metadata": {},
   "source": [
    "Selecting seprated columns/rows/items using NumPy ndarrays."
   ]
  },
  {
   "cell_type": "code",
   "execution_count": 6,
   "id": "4d05b796-c396-464b-95c8-db072ca6ae0d",
   "metadata": {},
   "outputs": [],
   "source": [
    "cols = [1,4,7]\n",
    "columns_1_4_7 = taxi[:,cols]\n",
    "\n",
    "row_99_columns_5_to_8 = taxi[99,5:9]\n",
    "\n",
    "rows_100_to_200_column_14 = taxi[100:201,14]"
   ]
  },
  {
   "cell_type": "markdown",
   "id": "6425982d-12a8-473c-9e92-2e2c15a82ed7",
   "metadata": {},
   "source": [
    "Vectorized operation:"
   ]
  },
  {
   "cell_type": "code",
   "execution_count": 7,
   "id": "a735e69d-6733-46a5-b912-532965812e23",
   "metadata": {},
   "outputs": [],
   "source": [
    "fare_amount = taxi[:,9]\n",
    "fees_amount = taxi[:,10]\n",
    "\n",
    "fare_and_fees = fare_amount + fees_amount"
   ]
  },
  {
   "cell_type": "markdown",
   "id": "2e85fb9c-6e55-48c1-a911-6f08aaa7692e",
   "metadata": {},
   "source": [
    "Vectorized operation:"
   ]
  },
  {
   "cell_type": "code",
   "execution_count": 8,
   "id": "5f0e2bdb-7f1f-4cb0-b20e-01539d5af549",
   "metadata": {},
   "outputs": [],
   "source": [
    "trip_distance_miles = taxi[:,7]\n",
    "trip_length_seconds = taxi[:,8]\n",
    "\n",
    "trip_length_hours = trip_length_seconds / 3600 # 3600 seconds is one hour\n",
    "\n",
    "trip_mph = trip_distance_miles / trip_length_hours"
   ]
  },
  {
   "cell_type": "markdown",
   "id": "998de376-8a66-46b9-bd6b-2414b2d53f44",
   "metadata": {},
   "source": [
    "Calculating statistics for 1D Ndarrays:"
   ]
  },
  {
   "cell_type": "code",
   "execution_count": 9,
   "id": "d6979b32-c346-469a-b4b0-ad3558fc050c",
   "metadata": {},
   "outputs": [],
   "source": [
    "mph_min = trip_mph.min()\n",
    "mph_max = trip_mph.max()\n",
    "mph_mean = trip_mph.mean()"
   ]
  },
  {
   "cell_type": "markdown",
   "id": "5cb7514d-f33c-4de0-b06b-230b132f5da4",
   "metadata": {},
   "source": [
    "Calculating statistics for 2D Ndarrays:"
   ]
  },
  {
   "cell_type": "code",
   "execution_count": 10,
   "id": "013481a6-59d2-41d9-90e1-91f1fc2a80f0",
   "metadata": {},
   "outputs": [
    {
     "name": "stdout",
     "output_type": "stream",
     "text": [
      "[69.99 54.3  37.8  32.76 18.8 ]\n",
      "[69.99 54.3  37.8  32.76 18.8 ]\n"
     ]
    }
   ],
   "source": [
    "# we'll compare against the first 5 rows only\n",
    "taxi_first_five = taxi[:5]\n",
    "# select these columns: fare_amount, fees_amount, tolls_amount, tip_amount\n",
    "fare_components = taxi_first_five[:,9:13]\n",
    "\n",
    "fare_sums = fare_components.sum(axis=1)\n",
    "\n",
    "fare_totals = taxi_first_five[:,13]\n",
    "\n",
    "print(fare_totals)\n",
    "print(fare_sums)"
   ]
  },
  {
   "cell_type": "markdown",
   "id": "e56ca2f2-4104-4983-8473-28155a93eeef",
   "metadata": {},
   "source": [
    "## Boolean Indexing with NumPy"
   ]
  },
  {
   "cell_type": "markdown",
   "id": "82cfaa63-cb74-46aa-a692-04fe8cc925ee",
   "metadata": {},
   "source": [
    "Generating NumPy Ndarrays direct from csv files:"
   ]
  },
  {
   "cell_type": "code",
   "execution_count": 16,
   "id": "59b24239-d58c-4368-a3b7-f60592bbe709",
   "metadata": {},
   "outputs": [
    {
     "name": "stdout",
     "output_type": "stream",
     "text": [
      "[['pickup_year' 'pickup_month' 'pickup_day' 'pickup_dayofweek'\n",
      "  'pickup_time' 'pickup_location_code' 'dropoff_location_code'\n",
      "  'trip_distance' 'trip_length' 'fare_amount' 'fees_amount'\n",
      "  'tolls_amount' 'tip_amount' 'total_amount' 'payment_type']\n",
      " ['2016' '1' '1' '5' '0' '2' '4' '21.00' '2037' '52.00' '0.80' '5.54'\n",
      "  '11.65' '69.99' '1']\n",
      " ['2016' '1' '1' '5' '0' '2' '1' '16.29' '1520' '45.00' '1.30' '0.00'\n",
      "  '8.00' '54.30' '1']]\n",
      "<U21\n",
      "(2014, 15)\n"
     ]
    }
   ],
   "source": [
    "import numpy as np\n",
    "np.set_printoptions(suppress=True) ## Added this separately as list items were appearing with scientific notation\n",
    "\n",
    "taxi = np.genfromtxt(\"nyc_taxis.csv\", delimiter=\",\", dtype=None, encoding=None)\n",
    "taxi_shape = taxi.shape\n",
    "\n",
    "print(taxi[:3])\n",
    "print(taxi.dtype)\n",
    "print(taxi_shape)"
   ]
  },
  {
   "cell_type": "markdown",
   "id": "3ad11ee3-4499-4c11-b171-f8a45d21a47f",
   "metadata": {},
   "source": [
    "genfromtxt, but skipping the header row:"
   ]
  },
  {
   "cell_type": "code",
   "execution_count": 17,
   "id": "106da352-9313-4c35-833d-38e162202a62",
   "metadata": {},
   "outputs": [
    {
     "name": "stdout",
     "output_type": "stream",
     "text": [
      "[[2016.      1.      1.      5.      0.      2.      4.     21.   2037.\n",
      "    52.      0.8     5.54   11.65   69.99    1.  ]\n",
      " [2016.      1.      1.      5.      0.      2.      1.     16.29 1520.\n",
      "    45.      1.3     0.      8.     54.3     1.  ]\n",
      " [2016.      1.      1.      5.      0.      2.      6.     12.7  1462.\n",
      "    36.5     1.3     0.      0.     37.8     2.  ]]\n",
      "float64\n",
      "(2013, 15)\n"
     ]
    }
   ],
   "source": [
    "taxi = np.genfromtxt(\"nyc_taxis.csv\", delimiter=\",\", skip_header=1)\n",
    "\n",
    "print(taxi[:3])\n",
    "print(taxi.dtype)\n",
    "taxi_shape = taxi.shape\n",
    "print(taxi_shape)"
   ]
  },
  {
   "cell_type": "markdown",
   "id": "8e10ac33-ffe3-4e8c-bb8a-a795331ccd2a",
   "metadata": {},
   "source": [
    "Boolean arrays:"
   ]
  },
  {
   "cell_type": "code",
   "execution_count": 19,
   "id": "ecf157b8-eca9-4294-b52f-69224e9cbedd",
   "metadata": {},
   "outputs": [
    {
     "name": "stdout",
     "output_type": "stream",
     "text": [
      "[ True  True False False False]\n",
      "[ True  True False  True]\n",
      "[False  True False  True]\n"
     ]
    }
   ],
   "source": [
    "a = np.array([1, 2, 3, 4, 5])\n",
    "b = np.array([\"blue\", \"blue\", \"red\", \"blue\"])\n",
    "c = np.array([80.0, 103.4, 96.9, 200.3])\n",
    "\n",
    "a_bool = a < 3\n",
    "print(a_bool)\n",
    "b_bool = b == \"blue\"\n",
    "print(b_bool)\n",
    "c_bool = c > 100\n",
    "print(c_bool)"
   ]
  },
  {
   "cell_type": "markdown",
   "id": "af1c7e1f-d78d-4858-a799-3a125655eaed",
   "metadata": {},
   "source": [
    "Using boolean arrays to determine number of rides:"
   ]
  },
  {
   "cell_type": "code",
   "execution_count": 21,
   "id": "e7802a80-0121-43b3-b871-4c8a2ecf2ec2",
   "metadata": {},
   "outputs": [
    {
     "name": "stdout",
     "output_type": "stream",
     "text": [
      "[1. 1. 1. 1.]\n",
      "2013\n",
      "[ True  True  True  True]\n",
      "2013\n",
      "[1. 1. 1. 1.]\n",
      "800\n",
      "176\n"
     ]
    }
   ],
   "source": [
    "## Create an 1D ndarray that is the first column from the taxis ndarray\n",
    "pickup_month = taxi[:,1]\n",
    "print(pickup_month[:4])\n",
    "print(len(pickup_month))\n",
    "      \n",
    "## Create a boolean array of whether the first column in pickup_month is 1\n",
    "january_bool = pickup_month == 1\n",
    "print(january_bool[:4])\n",
    "print(len(january_bool))\n",
    "      \n",
    "## Create a new array of pickup_month, filtered using the january_bool index, called january_bool\n",
    "january = pickup_month[january_bool]\n",
    "print(january[:4])\n",
    "\n",
    "## Check the length of the new array, after filtering\n",
    "january_rides = january.shape[0]\n",
    "print(january_rides)\n",
    "\n",
    "## for February\n",
    "february_bool = pickup_month == 2\n",
    "february = pickup_month[february_bool]\n",
    "february_rides = february.shape[0]\n",
    "\n",
    "print(february_rides)"
   ]
  },
  {
   "cell_type": "markdown",
   "id": "053c6743-69f1-42b5-a866-e61a750596ff",
   "metadata": {},
   "source": [
    "Boolean Indexing with 2D ndarrays:"
   ]
  },
  {
   "cell_type": "code",
   "execution_count": null,
   "id": "66f6cddc-05dd-403b-9c81-4be73c01eaed",
   "metadata": {},
   "outputs": [],
   "source": [
    "tip_amount = taxi[:,12]\n",
    "\n",
    "tip_bool = tip_amount > 50\n",
    "\n",
    "top_tips = taxi[tip_bool,5:14]\n",
    "print(top_tips)"
   ]
  },
  {
   "cell_type": "markdown",
   "id": "323b293b-2c62-4944-b9fc-6d40eccc63f3",
   "metadata": {},
   "source": [
    "Modifying values in an array:"
   ]
  },
  {
   "cell_type": "code",
   "execution_count": 26,
   "id": "1bf1b821-57a6-4e8a-8731-81359db5dc74",
   "metadata": {},
   "outputs": [
    {
     "name": "stdout",
     "output_type": "stream",
     "text": [
      "(2013, 15)\n",
      "[[   2.            1.           12.18       2300.        ]\n",
      " [   2.            6.           15.8        1824.        ]\n",
      " [   3.            4.           12.92477894 1074.        ]\n",
      " [   3.            4.           12.92477894  974.        ]\n",
      " [   2.            4.           20.02       1979.        ]\n",
      " [   3.            6.            3.8         572.        ]]\n"
     ]
    }
   ],
   "source": [
    "taxi_modified = taxi.copy()\n",
    "taxi_modified[1066:5] = 1\n",
    "taxi_modified[:,0] = 16\n",
    "taxi_modified[550:552,7] = taxi_modified[:,7].mean()\n",
    "\n",
    "print(taxi_modified.shape)\n",
    "print(taxi_modified[548:554,5:9])"
   ]
  },
  {
   "cell_type": "markdown",
   "id": "64915cbd-5034-4238-816c-21875a6e1dfb",
   "metadata": {},
   "source": [
    "Assigning values using boolean arrays:"
   ]
  },
  {
   "cell_type": "code",
   "execution_count": 27,
   "id": "2a495455-c5d0-489f-9b12-07e170454469",
   "metadata": {},
   "outputs": [],
   "source": [
    "taxi_copy = taxi.copy()\n",
    "\n",
    "## create a 1D array of values in the 14th column (index 13) of the taxi_copy array\n",
    "total_amount = taxi_copy[:,13]\n",
    "\n",
    "## modifying values in this array based on TRUE responses to a criteria\n",
    "total_amount[total_amount < 0] = 0"
   ]
  },
  {
   "cell_type": "markdown",
   "id": "c809ea28-b8f3-4d7e-9bce-ace71c1e6c40",
   "metadata": {},
   "source": []
  },
  {
   "cell_type": "code",
   "execution_count": 28,
   "id": "a8c225c2-8b72-4a73-b772-e943dc17ab79",
   "metadata": {},
   "outputs": [
    {
     "name": "stdout",
     "output_type": "stream",
     "text": [
      "[[2016.      1.      1.   ...   69.99    1.      0.  ]\n",
      " [2016.      1.      1.   ...   54.3     1.      0.  ]\n",
      " [2016.      1.      1.   ...   37.8     2.      0.  ]\n",
      " ...\n",
      " [2016.      6.     30.   ...   63.34    1.      0.  ]\n",
      " [2016.      6.     30.   ...   44.75    1.      0.  ]\n",
      " [2016.      6.     30.   ...   54.84    2.      0.  ]]\n",
      "\n",
      "\n",
      "[[2016.      1.      1.   ...   69.99    1.      1.  ]\n",
      " [2016.      1.      1.   ...   54.3     1.      1.  ]\n",
      " [2016.      1.      1.   ...   37.8     2.      1.  ]\n",
      " ...\n",
      " [2016.      6.     30.   ...   63.34    1.      1.  ]\n",
      " [2016.      6.     30.   ...   44.75    1.      1.  ]\n",
      " [2016.      6.     30.   ...   54.84    2.      1.  ]]\n"
     ]
    }
   ],
   "source": [
    "## bool = array[:, column_for_comparison] == value_for_comparison\n",
    "## array[bool, column_for_assignment] = new_value\n",
    "\n",
    "## create a new array based on the length of another\n",
    "## name of array (zeros) = an array full of zeroes (np.zeros), with number of rows equal to the number of rows in taxi (taxi.shape[0]), and 1 column ([1])\n",
    "zeros = np.zeros([taxi.shape[0],1])\n",
    "\n",
    "## new array = combination (np.concatenate) of the 'taxi' array, and the 'zeros' array, along the column axis(1)\n",
    "taxi_modified = np.concatenate([taxi,zeros],axis=1)\n",
    "print(taxi_modified)\n",
    "\n",
    "## longer method of assigning values:\n",
    "\n",
    "## jfk_bool is a boolean array of all rows based on if the values in the 6th column are equal to 2\n",
    "jfk_bool = taxi_modified[:, 5] == 2\n",
    "\n",
    "## modifying values in the taxi_modified 16th column to 0 based on the boolean\n",
    "## in the 'taxi_modified' array, 'rows equal to those with the True value' and 'column 16' = 1\n",
    "taxi_modified[jfk_bool,15] = 1\n",
    "\n",
    "## shorter methods:\n",
    "\n",
    "## in the 'taxi_modified' array, the rows chosen are:\n",
    "    ## a boolean array based on the 'taxi_modified' array where the value in the 6th column is 2 // taxi_modified[:, 5] == 2\n",
    "## the column chosen is the one at index 15 (16th column)\n",
    "## the new value is 1\n",
    "taxi_modified[taxi_modified[:, 5] == 2, 15] = 1\n",
    "\n",
    "taxi_modified[taxi_modified[:, 5] == 3, 15] = 1\n",
    "taxi_modified[taxi_modified[:, 5] == 5, 15] = 1\n",
    "print('\\n')\n",
    "print(taxi_modified)"
   ]
  },
  {
   "cell_type": "markdown",
   "id": "4d63f35e-6d42-4653-bd1c-3912a998a00d",
   "metadata": {},
   "source": [
    "Determining which airport had the highest number of flights inbound:"
   ]
  },
  {
   "cell_type": "code",
   "execution_count": 33,
   "id": "79e688d2-a708-48c4-a9dc-1b07aff7448d",
   "metadata": {},
   "outputs": [
    {
     "name": "stdout",
     "output_type": "stream",
     "text": [
      "<class 'int'>\n",
      "285\n",
      "308\n",
      "2\n"
     ]
    }
   ],
   "source": [
    "## jfk is an array based on the taxi array, with all the columns, but where the 7th column in the taxi array is 2\n",
    "jfk = taxi[taxi[:,6] == 2]\n",
    "\n",
    "## jfk_count is a value equal to the shape of the jfk array, on the 0(row) axis\n",
    "jfk_count = jfk.shape[0]\n",
    "print(type(jfk_count))\n",
    "print(jfk_count)\n",
    "\n",
    "laguardia = taxi[taxi[:,6] == 3]\n",
    "laguardia_count = laguardia.shape[0]\n",
    "print(laguardia_count)\n",
    "\n",
    "newark = taxi[taxi[:,6] == 5]\n",
    "newark_count = newark.shape[0]\n",
    "print(newark_count)"
   ]
  },
  {
   "cell_type": "markdown",
   "id": "b5901839-4f1a-4ea4-bec5-b4a86e0fe001",
   "metadata": {},
   "source": [
    "Calculating Statistics for Trips on Clean Data"
   ]
  },
  {
   "cell_type": "code",
   "execution_count": 35,
   "id": "8f4af877-9a23-4810-9fce-cd35870ec3ab",
   "metadata": {},
   "outputs": [
    {
     "name": "stdout",
     "output_type": "stream",
     "text": [
      "12.9 miles on average\n",
      "37.86 minutes on average\n",
      "48.7 dollars on average\n"
     ]
    }
   ],
   "source": [
    "trip_mph = taxi[:,7] / (taxi[:,8] / 3600)\n",
    "\n",
    "##cleaned_taxi is an array based on the taxi array, where the rows chosen are a boolean array based on whether trip_mph < 100,\n",
    "cleaned_taxi = taxi[trip_mph<100]\n",
    "\n",
    "## the mean_distance int is the mean of the values in the 8th column of the cleaned_taxi array\n",
    "mean_distance = cleaned_taxi[:,7].mean()\n",
    "print(round(mean_distance,2),\"miles on average\")\n",
    "\n",
    "mean_length = cleaned_taxi[:,8].mean() / 60\n",
    "print(round(mean_length,2),\"minutes on average\")\n",
    "\n",
    "mean_total_amount = cleaned_taxi[:,13].mean()\n",
    "print(round(mean_total_amount,2),\"dollars on average\")"
   ]
  },
  {
   "cell_type": "markdown",
   "id": "dc01d3e1-71ee-45bf-bcfc-c4efb3beb749",
   "metadata": {},
   "source": [
    "## Introduction to pandas"
   ]
  },
  {
   "cell_type": "markdown",
   "id": "3e5d5803-60ac-44fc-a276-1537f7ee63f3",
   "metadata": {},
   "source": [
    "Importing pandas, reading csvs into dataframes, determining the type and shape of dataframes:"
   ]
  },
  {
   "cell_type": "code",
   "execution_count": 67,
   "id": "1889c6d5-2f70-4b7a-9e11-25fcfe24db10",
   "metadata": {},
   "outputs": [
    {
     "name": "stdout",
     "output_type": "stream",
     "text": [
      "First two rows are:\n",
      "         rank  revenues  revenue_change  profits  assets  profit_change  \\\n",
      "Walmart     1    485873             0.8  13643.0  198825           -7.2   \n",
      "\n",
      "                         ceo               industry     sector  previous_rank  \\\n",
      "Walmart  C. Douglas McMillon  General Merchandisers  Retailing              1   \n",
      "\n",
      "        country      hq_location                 website  \\\n",
      "Walmart     USA  Bentonville, AR  http://www.walmart.com   \n",
      "\n",
      "         years_on_global_500_list  employees  total_stockholder_equity  \n",
      "Walmart                        23    2300000                     77798  \n",
      "\n",
      "\n",
      "Class is\n",
      "<class 'pandas.core.frame.DataFrame'>\n",
      "\n",
      "\n",
      "Shape is\n",
      "(500, 16)\n"
     ]
    }
   ],
   "source": [
    "import pandas as pd\n",
    "f500 = pd.read_csv('f500.csv',index_col=0)\n",
    "f500.index.name = None\n",
    "\n",
    "print(\"First two rows are:\")\n",
    "print(f500[:1])\n",
    "print('\\n')\n",
    "\n",
    "f500_type = type(f500)\n",
    "print(\"Class is\")\n",
    "print(f500_type)\n",
    "print('\\n')\n",
    "\n",
    "f500_shape = f500.shape\n",
    "print(\"Shape is\")\n",
    "print(f500_shape)"
   ]
  },
  {
   "cell_type": "markdown",
   "id": "ed0dabdc-efb5-4a9c-8df3-c7280e3e53f9",
   "metadata": {},
   "source": [
    "Printing head and tail of a dataframe:"
   ]
  },
  {
   "cell_type": "code",
   "execution_count": null,
   "id": "07462528-474e-4a5c-8b79-17eeca7a73cc",
   "metadata": {},
   "outputs": [],
   "source": [
    "f500_head = f500.head(6)\n",
    "print(f500_head)\n",
    "\n",
    "f500_tail = f500.tail(8)\n",
    "print(f500_tail)"
   ]
  },
  {
   "cell_type": "markdown",
   "id": "a03e6d98-0a8b-416c-81bf-3d40ca3493ed",
   "metadata": {},
   "source": [
    "Inspecting the information and data types in the dataframe:"
   ]
  },
  {
   "cell_type": "code",
   "execution_count": 69,
   "id": "d98ffbe7-4457-4adf-8287-8a213dbc53ce",
   "metadata": {},
   "outputs": [
    {
     "name": "stdout",
     "output_type": "stream",
     "text": [
      "<class 'pandas.core.frame.DataFrame'>\n",
      "Index: 500 entries, Walmart to AutoNation\n",
      "Data columns (total 16 columns):\n",
      " #   Column                    Non-Null Count  Dtype  \n",
      "---  ------                    --------------  -----  \n",
      " 0   rank                      500 non-null    int64  \n",
      " 1   revenues                  500 non-null    int64  \n",
      " 2   revenue_change            498 non-null    float64\n",
      " 3   profits                   499 non-null    float64\n",
      " 4   assets                    500 non-null    int64  \n",
      " 5   profit_change             436 non-null    float64\n",
      " 6   ceo                       500 non-null    object \n",
      " 7   industry                  500 non-null    object \n",
      " 8   sector                    500 non-null    object \n",
      " 9   previous_rank             500 non-null    int64  \n",
      " 10  country                   500 non-null    object \n",
      " 11  hq_location               500 non-null    object \n",
      " 12  website                   500 non-null    object \n",
      " 13  years_on_global_500_list  500 non-null    int64  \n",
      " 14  employees                 500 non-null    int64  \n",
      " 15  total_stockholder_equity  500 non-null    int64  \n",
      "dtypes: float64(3), int64(7), object(6)\n",
      "memory usage: 66.4+ KB\n"
     ]
    }
   ],
   "source": [
    "f500.info()"
   ]
  },
  {
   "cell_type": "markdown",
   "id": "7015266f-59de-4f1d-96ed-00cd4bb3af1c",
   "metadata": {},
   "source": [
    "Creating a series by selecting a specific column by name from a dataframe:"
   ]
  },
  {
   "cell_type": "code",
   "execution_count": 72,
   "id": "46132208-616b-47f0-bb1f-a47828972496",
   "metadata": {},
   "outputs": [
    {
     "name": "stdout",
     "output_type": "stream",
     "text": [
      "Walmart                                     General Merchandisers\n",
      "State Grid                                              Utilities\n",
      "Sinopec Group                                  Petroleum Refining\n",
      "China National Petroleum                       Petroleum Refining\n",
      "Toyota Motor                             Motor Vehicles and Parts\n",
      "                                               ...               \n",
      "Teva Pharmaceutical Industries                    Pharmaceuticals\n",
      "New China Life Insurance          Insurance: Life, Health (stock)\n",
      "Wm. Morrison Supermarkets                    Food and Drug Stores\n",
      "TUI                                               Travel Services\n",
      "AutoNation                                    Specialty Retailers\n",
      "Name: industry, Length: 500, dtype: object\n",
      "\n",
      "\n",
      "<class 'pandas.core.series.Series'>\n"
     ]
    }
   ],
   "source": [
    "industries=f500[\"industry\"]\n",
    "industries_type=type(industries)\n",
    "print(industries)\n",
    "print('\\n')\n",
    "print(industries_type)"
   ]
  },
  {
   "cell_type": "markdown",
   "id": "6b0cbfa1-dc31-4355-8dc0-51688abed05b",
   "metadata": {},
   "source": [
    "Selecting columns from a dataframe by label:"
   ]
  },
  {
   "cell_type": "code",
   "execution_count": 79,
   "id": "54b67704-a1d9-48ed-9727-4ba60ccf46e9",
   "metadata": {},
   "outputs": [
    {
     "name": "stdout",
     "output_type": "stream",
     "text": [
      "<class 'pandas.core.series.Series'>\n",
      "<class 'pandas.core.frame.DataFrame'>\n",
      "<class 'pandas.core.frame.DataFrame'>\n",
      "Walmart                       USA\n",
      "State Grid                  China\n",
      "Sinopec Group               China\n",
      "China National Petroleum    China\n",
      "Toyota Motor                Japan\n",
      "Name: country, dtype: object\n",
      "                          revenues  years_on_global_500_list\n",
      "Walmart                     485873                        23\n",
      "State Grid                  315199                        17\n",
      "Sinopec Group               267518                        19\n",
      "China National Petroleum    262573                        17\n",
      "Toyota Motor                254694                        23\n",
      "                                          ceo                  industry  \\\n",
      "Walmart                   C. Douglas McMillon     General Merchandisers   \n",
      "State Grid                            Kou Wei                 Utilities   \n",
      "Sinopec Group                       Wang Yupu        Petroleum Refining   \n",
      "China National Petroleum        Zhang Jianhua        Petroleum Refining   \n",
      "Toyota Motor                      Akio Toyoda  Motor Vehicles and Parts   \n",
      "\n",
      "                                          sector  \n",
      "Walmart                                Retailing  \n",
      "State Grid                                Energy  \n",
      "Sinopec Group                             Energy  \n",
      "China National Petroleum                  Energy  \n",
      "Toyota Motor              Motor Vehicles & Parts  \n"
     ]
    }
   ],
   "source": [
    "## A single series only needs [\"\"]\n",
    "countries = f500[\"country\"]\n",
    "\n",
    "## Multiple columns requires [[\"\",\"\"]]\n",
    "revenues_years = f500[[\"revenues\",\"years_on_global_500_list\"]]\n",
    "\n",
    "## A slice of columns requires .loc[:,\"\":\"\"]\n",
    "ceo_to_sector = f500.loc[:,\"ceo\":\"sector\"]\n",
    "\n",
    "print(type(countries))\n",
    "print(type(revenues_years))\n",
    "print(type(ceo_to_sector))\n",
    "print(countries.head())\n",
    "print(revenues_years.head())\n",
    "print(ceo_to_sector.head())"
   ]
  },
  {
   "cell_type": "markdown",
   "id": "f64019f7-f68a-479e-a067-cd8976c305f6",
   "metadata": {},
   "source": [
    "Selecting rows from a dataFrame by label:"
   ]
  },
  {
   "cell_type": "code",
   "execution_count": 80,
   "id": "72e9e27b-3520-464b-a582-f36b1b2e5bff",
   "metadata": {},
   "outputs": [
    {
     "name": "stdout",
     "output_type": "stream",
     "text": [
      "<class 'pandas.core.series.Series'>\n",
      "rank                                                   5\n",
      "revenues                                          254694\n",
      "revenue_change                                       7.7\n",
      "profits                                          16899.3\n",
      "assets                                            437575\n",
      "profit_change                                      -12.3\n",
      "ceo                                          Akio Toyoda\n",
      "industry                        Motor Vehicles and Parts\n",
      "sector                            Motor Vehicles & Parts\n",
      "previous_rank                                          8\n",
      "country                                            Japan\n",
      "hq_location                                Toyota, Japan\n",
      "website                     http://www.toyota-global.com\n",
      "years_on_global_500_list                              23\n",
      "employees                                         364445\n",
      "total_stockholder_equity                          157210\n",
      "Name: Toyota Motor, dtype: object\n",
      "<class 'pandas.core.frame.DataFrame'>\n",
      "                      rank  revenues  revenue_change  profits  assets  \\\n",
      "Anheuser-Busch InBev   206     45905             5.3   1241.0  258381   \n",
      "Coca-Cola              235     41863            -5.5   6527.0   87270   \n",
      "Heineken Holding       468     23044            -0.7    861.5   41469   \n",
      "\n",
      "                      profit_change                        ceo   industry  \\\n",
      "Anheuser-Busch InBev          -85.0               Carlos Brito  Beverages   \n",
      "Coca-Cola                     -11.2           James B. Quincey  Beverages   \n",
      "Heineken Holding              -18.9  Jean-Francois van Boxmeer  Beverages   \n",
      "\n",
      "                                         sector  previous_rank      country  \\\n",
      "Anheuser-Busch InBev  Food, Beverages & Tobacco            211      Belgium   \n",
      "Coca-Cola             Food, Beverages & Tobacco            206          USA   \n",
      "Heineken Holding      Food, Beverages & Tobacco            459  Netherlands   \n",
      "\n",
      "                                 hq_location  \\\n",
      "Anheuser-Busch InBev         Leuven, Belgium   \n",
      "Coca-Cola                        Atlanta, GA   \n",
      "Heineken Holding      Amsterdam, Netherlands   \n",
      "\n",
      "                                                website  \\\n",
      "Anheuser-Busch InBev            http://www.ab-inbev.com   \n",
      "Coca-Cola               http://www.coca-colacompany.com   \n",
      "Heineken Holding      http://www.theheinekencompany.com   \n",
      "\n",
      "                      years_on_global_500_list  employees  \\\n",
      "Anheuser-Busch InBev                        12     206633   \n",
      "Coca-Cola                                   23     100300   \n",
      "Heineken Holding                            11      73525   \n",
      "\n",
      "                      total_stockholder_equity  \n",
      "Anheuser-Busch InBev                     71339  \n",
      "Coca-Cola                                23062  \n",
      "Heineken Holding                          6958  \n",
      "<class 'pandas.core.frame.DataFrame'>\n",
      "                                 rank  revenues  revenue_change  profits  \\\n",
      "Tata Motors                       247     40329            -4.2   1111.6   \n",
      "Aluminum Corp. of China           248     40278             6.0   -282.5   \n",
      "Mitsui                            249     40275             1.6   2825.3   \n",
      "Manulife Financial                250     40238            49.4   2209.7   \n",
      "China Minsheng Banking            251     40234            -5.2   7201.6   \n",
      "China Pacific Insurance (Group)   252     40193             2.2   1814.9   \n",
      "American Airlines Group           253     40180            -2.0   2676.0   \n",
      "Nationwide                        254     40074            -0.4    334.3   \n",
      "\n",
      "                                 assets  profit_change                   ceo  \\\n",
      "Tata Motors                       42162          -34.0      Guenter Butschek   \n",
      "Aluminum Corp. of China           75089            NaN              Yu Dehui   \n",
      "Mitsui                           103231            NaN       Tatsuo Yasunaga   \n",
      "Manulife Financial               537461           28.9     Donald A. Guloien   \n",
      "China Minsheng Banking           848389           -1.8         Zheng Wanchun   \n",
      "China Pacific Insurance (Group)  146873          -35.7          Huo Lianhong   \n",
      "American Airlines Group           51274          -64.8     W. Douglas Parker   \n",
      "Nationwide                       197790          -42.4  Stephen S. Rasmussen   \n",
      "\n",
      "                                                                  industry  \\\n",
      "Tata Motors                                       Motor Vehicles and Parts   \n",
      "Aluminum Corp. of China                                             Metals   \n",
      "Mitsui                                                             Trading   \n",
      "Manulife Financial                         Insurance: Life, Health (stock)   \n",
      "China Minsheng Banking                       Banks: Commercial and Savings   \n",
      "China Pacific Insurance (Group)            Insurance: Life, Health (stock)   \n",
      "American Airlines Group                                           Airlines   \n",
      "Nationwide                       Insurance: Property and Casualty (Mutual)   \n",
      "\n",
      "                                                 sector  previous_rank country  \n",
      "Tata Motors                      Motor Vehicles & Parts            226   India  \n",
      "Aluminum Corp. of China                       Materials            262   China  \n",
      "Mitsui                                      Wholesalers            245   Japan  \n",
      "Manulife Financial                           Financials            394  Canada  \n",
      "China Minsheng Banking                       Financials            221   China  \n",
      "China Pacific Insurance (Group)              Financials            251   China  \n",
      "American Airlines Group                  Transportation            236     USA  \n",
      "Nationwide                                   Financials            241     USA  \n"
     ]
    }
   ],
   "source": [
    "## Syntax to select rows and columns from a dataframe:\n",
    "## df.loc[row_label, column_label]\n",
    "\n",
    "## selecting a single row\n",
    "toyota = f500.loc[\"Toyota Motor\"]\n",
    "print(type(toyota))\n",
    "print(toyota)\n",
    "\n",
    "## select a list of rows\n",
    "drink_companies = f500.loc[[\"Anheuser-Busch InBev\", \"Coca-Cola\", \"Heineken Holding\"]]\n",
    "print(type(drink_companies))\n",
    "print(drink_companies)\n",
    "\n",
    "## select a slice object with labels\n",
    "middle_companies = f500.loc[\"Tata Motors\":\"Nationwide\",\"rank\":\"country\"]\n",
    "print(type(middle_companies))\n",
    "print(middle_companies)"
   ]
  },
  {
   "cell_type": "markdown",
   "id": "c28a5a69-549c-4cb7-b2e4-52ba1cb64cd1",
   "metadata": {},
   "source": [
    "Using value counts:"
   ]
  },
  {
   "cell_type": "code",
   "execution_count": 81,
   "id": "35456c4a-8017-446b-b8a5-c9d53a579393",
   "metadata": {},
   "outputs": [
    {
     "name": "stdout",
     "output_type": "stream",
     "text": [
      "USA             132\n",
      "China           109\n",
      "Japan            51\n",
      "Germany          29\n",
      "France           29\n",
      "Britain          24\n",
      "South Korea      15\n",
      "Netherlands      14\n",
      "Switzerland      14\n",
      "Canada           11\n",
      "Spain             9\n",
      "Australia         7\n",
      "Brazil            7\n",
      "India             7\n",
      "Italy             7\n",
      "Taiwan            6\n",
      "Russia            4\n",
      "Ireland           4\n",
      "Singapore         3\n",
      "Sweden            3\n",
      "Mexico            2\n",
      "Malaysia          1\n",
      "Thailand          1\n",
      "Belgium           1\n",
      "Norway            1\n",
      "Luxembourg        1\n",
      "Indonesia         1\n",
      "Denmark           1\n",
      "Saudi Arabia      1\n",
      "Finland           1\n",
      "Venezuela         1\n",
      "Turkey            1\n",
      "U.A.E             1\n",
      "Israel            1\n",
      "Name: country, dtype: int64\n",
      "<class 'pandas.core.series.Series'>\n"
     ]
    }
   ],
   "source": [
    "countries = f500[\"country\"]\n",
    "country_counts = countries.value_counts()\n",
    "print(country_counts)\n",
    "print(type(country_counts))"
   ]
  },
  {
   "cell_type": "markdown",
   "id": "46f84644-7d4f-485d-a862-e6fe587b4354",
   "metadata": {},
   "source": [
    "Selecting items from a series by label:"
   ]
  },
  {
   "cell_type": "code",
   "execution_count": 82,
   "id": "cbe66158-a4e2-4b07-990b-1816a917372b",
   "metadata": {},
   "outputs": [
    {
     "name": "stdout",
     "output_type": "stream",
     "text": [
      "7\n",
      "\n",
      "\n",
      "USA       132\n",
      "Canada     11\n",
      "Mexico      2\n",
      "Name: country, dtype: int64\n"
     ]
    }
   ],
   "source": [
    "countries = f500['country']\n",
    "countries_counts = countries.value_counts()\n",
    "\n",
    "india = countries_counts[\"India\"]\n",
    "north_america = countries_counts[[\"USA\",\"Canada\",\"Mexico\"]]\n",
    "\n",
    "print(india)\n",
    "print('\\n')\n",
    "print(north_america)"
   ]
  },
  {
   "cell_type": "markdown",
   "id": "c3c567ea-1abc-4b7d-94d0-5943deb6fefc",
   "metadata": {},
   "source": [
    "Practising:"
   ]
  },
  {
   "cell_type": "code",
   "execution_count": 83,
   "id": "de00eb62-a245-4549-b19b-2ba2eed3ee0f",
   "metadata": {},
   "outputs": [
    {
     "name": "stdout",
     "output_type": "stream",
     "text": [
      "              rank  previous_rank\n",
      "Aviva           90            279\n",
      "HP             194             48\n",
      "JD.com         261            366\n",
      "BHP Billiton   350            168\n",
      "                                       rank              sector  country\n",
      "National Grid                           491              Energy  Britain\n",
      "Dollar General                          492           Retailing      USA\n",
      "Telecom Italia                          493  Telecommunications    Italy\n",
      "Xiamen ITG Holding Group                494         Wholesalers    China\n",
      "Xinjiang Guanghui Industry Investment   495         Wholesalers    China\n"
     ]
    }
   ],
   "source": [
    "big_movers = f500.loc[[\"Aviva\",\"HP\",\"JD.com\",\"BHP Billiton\"],[\"rank\",\"previous_rank\"]]\n",
    "print(big_movers.head())\n",
    "bottom_companies = f500.loc[\"National Grid\":\"AutoNation\",[\"rank\",\"sector\",\"country\"]]\n",
    "print(bottom_companies.head())"
   ]
  },
  {
   "cell_type": "markdown",
   "id": "f501e72c-aafe-48ab-a96b-61c548f3bf05",
   "metadata": {},
   "source": [
    "## Exploring Data with Pandas: Fundamentals"
   ]
  },
  {
   "cell_type": "markdown",
   "id": "cd96e362-541f-4e54-adac-f38761aeccdb",
   "metadata": {},
   "source": []
  },
  {
   "cell_type": "code",
   "execution_count": null,
   "id": "dc92b5f3-23a5-491e-90c1-1a20fd8ead8b",
   "metadata": {},
   "outputs": [],
   "source": []
  },
  {
   "cell_type": "markdown",
   "id": "a6313f40-eb8c-44ac-830c-2a8fa2139b96",
   "metadata": {},
   "source": [
    "## Exploring Data with Pandas: Intermediate"
   ]
  },
  {
   "cell_type": "markdown",
   "id": "b928a34c-0d71-4844-a19a-fcfbd3ae5ac7",
   "metadata": {},
   "source": []
  },
  {
   "cell_type": "code",
   "execution_count": null,
   "id": "7dea0494-1cfd-43f4-a1ce-9dc0e617029c",
   "metadata": {},
   "outputs": [],
   "source": []
  },
  {
   "cell_type": "markdown",
   "id": "9ac8b18b-0c6b-4c4f-b770-fb9674075554",
   "metadata": {},
   "source": [
    "## Data Cleaning Basics"
   ]
  },
  {
   "cell_type": "markdown",
   "id": "a7683ee6-d098-45e7-b2b0-8caa758a310a",
   "metadata": {},
   "source": []
  },
  {
   "cell_type": "code",
   "execution_count": null,
   "id": "5eada12d-5b85-4385-8167-c1242dcbe386",
   "metadata": {},
   "outputs": [],
   "source": []
  },
  {
   "cell_type": "markdown",
   "id": "2594e0dc-d5ac-4248-abf5-a26b512b2a60",
   "metadata": {},
   "source": [
    "## Guided Project: Exploring eBay Car Sales Data"
   ]
  },
  {
   "cell_type": "markdown",
   "id": "dbbd8180-e4b8-4f8e-9ec7-1068cd1e7053",
   "metadata": {},
   "source": []
  },
  {
   "cell_type": "code",
   "execution_count": null,
   "id": "89d9f962-1b2f-43d4-a4f9-804921285fb8",
   "metadata": {},
   "outputs": [],
   "source": []
  }
 ],
 "metadata": {
  "kernelspec": {
   "display_name": "Python 3 (ipykernel)",
   "language": "python",
   "name": "python3"
  },
  "language_info": {
   "codemirror_mode": {
    "name": "ipython",
    "version": 3
   },
   "file_extension": ".py",
   "mimetype": "text/x-python",
   "name": "python",
   "nbconvert_exporter": "python",
   "pygments_lexer": "ipython3",
   "version": "3.10.8"
  }
 },
 "nbformat": 4,
 "nbformat_minor": 5
}
